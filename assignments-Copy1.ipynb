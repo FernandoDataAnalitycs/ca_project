{
 "cells": [
  {
   "cell_type": "code",
   "execution_count": 1,
   "id": "05ee561b",
   "metadata": {},
   "outputs": [],
   "source": [
    "import pandas as pd \n",
    "import numpy as np \n",
    "import seaborn as sns \n",
    "from scipy import stats \n",
    "import matplotlib.pyplot as plt\n",
    "from empiricaldist import Pmf , Cdf\n",
    "from matplotlib.ticker import PercentFormatter\n",
    "\n",
    "import warnings\n",
    "warnings.filterwarnings(\"ignore\")"
   ]
  },
  {
   "cell_type": "code",
   "execution_count": 2,
   "id": "6acfdec9",
   "metadata": {},
   "outputs": [],
   "source": [
    "df_fnie = pd.read_csv(\"FNA08_foreign_nationals_in_employment.csv\")# fnie = foreign nationals in employment"
   ]
  },
  {
   "cell_type": "code",
   "execution_count": 3,
   "id": "910b61b8",
   "metadata": {},
   "outputs": [
    {
     "data": {
      "text/html": [
       "<div>\n",
       "<style scoped>\n",
       "    .dataframe tbody tr th:only-of-type {\n",
       "        vertical-align: middle;\n",
       "    }\n",
       "\n",
       "    .dataframe tbody tr th {\n",
       "        vertical-align: top;\n",
       "    }\n",
       "\n",
       "    .dataframe thead th {\n",
       "        text-align: right;\n",
       "    }\n",
       "</style>\n",
       "<table border=\"1\" class=\"dataframe\">\n",
       "  <thead>\n",
       "    <tr style=\"text-align: right;\">\n",
       "      <th></th>\n",
       "      <th>Statistic Label</th>\n",
       "      <th>Broad Nationality Group</th>\n",
       "      <th>Sex</th>\n",
       "      <th>Industry Sector NACE Rev 2</th>\n",
       "      <th>Year</th>\n",
       "      <th>UNIT</th>\n",
       "      <th>VALUE</th>\n",
       "    </tr>\n",
       "  </thead>\n",
       "  <tbody>\n",
       "    <tr>\n",
       "      <th>0</th>\n",
       "      <td>Foreign Nationals in Employment</td>\n",
       "      <td>All nationalities</td>\n",
       "      <td>Both sexes</td>\n",
       "      <td>Agriculture, forestry and fishing (A)</td>\n",
       "      <td>2005</td>\n",
       "      <td>Number</td>\n",
       "      <td>5116.0</td>\n",
       "    </tr>\n",
       "    <tr>\n",
       "      <th>1</th>\n",
       "      <td>Foreign Nationals in Employment</td>\n",
       "      <td>All nationalities</td>\n",
       "      <td>Both sexes</td>\n",
       "      <td>Agriculture, forestry and fishing (A)</td>\n",
       "      <td>2006</td>\n",
       "      <td>Number</td>\n",
       "      <td>6032.0</td>\n",
       "    </tr>\n",
       "    <tr>\n",
       "      <th>2</th>\n",
       "      <td>Foreign Nationals in Employment</td>\n",
       "      <td>All nationalities</td>\n",
       "      <td>Both sexes</td>\n",
       "      <td>Agriculture, forestry and fishing (A)</td>\n",
       "      <td>2007</td>\n",
       "      <td>Number</td>\n",
       "      <td>6705.0</td>\n",
       "    </tr>\n",
       "    <tr>\n",
       "      <th>3</th>\n",
       "      <td>Foreign Nationals in Employment</td>\n",
       "      <td>All nationalities</td>\n",
       "      <td>Both sexes</td>\n",
       "      <td>Agriculture, forestry and fishing (A)</td>\n",
       "      <td>2008</td>\n",
       "      <td>Number</td>\n",
       "      <td>6863.0</td>\n",
       "    </tr>\n",
       "    <tr>\n",
       "      <th>4</th>\n",
       "      <td>Foreign Nationals in Employment</td>\n",
       "      <td>All nationalities</td>\n",
       "      <td>Both sexes</td>\n",
       "      <td>Agriculture, forestry and fishing (A)</td>\n",
       "      <td>2009</td>\n",
       "      <td>Number</td>\n",
       "      <td>6154.0</td>\n",
       "    </tr>\n",
       "  </tbody>\n",
       "</table>\n",
       "</div>"
      ],
      "text/plain": [
       "                   Statistic Label Broad Nationality Group         Sex  \\\n",
       "0  Foreign Nationals in Employment       All nationalities  Both sexes   \n",
       "1  Foreign Nationals in Employment       All nationalities  Both sexes   \n",
       "2  Foreign Nationals in Employment       All nationalities  Both sexes   \n",
       "3  Foreign Nationals in Employment       All nationalities  Both sexes   \n",
       "4  Foreign Nationals in Employment       All nationalities  Both sexes   \n",
       "\n",
       "              Industry Sector NACE Rev 2  Year    UNIT   VALUE  \n",
       "0  Agriculture, forestry and fishing (A)  2005  Number  5116.0  \n",
       "1  Agriculture, forestry and fishing (A)  2006  Number  6032.0  \n",
       "2  Agriculture, forestry and fishing (A)  2007  Number  6705.0  \n",
       "3  Agriculture, forestry and fishing (A)  2008  Number  6863.0  \n",
       "4  Agriculture, forestry and fishing (A)  2009  Number  6154.0  "
      ]
     },
     "execution_count": 3,
     "metadata": {},
     "output_type": "execute_result"
    }
   ],
   "source": [
    "df_fnie.head()"
   ]
  },
  {
   "cell_type": "code",
   "execution_count": 4,
   "id": "17c532b2",
   "metadata": {
    "scrolled": true
   },
   "outputs": [
    {
     "name": "stdout",
     "output_type": "stream",
     "text": [
      "CHECKING the shape:  (6762, 7)\n",
      "\n",
      " CHECKING NULL values :\n",
      " Statistic Label                object\n",
      "Broad Nationality Group        object\n",
      "Sex                            object\n",
      "Industry Sector NACE Rev 2     object\n",
      "Year                            int64\n",
      "UNIT                           object\n",
      "VALUE                         float64\n",
      "dtype: object\n",
      "\n",
      " COUNT is :\n",
      " Statistic Label               6762\n",
      "Broad Nationality Group       6762\n",
      "Sex                           6762\n",
      "Industry Sector NACE Rev 2    6762\n",
      "Year                          6762\n",
      "UNIT                          6762\n",
      "VALUE                         6401\n",
      "dtype: int64\n",
      "\n",
      " CHECKING NULL values :\n",
      " Statistic Label                 0\n",
      "Broad Nationality Group         0\n",
      "Sex                             0\n",
      "Industry Sector NACE Rev 2      0\n",
      "Year                            0\n",
      "UNIT                            0\n",
      "VALUE                         361\n",
      "dtype: int64\n"
     ]
    }
   ],
   "source": [
    "print(\"CHECKING the shape: \",df_fnie.shape)#Checking shape\n",
    "print(\"\\n CHECKING NULL values :\\n\",df_fnie.dtypes)#checking data types\n",
    "#print(\"\\n Check info:\\n\",df_fnie.info)# checking info\n",
    "print(\"\\n COUNT is :\\n\",df_fnie.count() )#count rows\n",
    "print(\"\\n CHECKING NULL values :\\n\",df_fnie.isnull().sum())#checking null values"
   ]
  },
  {
   "cell_type": "code",
   "execution_count": 5,
   "id": "d93c6e56",
   "metadata": {
    "scrolled": true
   },
   "outputs": [],
   "source": [
    "df_fnie.drop(['Statistic Label', 'UNIT'], axis=1,inplace=True)"
   ]
  },
  {
   "cell_type": "code",
   "execution_count": 6,
   "id": "c7a76383",
   "metadata": {},
   "outputs": [],
   "source": [
    "df_fnie.rename(columns = {'Broad Nationality Group':'nationality_group','VALUE':'value','Sex':'sex',\n",
    "                          'Industry Sector NACE Rev 2':'field_of_study','Year':'year'}, \n",
    "                            inplace = True) #Changing column names"
   ]
  },
  {
   "cell_type": "code",
   "execution_count": 7,
   "id": "888b006a",
   "metadata": {},
   "outputs": [],
   "source": [
    "df_fnie[\"value\"].fillna(0, inplace = True)"
   ]
  },
  {
   "cell_type": "code",
   "execution_count": 8,
   "id": "9815c79a",
   "metadata": {},
   "outputs": [
    {
     "name": "stdout",
     "output_type": "stream",
     "text": [
      "CHECKING NULL in column value : 0\n"
     ]
    }
   ],
   "source": [
    "print(\"CHECKING NULL in column value :\",df_fnie['value'].isnull().sum())#checking null values"
   ]
  },
  {
   "cell_type": "code",
   "execution_count": 9,
   "id": "aa2c7521",
   "metadata": {},
   "outputs": [],
   "source": [
    "df_fnie['value'] = df_fnie['value'].astype(int) # changing type to int"
   ]
  },
  {
   "cell_type": "code",
   "execution_count": 10,
   "id": "74d50bbc",
   "metadata": {},
   "outputs": [],
   "source": [
    "from sklearn.preprocessing import LabelEncoder\n",
    "\n",
    "cols = ['nationality_group', 'sex', 'field_of_study']# cloumns to encode\n",
    "\n",
    "df_fnie[cols] = df_fnie[cols].apply(LabelEncoder().fit_transform)# apply encoder before using model"
   ]
  },
  {
   "cell_type": "code",
   "execution_count": 11,
   "id": "5897ae3c",
   "metadata": {
    "scrolled": true
   },
   "outputs": [
    {
     "data": {
      "text/html": [
       "<div>\n",
       "<style scoped>\n",
       "    .dataframe tbody tr th:only-of-type {\n",
       "        vertical-align: middle;\n",
       "    }\n",
       "\n",
       "    .dataframe tbody tr th {\n",
       "        vertical-align: top;\n",
       "    }\n",
       "\n",
       "    .dataframe thead th {\n",
       "        text-align: right;\n",
       "    }\n",
       "</style>\n",
       "<table border=\"1\" class=\"dataframe\">\n",
       "  <thead>\n",
       "    <tr style=\"text-align: right;\">\n",
       "      <th></th>\n",
       "      <th>nationality_group</th>\n",
       "      <th>sex</th>\n",
       "      <th>field_of_study</th>\n",
       "      <th>year</th>\n",
       "      <th>value</th>\n",
       "    </tr>\n",
       "  </thead>\n",
       "  <tbody>\n",
       "    <tr>\n",
       "      <th>0</th>\n",
       "      <td>0</td>\n",
       "      <td>0</td>\n",
       "      <td>4</td>\n",
       "      <td>2005</td>\n",
       "      <td>5116</td>\n",
       "    </tr>\n",
       "    <tr>\n",
       "      <th>1</th>\n",
       "      <td>0</td>\n",
       "      <td>0</td>\n",
       "      <td>4</td>\n",
       "      <td>2006</td>\n",
       "      <td>6032</td>\n",
       "    </tr>\n",
       "    <tr>\n",
       "      <th>2</th>\n",
       "      <td>0</td>\n",
       "      <td>0</td>\n",
       "      <td>4</td>\n",
       "      <td>2007</td>\n",
       "      <td>6705</td>\n",
       "    </tr>\n",
       "    <tr>\n",
       "      <th>3</th>\n",
       "      <td>0</td>\n",
       "      <td>0</td>\n",
       "      <td>4</td>\n",
       "      <td>2008</td>\n",
       "      <td>6863</td>\n",
       "    </tr>\n",
       "    <tr>\n",
       "      <th>4</th>\n",
       "      <td>0</td>\n",
       "      <td>0</td>\n",
       "      <td>4</td>\n",
       "      <td>2009</td>\n",
       "      <td>6154</td>\n",
       "    </tr>\n",
       "  </tbody>\n",
       "</table>\n",
       "</div>"
      ],
      "text/plain": [
       "   nationality_group  sex  field_of_study  year  value\n",
       "0                  0    0               4  2005   5116\n",
       "1                  0    0               4  2006   6032\n",
       "2                  0    0               4  2007   6705\n",
       "3                  0    0               4  2008   6863\n",
       "4                  0    0               4  2009   6154"
      ]
     },
     "execution_count": 11,
     "metadata": {},
     "output_type": "execute_result"
    }
   ],
   "source": [
    "df_fnie.head()"
   ]
  },
  {
   "cell_type": "code",
   "execution_count": 12,
   "id": "963366eb",
   "metadata": {},
   "outputs": [
    {
     "data": {
      "text/plain": [
       "((6762, 4), (6762,), (4733, 4), (2029, 4), (4733,), (2029,))"
      ]
     },
     "execution_count": 12,
     "metadata": {},
     "output_type": "execute_result"
    }
   ],
   "source": [
    "# import train_test_split from the library sklearn\n",
    "from sklearn.model_selection import train_test_split\n",
    "\n",
    "# Declare a variable named as 'X' and 'y'\n",
    "X = df_fnie.iloc[:, :-1].values               # All features (independent varaibles) except MEDV \n",
    "y = df_fnie['value'].values                    # Target variable\n",
    "\n",
    "# Split the data into 70% and 30% by using a parameter test_size = 30\n",
    "X_train, X_test, y_train, y_test = train_test_split(X, y, test_size = 0.3, random_state = 0)\n",
    "\n",
    "# Display the size of the rows and columns\n",
    "X.shape, y.shape, X_train.shape, X_test.shape, y_train.shape, y_test.shape"
   ]
  },
  {
   "cell_type": "code",
   "execution_count": 13,
   "id": "ecf0cad0",
   "metadata": {},
   "outputs": [
    {
     "data": {
      "text/html": [
       "<div>\n",
       "<style scoped>\n",
       "    .dataframe tbody tr th:only-of-type {\n",
       "        vertical-align: middle;\n",
       "    }\n",
       "\n",
       "    .dataframe tbody tr th {\n",
       "        vertical-align: top;\n",
       "    }\n",
       "\n",
       "    .dataframe thead th {\n",
       "        text-align: right;\n",
       "    }\n",
       "</style>\n",
       "<table border=\"1\" class=\"dataframe\">\n",
       "  <thead>\n",
       "    <tr style=\"text-align: right;\">\n",
       "      <th></th>\n",
       "      <th>nationality_group</th>\n",
       "      <th>sex</th>\n",
       "      <th>field_of_study</th>\n",
       "      <th>year</th>\n",
       "      <th>value</th>\n",
       "    </tr>\n",
       "  </thead>\n",
       "  <tbody>\n",
       "    <tr>\n",
       "      <th>0</th>\n",
       "      <td>0</td>\n",
       "      <td>0</td>\n",
       "      <td>4</td>\n",
       "      <td>2005</td>\n",
       "      <td>5116</td>\n",
       "    </tr>\n",
       "    <tr>\n",
       "      <th>1</th>\n",
       "      <td>0</td>\n",
       "      <td>0</td>\n",
       "      <td>4</td>\n",
       "      <td>2006</td>\n",
       "      <td>6032</td>\n",
       "    </tr>\n",
       "    <tr>\n",
       "      <th>2</th>\n",
       "      <td>0</td>\n",
       "      <td>0</td>\n",
       "      <td>4</td>\n",
       "      <td>2007</td>\n",
       "      <td>6705</td>\n",
       "    </tr>\n",
       "    <tr>\n",
       "      <th>3</th>\n",
       "      <td>0</td>\n",
       "      <td>0</td>\n",
       "      <td>4</td>\n",
       "      <td>2008</td>\n",
       "      <td>6863</td>\n",
       "    </tr>\n",
       "    <tr>\n",
       "      <th>4</th>\n",
       "      <td>0</td>\n",
       "      <td>0</td>\n",
       "      <td>4</td>\n",
       "      <td>2009</td>\n",
       "      <td>6154</td>\n",
       "    </tr>\n",
       "  </tbody>\n",
       "</table>\n",
       "</div>"
      ],
      "text/plain": [
       "   nationality_group  sex  field_of_study  year  value\n",
       "0                  0    0               4  2005   5116\n",
       "1                  0    0               4  2006   6032\n",
       "2                  0    0               4  2007   6705\n",
       "3                  0    0               4  2008   6863\n",
       "4                  0    0               4  2009   6154"
      ]
     },
     "execution_count": 13,
     "metadata": {},
     "output_type": "execute_result"
    }
   ],
   "source": [
    "df_fnie.head()"
   ]
  },
  {
   "cell_type": "code",
   "execution_count": 14,
   "id": "4ee0df8a",
   "metadata": {},
   "outputs": [
    {
     "data": {
      "text/html": [
       "<style>#sk-container-id-1 {color: black;background-color: white;}#sk-container-id-1 pre{padding: 0;}#sk-container-id-1 div.sk-toggleable {background-color: white;}#sk-container-id-1 label.sk-toggleable__label {cursor: pointer;display: block;width: 100%;margin-bottom: 0;padding: 0.3em;box-sizing: border-box;text-align: center;}#sk-container-id-1 label.sk-toggleable__label-arrow:before {content: \"▸\";float: left;margin-right: 0.25em;color: #696969;}#sk-container-id-1 label.sk-toggleable__label-arrow:hover:before {color: black;}#sk-container-id-1 div.sk-estimator:hover label.sk-toggleable__label-arrow:before {color: black;}#sk-container-id-1 div.sk-toggleable__content {max-height: 0;max-width: 0;overflow: hidden;text-align: left;background-color: #f0f8ff;}#sk-container-id-1 div.sk-toggleable__content pre {margin: 0.2em;color: black;border-radius: 0.25em;background-color: #f0f8ff;}#sk-container-id-1 input.sk-toggleable__control:checked~div.sk-toggleable__content {max-height: 200px;max-width: 100%;overflow: auto;}#sk-container-id-1 input.sk-toggleable__control:checked~label.sk-toggleable__label-arrow:before {content: \"▾\";}#sk-container-id-1 div.sk-estimator input.sk-toggleable__control:checked~label.sk-toggleable__label {background-color: #d4ebff;}#sk-container-id-1 div.sk-label input.sk-toggleable__control:checked~label.sk-toggleable__label {background-color: #d4ebff;}#sk-container-id-1 input.sk-hidden--visually {border: 0;clip: rect(1px 1px 1px 1px);clip: rect(1px, 1px, 1px, 1px);height: 1px;margin: -1px;overflow: hidden;padding: 0;position: absolute;width: 1px;}#sk-container-id-1 div.sk-estimator {font-family: monospace;background-color: #f0f8ff;border: 1px dotted black;border-radius: 0.25em;box-sizing: border-box;margin-bottom: 0.5em;}#sk-container-id-1 div.sk-estimator:hover {background-color: #d4ebff;}#sk-container-id-1 div.sk-parallel-item::after {content: \"\";width: 100%;border-bottom: 1px solid gray;flex-grow: 1;}#sk-container-id-1 div.sk-label:hover label.sk-toggleable__label {background-color: #d4ebff;}#sk-container-id-1 div.sk-serial::before {content: \"\";position: absolute;border-left: 1px solid gray;box-sizing: border-box;top: 0;bottom: 0;left: 50%;z-index: 0;}#sk-container-id-1 div.sk-serial {display: flex;flex-direction: column;align-items: center;background-color: white;padding-right: 0.2em;padding-left: 0.2em;position: relative;}#sk-container-id-1 div.sk-item {position: relative;z-index: 1;}#sk-container-id-1 div.sk-parallel {display: flex;align-items: stretch;justify-content: center;background-color: white;position: relative;}#sk-container-id-1 div.sk-item::before, #sk-container-id-1 div.sk-parallel-item::before {content: \"\";position: absolute;border-left: 1px solid gray;box-sizing: border-box;top: 0;bottom: 0;left: 50%;z-index: -1;}#sk-container-id-1 div.sk-parallel-item {display: flex;flex-direction: column;z-index: 1;position: relative;background-color: white;}#sk-container-id-1 div.sk-parallel-item:first-child::after {align-self: flex-end;width: 50%;}#sk-container-id-1 div.sk-parallel-item:last-child::after {align-self: flex-start;width: 50%;}#sk-container-id-1 div.sk-parallel-item:only-child::after {width: 0;}#sk-container-id-1 div.sk-dashed-wrapped {border: 1px dashed gray;margin: 0 0.4em 0.5em 0.4em;box-sizing: border-box;padding-bottom: 0.4em;background-color: white;}#sk-container-id-1 div.sk-label label {font-family: monospace;font-weight: bold;display: inline-block;line-height: 1.2em;}#sk-container-id-1 div.sk-label-container {text-align: center;}#sk-container-id-1 div.sk-container {/* jupyter's `normalize.less` sets `[hidden] { display: none; }` but bootstrap.min.css set `[hidden] { display: none !important; }` so we also need the `!important` here to be able to override the default hidden behavior on the sphinx rendered scikit-learn.org. See: https://github.com/scikit-learn/scikit-learn/issues/21755 */display: inline-block !important;position: relative;}#sk-container-id-1 div.sk-text-repr-fallback {display: none;}</style><div id=\"sk-container-id-1\" class=\"sk-top-container\"><div class=\"sk-text-repr-fallback\"><pre>RandomForestRegressor(max_depth=8, max_features=&#x27;sqrt&#x27;, n_estimators=500,\n",
       "                      random_state=10)</pre><b>In a Jupyter environment, please rerun this cell to show the HTML representation or trust the notebook. <br />On GitHub, the HTML representation is unable to render, please try loading this page with nbviewer.org.</b></div><div class=\"sk-container\" hidden><div class=\"sk-item\"><div class=\"sk-estimator sk-toggleable\"><input class=\"sk-toggleable__control sk-hidden--visually\" id=\"sk-estimator-id-1\" type=\"checkbox\" checked><label for=\"sk-estimator-id-1\" class=\"sk-toggleable__label sk-toggleable__label-arrow\">RandomForestRegressor</label><div class=\"sk-toggleable__content\"><pre>RandomForestRegressor(max_depth=8, max_features=&#x27;sqrt&#x27;, n_estimators=500,\n",
       "                      random_state=10)</pre></div></div></div></div></div>"
      ],
      "text/plain": [
       "RandomForestRegressor(max_depth=8, max_features='sqrt', n_estimators=500,\n",
       "                      random_state=10)"
      ]
     },
     "execution_count": 14,
     "metadata": {},
     "output_type": "execute_result"
    }
   ],
   "source": [
    "from sklearn.ensemble import RandomForestRegressor\n",
    "\n",
    "rf = RandomForestRegressor(n_estimators = 500, max_features = 'sqrt', max_depth = 8, random_state = 10)\n",
    "\n",
    "rf.fit(X_train, y_train)"
   ]
  },
  {
   "cell_type": "code",
   "execution_count": 15,
   "id": "85963981",
   "metadata": {},
   "outputs": [],
   "source": [
    "y_pred = rf.predict(X_test)"
   ]
  },
  {
   "cell_type": "code",
   "execution_count": 16,
   "id": "0f9a2376",
   "metadata": {},
   "outputs": [
    {
     "data": {
      "text/plain": [
       "array([62687.91569801,   838.63073816,   850.7269632 , ...,\n",
       "         407.01929327,  2815.48977113,  1252.65846113])"
      ]
     },
     "execution_count": 16,
     "metadata": {},
     "output_type": "execute_result"
    }
   ],
   "source": [
    "y_pred"
   ]
  },
  {
   "cell_type": "code",
   "execution_count": 17,
   "id": "eda5f1f6",
   "metadata": {},
   "outputs": [
    {
     "name": "stdout",
     "output_type": "stream",
     "text": [
      "Accuracy: 0.906250281357968\n"
     ]
    }
   ],
   "source": [
    "from sklearn.metrics import r2_score\n",
    "\n",
    "print(\"Accuracy:\",r2_score(y_test,y_pred))\n"
   ]
  },
  {
   "cell_type": "code",
   "execution_count": 18,
   "id": "9ddfe377",
   "metadata": {},
   "outputs": [],
   "source": [
    "from sklearn.preprocessing import StandardScaler\n",
    "sc = StandardScaler()\n",
    "\n",
    "st_train_x = sc.fit_transform(X_train)\n",
    "st_test_x = sc.transform(X_test)"
   ]
  },
  {
   "cell_type": "code",
   "execution_count": 19,
   "id": "86b336af",
   "metadata": {},
   "outputs": [
    {
     "data": {
      "text/plain": [
       "array([   28,   656,   923, ...,     0, 10833,   794])"
      ]
     },
     "execution_count": 19,
     "metadata": {},
     "output_type": "execute_result"
    }
   ],
   "source": [
    "y_train"
   ]
  },
  {
   "cell_type": "code",
   "execution_count": 20,
   "id": "43fd562e",
   "metadata": {},
   "outputs": [
    {
     "name": "stdout",
     "output_type": "stream",
     "text": [
      "Accuracy in SVR train is:  702251750.9691151\n",
      "Accuracy in SVC =  -4.81\n"
     ]
    }
   ],
   "source": [
    "from sklearn.svm import SVR\n",
    "from sklearn import metrics\n",
    "\n",
    "# Initialize model\n",
    "svr_model = SVR(kernel='rbf',shrinking=False,C = 2, gamma = 0.2,epsilon=0.2)\n",
    "\n",
    "# Train the model by calling a method fit()\n",
    "svr_model.fit(X_train, y_train)\n",
    "\n",
    "Y_pred_train = svr_model.predict(X_test)\n",
    "\n",
    "print('Accuracy in SVR train is: ',metrics.mean_squared_error(y_test, Y_pred_train))\n",
    "print('Accuracy in SVC = ', round(metrics.r2_score(y_test, Y_pred_train)*100,2))\n",
    "#scores_regr = metrics.mean_squared_error(y_true, y_pred)"
   ]
  },
  {
   "cell_type": "code",
   "execution_count": 134,
   "id": "28754d09",
   "metadata": {},
   "outputs": [
    {
     "name": "stdout",
     "output_type": "stream",
     "text": [
      "Fitting 5 folds for each of 96 candidates, totalling 480 fits\n",
      "[CV 1/5] END C=1.5, epsilon=0.1, gamma=0.1, kernel=linear;, score=-0.057 total time=   0.2s\n",
      "[CV 2/5] END C=1.5, epsilon=0.1, gamma=0.1, kernel=linear;, score=-0.055 total time=   0.2s\n",
      "[CV 3/5] END C=1.5, epsilon=0.1, gamma=0.1, kernel=linear;, score=-0.038 total time=   0.2s\n",
      "[CV 4/5] END C=1.5, epsilon=0.1, gamma=0.1, kernel=linear;, score=-0.061 total time=   0.2s\n",
      "[CV 5/5] END C=1.5, epsilon=0.1, gamma=0.1, kernel=linear;, score=-0.047 total time=   0.2s\n",
      "[CV 1/5] END C=1.5, epsilon=0.1, gamma=0.1, kernel=rbf;, score=-0.056 total time=   0.3s\n",
      "[CV 2/5] END C=1.5, epsilon=0.1, gamma=0.1, kernel=rbf;, score=-0.054 total time=   0.3s\n",
      "[CV 3/5] END C=1.5, epsilon=0.1, gamma=0.1, kernel=rbf;, score=-0.039 total time=   0.3s\n",
      "[CV 4/5] END C=1.5, epsilon=0.1, gamma=0.1, kernel=rbf;, score=-0.063 total time=   0.3s\n",
      "[CV 5/5] END C=1.5, epsilon=0.1, gamma=0.1, kernel=rbf;, score=-0.048 total time=   0.3s\n",
      "[CV 1/5] END C=1.5, epsilon=0.1, gamma=0.2, kernel=linear;, score=-0.057 total time=   0.2s\n",
      "[CV 2/5] END C=1.5, epsilon=0.1, gamma=0.2, kernel=linear;, score=-0.055 total time=   0.2s\n",
      "[CV 3/5] END C=1.5, epsilon=0.1, gamma=0.2, kernel=linear;, score=-0.038 total time=   0.2s\n",
      "[CV 4/5] END C=1.5, epsilon=0.1, gamma=0.2, kernel=linear;, score=-0.061 total time=   0.2s\n",
      "[CV 5/5] END C=1.5, epsilon=0.1, gamma=0.2, kernel=linear;, score=-0.047 total time=   0.2s\n",
      "[CV 1/5] END C=1.5, epsilon=0.1, gamma=0.2, kernel=rbf;, score=-0.056 total time=   0.3s\n",
      "[CV 2/5] END C=1.5, epsilon=0.1, gamma=0.2, kernel=rbf;, score=-0.054 total time=   0.3s\n",
      "[CV 3/5] END C=1.5, epsilon=0.1, gamma=0.2, kernel=rbf;, score=-0.039 total time=   0.3s\n",
      "[CV 4/5] END C=1.5, epsilon=0.1, gamma=0.2, kernel=rbf;, score=-0.063 total time=   0.3s\n",
      "[CV 5/5] END C=1.5, epsilon=0.1, gamma=0.2, kernel=rbf;, score=-0.048 total time=   0.3s\n",
      "[CV 1/5] END C=1.5, epsilon=0.1, gamma=0.3, kernel=linear;, score=-0.057 total time=   0.2s\n",
      "[CV 2/5] END C=1.5, epsilon=0.1, gamma=0.3, kernel=linear;, score=-0.055 total time=   0.2s\n",
      "[CV 3/5] END C=1.5, epsilon=0.1, gamma=0.3, kernel=linear;, score=-0.038 total time=   0.2s\n",
      "[CV 4/5] END C=1.5, epsilon=0.1, gamma=0.3, kernel=linear;, score=-0.061 total time=   0.2s\n",
      "[CV 5/5] END C=1.5, epsilon=0.1, gamma=0.3, kernel=linear;, score=-0.047 total time=   0.2s\n",
      "[CV 1/5] END C=1.5, epsilon=0.1, gamma=0.3, kernel=rbf;, score=-0.056 total time=   0.3s\n",
      "[CV 2/5] END C=1.5, epsilon=0.1, gamma=0.3, kernel=rbf;, score=-0.054 total time=   0.3s\n",
      "[CV 3/5] END C=1.5, epsilon=0.1, gamma=0.3, kernel=rbf;, score=-0.039 total time=   0.3s\n",
      "[CV 4/5] END C=1.5, epsilon=0.1, gamma=0.3, kernel=rbf;, score=-0.063 total time=   0.3s\n",
      "[CV 5/5] END C=1.5, epsilon=0.1, gamma=0.3, kernel=rbf;, score=-0.048 total time=   0.4s\n",
      "[CV 1/5] END C=1.5, epsilon=0.1, gamma=0.4, kernel=linear;, score=-0.057 total time=   0.2s\n",
      "[CV 2/5] END C=1.5, epsilon=0.1, gamma=0.4, kernel=linear;, score=-0.055 total time=   0.2s\n",
      "[CV 3/5] END C=1.5, epsilon=0.1, gamma=0.4, kernel=linear;, score=-0.038 total time=   0.2s\n",
      "[CV 4/5] END C=1.5, epsilon=0.1, gamma=0.4, kernel=linear;, score=-0.061 total time=   0.2s\n",
      "[CV 5/5] END C=1.5, epsilon=0.1, gamma=0.4, kernel=linear;, score=-0.047 total time=   0.2s\n",
      "[CV 1/5] END C=1.5, epsilon=0.1, gamma=0.4, kernel=rbf;, score=-0.056 total time=   0.3s\n",
      "[CV 2/5] END C=1.5, epsilon=0.1, gamma=0.4, kernel=rbf;, score=-0.054 total time=   0.3s\n",
      "[CV 3/5] END C=1.5, epsilon=0.1, gamma=0.4, kernel=rbf;, score=-0.039 total time=   0.3s\n",
      "[CV 4/5] END C=1.5, epsilon=0.1, gamma=0.4, kernel=rbf;, score=-0.063 total time=   0.3s\n",
      "[CV 5/5] END C=1.5, epsilon=0.1, gamma=0.4, kernel=rbf;, score=-0.048 total time=   0.3s\n",
      "[CV 1/5] END C=1.5, epsilon=0.2, gamma=0.1, kernel=linear;, score=-0.057 total time=   0.2s\n",
      "[CV 2/5] END C=1.5, epsilon=0.2, gamma=0.1, kernel=linear;, score=-0.055 total time=   0.2s\n",
      "[CV 3/5] END C=1.5, epsilon=0.2, gamma=0.1, kernel=linear;, score=-0.038 total time=   0.2s\n",
      "[CV 4/5] END C=1.5, epsilon=0.2, gamma=0.1, kernel=linear;, score=-0.061 total time=   0.2s\n",
      "[CV 5/5] END C=1.5, epsilon=0.2, gamma=0.1, kernel=linear;, score=-0.047 total time=   0.2s\n",
      "[CV 1/5] END C=1.5, epsilon=0.2, gamma=0.1, kernel=rbf;, score=-0.056 total time=   0.3s\n",
      "[CV 2/5] END C=1.5, epsilon=0.2, gamma=0.1, kernel=rbf;, score=-0.054 total time=   0.3s\n",
      "[CV 3/5] END C=1.5, epsilon=0.2, gamma=0.1, kernel=rbf;, score=-0.039 total time=   0.3s\n",
      "[CV 4/5] END C=1.5, epsilon=0.2, gamma=0.1, kernel=rbf;, score=-0.063 total time=   0.3s\n",
      "[CV 5/5] END C=1.5, epsilon=0.2, gamma=0.1, kernel=rbf;, score=-0.048 total time=   0.3s\n",
      "[CV 1/5] END C=1.5, epsilon=0.2, gamma=0.2, kernel=linear;, score=-0.057 total time=   0.2s\n",
      "[CV 2/5] END C=1.5, epsilon=0.2, gamma=0.2, kernel=linear;, score=-0.055 total time=   0.2s\n",
      "[CV 3/5] END C=1.5, epsilon=0.2, gamma=0.2, kernel=linear;, score=-0.038 total time=   0.2s\n",
      "[CV 4/5] END C=1.5, epsilon=0.2, gamma=0.2, kernel=linear;, score=-0.061 total time=   0.2s\n",
      "[CV 5/5] END C=1.5, epsilon=0.2, gamma=0.2, kernel=linear;, score=-0.047 total time=   0.2s\n",
      "[CV 1/5] END C=1.5, epsilon=0.2, gamma=0.2, kernel=rbf;, score=-0.056 total time=   0.3s\n",
      "[CV 2/5] END C=1.5, epsilon=0.2, gamma=0.2, kernel=rbf;, score=-0.054 total time=   0.3s\n",
      "[CV 3/5] END C=1.5, epsilon=0.2, gamma=0.2, kernel=rbf;, score=-0.039 total time=   0.4s\n",
      "[CV 4/5] END C=1.5, epsilon=0.2, gamma=0.2, kernel=rbf;, score=-0.063 total time=   0.3s\n",
      "[CV 5/5] END C=1.5, epsilon=0.2, gamma=0.2, kernel=rbf;, score=-0.048 total time=   0.3s\n",
      "[CV 1/5] END C=1.5, epsilon=0.2, gamma=0.3, kernel=linear;, score=-0.057 total time=   0.2s\n",
      "[CV 2/5] END C=1.5, epsilon=0.2, gamma=0.3, kernel=linear;, score=-0.055 total time=   0.2s\n",
      "[CV 3/5] END C=1.5, epsilon=0.2, gamma=0.3, kernel=linear;, score=-0.038 total time=   0.2s\n",
      "[CV 4/5] END C=1.5, epsilon=0.2, gamma=0.3, kernel=linear;, score=-0.061 total time=   0.2s\n",
      "[CV 5/5] END C=1.5, epsilon=0.2, gamma=0.3, kernel=linear;, score=-0.047 total time=   0.2s\n",
      "[CV 1/5] END C=1.5, epsilon=0.2, gamma=0.3, kernel=rbf;, score=-0.056 total time=   0.3s\n",
      "[CV 2/5] END C=1.5, epsilon=0.2, gamma=0.3, kernel=rbf;, score=-0.054 total time=   0.3s\n",
      "[CV 3/5] END C=1.5, epsilon=0.2, gamma=0.3, kernel=rbf;, score=-0.039 total time=   0.3s\n",
      "[CV 4/5] END C=1.5, epsilon=0.2, gamma=0.3, kernel=rbf;, score=-0.063 total time=   0.3s\n",
      "[CV 5/5] END C=1.5, epsilon=0.2, gamma=0.3, kernel=rbf;, score=-0.048 total time=   0.3s\n",
      "[CV 1/5] END C=1.5, epsilon=0.2, gamma=0.4, kernel=linear;, score=-0.057 total time=   0.2s\n",
      "[CV 2/5] END C=1.5, epsilon=0.2, gamma=0.4, kernel=linear;, score=-0.055 total time=   0.2s\n",
      "[CV 3/5] END C=1.5, epsilon=0.2, gamma=0.4, kernel=linear;, score=-0.038 total time=   0.2s\n",
      "[CV 4/5] END C=1.5, epsilon=0.2, gamma=0.4, kernel=linear;, score=-0.061 total time=   0.2s\n",
      "[CV 5/5] END C=1.5, epsilon=0.2, gamma=0.4, kernel=linear;, score=-0.047 total time=   0.2s\n",
      "[CV 1/5] END C=1.5, epsilon=0.2, gamma=0.4, kernel=rbf;, score=-0.056 total time=   0.3s\n",
      "[CV 2/5] END C=1.5, epsilon=0.2, gamma=0.4, kernel=rbf;, score=-0.054 total time=   0.3s\n",
      "[CV 3/5] END C=1.5, epsilon=0.2, gamma=0.4, kernel=rbf;, score=-0.039 total time=   0.3s\n",
      "[CV 4/5] END C=1.5, epsilon=0.2, gamma=0.4, kernel=rbf;, score=-0.063 total time=   0.3s\n",
      "[CV 5/5] END C=1.5, epsilon=0.2, gamma=0.4, kernel=rbf;, score=-0.048 total time=   0.3s\n",
      "[CV 1/5] END C=1.5, epsilon=0.3, gamma=0.1, kernel=linear;, score=-0.057 total time=   0.2s\n",
      "[CV 2/5] END C=1.5, epsilon=0.3, gamma=0.1, kernel=linear;, score=-0.055 total time=   0.2s\n",
      "[CV 3/5] END C=1.5, epsilon=0.3, gamma=0.1, kernel=linear;, score=-0.038 total time=   0.2s\n",
      "[CV 4/5] END C=1.5, epsilon=0.3, gamma=0.1, kernel=linear;, score=-0.061 total time=   0.2s\n",
      "[CV 5/5] END C=1.5, epsilon=0.3, gamma=0.1, kernel=linear;, score=-0.047 total time=   0.2s\n",
      "[CV 1/5] END C=1.5, epsilon=0.3, gamma=0.1, kernel=rbf;, score=-0.056 total time=   0.4s\n",
      "[CV 2/5] END C=1.5, epsilon=0.3, gamma=0.1, kernel=rbf;, score=-0.054 total time=   0.3s\n",
      "[CV 3/5] END C=1.5, epsilon=0.3, gamma=0.1, kernel=rbf;, score=-0.039 total time=   0.3s\n",
      "[CV 4/5] END C=1.5, epsilon=0.3, gamma=0.1, kernel=rbf;, score=-0.063 total time=   0.3s\n",
      "[CV 5/5] END C=1.5, epsilon=0.3, gamma=0.1, kernel=rbf;, score=-0.048 total time=   0.3s\n"
     ]
    },
    {
     "name": "stdout",
     "output_type": "stream",
     "text": [
      "[CV 1/5] END C=1.5, epsilon=0.3, gamma=0.2, kernel=linear;, score=-0.057 total time=   0.2s\n",
      "[CV 2/5] END C=1.5, epsilon=0.3, gamma=0.2, kernel=linear;, score=-0.055 total time=   0.2s\n",
      "[CV 3/5] END C=1.5, epsilon=0.3, gamma=0.2, kernel=linear;, score=-0.038 total time=   0.2s\n",
      "[CV 4/5] END C=1.5, epsilon=0.3, gamma=0.2, kernel=linear;, score=-0.061 total time=   0.2s\n",
      "[CV 5/5] END C=1.5, epsilon=0.3, gamma=0.2, kernel=linear;, score=-0.047 total time=   0.2s\n",
      "[CV 1/5] END C=1.5, epsilon=0.3, gamma=0.2, kernel=rbf;, score=-0.056 total time=   0.3s\n",
      "[CV 2/5] END C=1.5, epsilon=0.3, gamma=0.2, kernel=rbf;, score=-0.054 total time=   0.3s\n",
      "[CV 3/5] END C=1.5, epsilon=0.3, gamma=0.2, kernel=rbf;, score=-0.039 total time=   0.3s\n",
      "[CV 4/5] END C=1.5, epsilon=0.3, gamma=0.2, kernel=rbf;, score=-0.063 total time=   0.3s\n",
      "[CV 5/5] END C=1.5, epsilon=0.3, gamma=0.2, kernel=rbf;, score=-0.048 total time=   0.3s\n",
      "[CV 1/5] END C=1.5, epsilon=0.3, gamma=0.3, kernel=linear;, score=-0.057 total time=   0.2s\n",
      "[CV 2/5] END C=1.5, epsilon=0.3, gamma=0.3, kernel=linear;, score=-0.055 total time=   0.2s\n",
      "[CV 3/5] END C=1.5, epsilon=0.3, gamma=0.3, kernel=linear;, score=-0.038 total time=   0.2s\n",
      "[CV 4/5] END C=1.5, epsilon=0.3, gamma=0.3, kernel=linear;, score=-0.061 total time=   0.2s\n",
      "[CV 5/5] END C=1.5, epsilon=0.3, gamma=0.3, kernel=linear;, score=-0.047 total time=   0.2s\n",
      "[CV 1/5] END C=1.5, epsilon=0.3, gamma=0.3, kernel=rbf;, score=-0.056 total time=   0.3s\n",
      "[CV 2/5] END C=1.5, epsilon=0.3, gamma=0.3, kernel=rbf;, score=-0.054 total time=   0.3s\n",
      "[CV 3/5] END C=1.5, epsilon=0.3, gamma=0.3, kernel=rbf;, score=-0.039 total time=   0.3s\n",
      "[CV 4/5] END C=1.5, epsilon=0.3, gamma=0.3, kernel=rbf;, score=-0.063 total time=   0.3s\n",
      "[CV 5/5] END C=1.5, epsilon=0.3, gamma=0.3, kernel=rbf;, score=-0.048 total time=   0.3s\n",
      "[CV 1/5] END C=1.5, epsilon=0.3, gamma=0.4, kernel=linear;, score=-0.057 total time=   0.2s\n",
      "[CV 2/5] END C=1.5, epsilon=0.3, gamma=0.4, kernel=linear;, score=-0.055 total time=   0.2s\n",
      "[CV 3/5] END C=1.5, epsilon=0.3, gamma=0.4, kernel=linear;, score=-0.038 total time=   0.2s\n",
      "[CV 4/5] END C=1.5, epsilon=0.3, gamma=0.4, kernel=linear;, score=-0.061 total time=   0.2s\n",
      "[CV 5/5] END C=1.5, epsilon=0.3, gamma=0.4, kernel=linear;, score=-0.047 total time=   0.2s\n",
      "[CV 1/5] END C=1.5, epsilon=0.3, gamma=0.4, kernel=rbf;, score=-0.056 total time=   0.3s\n",
      "[CV 2/5] END C=1.5, epsilon=0.3, gamma=0.4, kernel=rbf;, score=-0.054 total time=   0.3s\n",
      "[CV 3/5] END C=1.5, epsilon=0.3, gamma=0.4, kernel=rbf;, score=-0.039 total time=   0.3s\n",
      "[CV 4/5] END C=1.5, epsilon=0.3, gamma=0.4, kernel=rbf;, score=-0.063 total time=   0.3s\n",
      "[CV 5/5] END C=1.5, epsilon=0.3, gamma=0.4, kernel=rbf;, score=-0.048 total time=   0.3s\n",
      "[CV 1/5] END C=1.5, epsilon=0.4, gamma=0.1, kernel=linear;, score=-0.057 total time=   0.2s\n",
      "[CV 2/5] END C=1.5, epsilon=0.4, gamma=0.1, kernel=linear;, score=-0.055 total time=   0.2s\n",
      "[CV 3/5] END C=1.5, epsilon=0.4, gamma=0.1, kernel=linear;, score=-0.038 total time=   0.2s\n",
      "[CV 4/5] END C=1.5, epsilon=0.4, gamma=0.1, kernel=linear;, score=-0.061 total time=   0.2s\n",
      "[CV 5/5] END C=1.5, epsilon=0.4, gamma=0.1, kernel=linear;, score=-0.047 total time=   0.2s\n",
      "[CV 1/5] END C=1.5, epsilon=0.4, gamma=0.1, kernel=rbf;, score=-0.056 total time=   0.3s\n",
      "[CV 2/5] END C=1.5, epsilon=0.4, gamma=0.1, kernel=rbf;, score=-0.054 total time=   0.3s\n",
      "[CV 3/5] END C=1.5, epsilon=0.4, gamma=0.1, kernel=rbf;, score=-0.039 total time=   0.3s\n",
      "[CV 4/5] END C=1.5, epsilon=0.4, gamma=0.1, kernel=rbf;, score=-0.063 total time=   0.3s\n",
      "[CV 5/5] END C=1.5, epsilon=0.4, gamma=0.1, kernel=rbf;, score=-0.048 total time=   0.3s\n",
      "[CV 1/5] END C=1.5, epsilon=0.4, gamma=0.2, kernel=linear;, score=-0.057 total time=   0.2s\n",
      "[CV 2/5] END C=1.5, epsilon=0.4, gamma=0.2, kernel=linear;, score=-0.055 total time=   0.2s\n",
      "[CV 3/5] END C=1.5, epsilon=0.4, gamma=0.2, kernel=linear;, score=-0.038 total time=   0.2s\n",
      "[CV 4/5] END C=1.5, epsilon=0.4, gamma=0.2, kernel=linear;, score=-0.061 total time=   0.2s\n",
      "[CV 5/5] END C=1.5, epsilon=0.4, gamma=0.2, kernel=linear;, score=-0.047 total time=   0.2s\n",
      "[CV 1/5] END C=1.5, epsilon=0.4, gamma=0.2, kernel=rbf;, score=-0.056 total time=   0.3s\n",
      "[CV 2/5] END C=1.5, epsilon=0.4, gamma=0.2, kernel=rbf;, score=-0.054 total time=   0.3s\n",
      "[CV 3/5] END C=1.5, epsilon=0.4, gamma=0.2, kernel=rbf;, score=-0.039 total time=   0.3s\n",
      "[CV 4/5] END C=1.5, epsilon=0.4, gamma=0.2, kernel=rbf;, score=-0.063 total time=   0.3s\n",
      "[CV 5/5] END C=1.5, epsilon=0.4, gamma=0.2, kernel=rbf;, score=-0.048 total time=   0.3s\n",
      "[CV 1/5] END C=1.5, epsilon=0.4, gamma=0.3, kernel=linear;, score=-0.057 total time=   0.2s\n",
      "[CV 2/5] END C=1.5, epsilon=0.4, gamma=0.3, kernel=linear;, score=-0.055 total time=   0.2s\n",
      "[CV 3/5] END C=1.5, epsilon=0.4, gamma=0.3, kernel=linear;, score=-0.038 total time=   0.2s\n",
      "[CV 4/5] END C=1.5, epsilon=0.4, gamma=0.3, kernel=linear;, score=-0.061 total time=   0.2s\n",
      "[CV 5/5] END C=1.5, epsilon=0.4, gamma=0.3, kernel=linear;, score=-0.047 total time=   0.2s\n",
      "[CV 1/5] END C=1.5, epsilon=0.4, gamma=0.3, kernel=rbf;, score=-0.056 total time=   0.3s\n",
      "[CV 2/5] END C=1.5, epsilon=0.4, gamma=0.3, kernel=rbf;, score=-0.054 total time=   0.3s\n",
      "[CV 3/5] END C=1.5, epsilon=0.4, gamma=0.3, kernel=rbf;, score=-0.039 total time=   0.3s\n",
      "[CV 4/5] END C=1.5, epsilon=0.4, gamma=0.3, kernel=rbf;, score=-0.063 total time=   0.3s\n",
      "[CV 5/5] END C=1.5, epsilon=0.4, gamma=0.3, kernel=rbf;, score=-0.048 total time=   0.3s\n",
      "[CV 1/5] END C=1.5, epsilon=0.4, gamma=0.4, kernel=linear;, score=-0.057 total time=   0.2s\n",
      "[CV 2/5] END C=1.5, epsilon=0.4, gamma=0.4, kernel=linear;, score=-0.055 total time=   0.2s\n",
      "[CV 3/5] END C=1.5, epsilon=0.4, gamma=0.4, kernel=linear;, score=-0.038 total time=   0.2s\n",
      "[CV 4/5] END C=1.5, epsilon=0.4, gamma=0.4, kernel=linear;, score=-0.061 total time=   0.2s\n",
      "[CV 5/5] END C=1.5, epsilon=0.4, gamma=0.4, kernel=linear;, score=-0.047 total time=   0.2s\n",
      "[CV 1/5] END C=1.5, epsilon=0.4, gamma=0.4, kernel=rbf;, score=-0.056 total time=   0.3s\n",
      "[CV 2/5] END C=1.5, epsilon=0.4, gamma=0.4, kernel=rbf;, score=-0.054 total time=   0.3s\n",
      "[CV 3/5] END C=1.5, epsilon=0.4, gamma=0.4, kernel=rbf;, score=-0.039 total time=   0.3s\n",
      "[CV 4/5] END C=1.5, epsilon=0.4, gamma=0.4, kernel=rbf;, score=-0.063 total time=   0.3s\n",
      "[CV 5/5] END C=1.5, epsilon=0.4, gamma=0.4, kernel=rbf;, score=-0.048 total time=   0.3s\n",
      "[CV 1/5] END C=2, epsilon=0.1, gamma=0.1, kernel=linear;, score=-0.057 total time=   0.2s\n",
      "[CV 2/5] END C=2, epsilon=0.1, gamma=0.1, kernel=linear;, score=-0.054 total time=   0.2s\n",
      "[CV 3/5] END C=2, epsilon=0.1, gamma=0.1, kernel=linear;, score=-0.038 total time=   0.2s\n",
      "[CV 4/5] END C=2, epsilon=0.1, gamma=0.1, kernel=linear;, score=-0.061 total time=   0.2s\n",
      "[CV 5/5] END C=2, epsilon=0.1, gamma=0.1, kernel=linear;, score=-0.047 total time=   0.2s\n",
      "[CV 1/5] END C=2, epsilon=0.1, gamma=0.1, kernel=rbf;, score=-0.056 total time=   0.3s\n",
      "[CV 2/5] END C=2, epsilon=0.1, gamma=0.1, kernel=rbf;, score=-0.054 total time=   0.3s\n",
      "[CV 3/5] END C=2, epsilon=0.1, gamma=0.1, kernel=rbf;, score=-0.039 total time=   0.3s\n",
      "[CV 4/5] END C=2, epsilon=0.1, gamma=0.1, kernel=rbf;, score=-0.063 total time=   0.4s\n",
      "[CV 5/5] END C=2, epsilon=0.1, gamma=0.1, kernel=rbf;, score=-0.048 total time=   0.3s\n",
      "[CV 1/5] END C=2, epsilon=0.1, gamma=0.2, kernel=linear;, score=-0.057 total time=   0.2s\n",
      "[CV 2/5] END C=2, epsilon=0.1, gamma=0.2, kernel=linear;, score=-0.054 total time=   0.2s\n",
      "[CV 3/5] END C=2, epsilon=0.1, gamma=0.2, kernel=linear;, score=-0.038 total time=   0.2s\n",
      "[CV 4/5] END C=2, epsilon=0.1, gamma=0.2, kernel=linear;, score=-0.061 total time=   0.2s\n",
      "[CV 5/5] END C=2, epsilon=0.1, gamma=0.2, kernel=linear;, score=-0.047 total time=   0.2s\n",
      "[CV 1/5] END C=2, epsilon=0.1, gamma=0.2, kernel=rbf;, score=-0.056 total time=   0.3s\n",
      "[CV 2/5] END C=2, epsilon=0.1, gamma=0.2, kernel=rbf;, score=-0.054 total time=   0.3s\n",
      "[CV 3/5] END C=2, epsilon=0.1, gamma=0.2, kernel=rbf;, score=-0.039 total time=   0.3s\n",
      "[CV 4/5] END C=2, epsilon=0.1, gamma=0.2, kernel=rbf;, score=-0.063 total time=   0.3s\n",
      "[CV 5/5] END C=2, epsilon=0.1, gamma=0.2, kernel=rbf;, score=-0.048 total time=   0.3s\n",
      "[CV 1/5] END C=2, epsilon=0.1, gamma=0.3, kernel=linear;, score=-0.057 total time=   0.2s\n"
     ]
    },
    {
     "name": "stdout",
     "output_type": "stream",
     "text": [
      "[CV 2/5] END C=2, epsilon=0.1, gamma=0.3, kernel=linear;, score=-0.054 total time=   0.2s\n",
      "[CV 3/5] END C=2, epsilon=0.1, gamma=0.3, kernel=linear;, score=-0.038 total time=   0.2s\n",
      "[CV 4/5] END C=2, epsilon=0.1, gamma=0.3, kernel=linear;, score=-0.061 total time=   0.2s\n",
      "[CV 5/5] END C=2, epsilon=0.1, gamma=0.3, kernel=linear;, score=-0.047 total time=   0.2s\n",
      "[CV 1/5] END C=2, epsilon=0.1, gamma=0.3, kernel=rbf;, score=-0.056 total time=   0.3s\n",
      "[CV 2/5] END C=2, epsilon=0.1, gamma=0.3, kernel=rbf;, score=-0.054 total time=   0.3s\n",
      "[CV 3/5] END C=2, epsilon=0.1, gamma=0.3, kernel=rbf;, score=-0.039 total time=   0.3s\n",
      "[CV 4/5] END C=2, epsilon=0.1, gamma=0.3, kernel=rbf;, score=-0.063 total time=   0.3s\n",
      "[CV 5/5] END C=2, epsilon=0.1, gamma=0.3, kernel=rbf;, score=-0.048 total time=   0.3s\n",
      "[CV 1/5] END C=2, epsilon=0.1, gamma=0.4, kernel=linear;, score=-0.057 total time=   0.2s\n",
      "[CV 2/5] END C=2, epsilon=0.1, gamma=0.4, kernel=linear;, score=-0.054 total time=   0.2s\n",
      "[CV 3/5] END C=2, epsilon=0.1, gamma=0.4, kernel=linear;, score=-0.038 total time=   0.2s\n",
      "[CV 4/5] END C=2, epsilon=0.1, gamma=0.4, kernel=linear;, score=-0.061 total time=   0.2s\n",
      "[CV 5/5] END C=2, epsilon=0.1, gamma=0.4, kernel=linear;, score=-0.047 total time=   0.2s\n",
      "[CV 1/5] END C=2, epsilon=0.1, gamma=0.4, kernel=rbf;, score=-0.056 total time=   0.3s\n",
      "[CV 2/5] END C=2, epsilon=0.1, gamma=0.4, kernel=rbf;, score=-0.054 total time=   0.3s\n",
      "[CV 3/5] END C=2, epsilon=0.1, gamma=0.4, kernel=rbf;, score=-0.039 total time=   0.4s\n",
      "[CV 4/5] END C=2, epsilon=0.1, gamma=0.4, kernel=rbf;, score=-0.063 total time=   0.3s\n",
      "[CV 5/5] END C=2, epsilon=0.1, gamma=0.4, kernel=rbf;, score=-0.048 total time=   0.3s\n",
      "[CV 1/5] END C=2, epsilon=0.2, gamma=0.1, kernel=linear;, score=-0.057 total time=   0.2s\n",
      "[CV 2/5] END C=2, epsilon=0.2, gamma=0.1, kernel=linear;, score=-0.054 total time=   0.2s\n",
      "[CV 3/5] END C=2, epsilon=0.2, gamma=0.1, kernel=linear;, score=-0.038 total time=   0.2s\n",
      "[CV 4/5] END C=2, epsilon=0.2, gamma=0.1, kernel=linear;, score=-0.061 total time=   0.2s\n",
      "[CV 5/5] END C=2, epsilon=0.2, gamma=0.1, kernel=linear;, score=-0.047 total time=   0.2s\n",
      "[CV 1/5] END C=2, epsilon=0.2, gamma=0.1, kernel=rbf;, score=-0.056 total time=   0.3s\n",
      "[CV 2/5] END C=2, epsilon=0.2, gamma=0.1, kernel=rbf;, score=-0.054 total time=   0.3s\n",
      "[CV 3/5] END C=2, epsilon=0.2, gamma=0.1, kernel=rbf;, score=-0.039 total time=   0.3s\n",
      "[CV 4/5] END C=2, epsilon=0.2, gamma=0.1, kernel=rbf;, score=-0.063 total time=   0.3s\n",
      "[CV 5/5] END C=2, epsilon=0.2, gamma=0.1, kernel=rbf;, score=-0.048 total time=   0.3s\n",
      "[CV 1/5] END C=2, epsilon=0.2, gamma=0.2, kernel=linear;, score=-0.057 total time=   0.2s\n",
      "[CV 2/5] END C=2, epsilon=0.2, gamma=0.2, kernel=linear;, score=-0.054 total time=   0.2s\n",
      "[CV 3/5] END C=2, epsilon=0.2, gamma=0.2, kernel=linear;, score=-0.038 total time=   0.2s\n",
      "[CV 4/5] END C=2, epsilon=0.2, gamma=0.2, kernel=linear;, score=-0.061 total time=   0.2s\n",
      "[CV 5/5] END C=2, epsilon=0.2, gamma=0.2, kernel=linear;, score=-0.047 total time=   0.2s\n",
      "[CV 1/5] END C=2, epsilon=0.2, gamma=0.2, kernel=rbf;, score=-0.056 total time=   0.3s\n",
      "[CV 2/5] END C=2, epsilon=0.2, gamma=0.2, kernel=rbf;, score=-0.054 total time=   0.3s\n",
      "[CV 3/5] END C=2, epsilon=0.2, gamma=0.2, kernel=rbf;, score=-0.039 total time=   0.3s\n",
      "[CV 4/5] END C=2, epsilon=0.2, gamma=0.2, kernel=rbf;, score=-0.063 total time=   0.3s\n",
      "[CV 5/5] END C=2, epsilon=0.2, gamma=0.2, kernel=rbf;, score=-0.048 total time=   0.3s\n",
      "[CV 1/5] END C=2, epsilon=0.2, gamma=0.3, kernel=linear;, score=-0.057 total time=   0.2s\n",
      "[CV 2/5] END C=2, epsilon=0.2, gamma=0.3, kernel=linear;, score=-0.054 total time=   0.2s\n",
      "[CV 3/5] END C=2, epsilon=0.2, gamma=0.3, kernel=linear;, score=-0.038 total time=   0.2s\n",
      "[CV 4/5] END C=2, epsilon=0.2, gamma=0.3, kernel=linear;, score=-0.061 total time=   0.2s\n",
      "[CV 5/5] END C=2, epsilon=0.2, gamma=0.3, kernel=linear;, score=-0.047 total time=   0.2s\n",
      "[CV 1/5] END C=2, epsilon=0.2, gamma=0.3, kernel=rbf;, score=-0.056 total time=   0.4s\n",
      "[CV 2/5] END C=2, epsilon=0.2, gamma=0.3, kernel=rbf;, score=-0.054 total time=   0.3s\n",
      "[CV 3/5] END C=2, epsilon=0.2, gamma=0.3, kernel=rbf;, score=-0.039 total time=   0.3s\n",
      "[CV 4/5] END C=2, epsilon=0.2, gamma=0.3, kernel=rbf;, score=-0.063 total time=   0.3s\n",
      "[CV 5/5] END C=2, epsilon=0.2, gamma=0.3, kernel=rbf;, score=-0.048 total time=   0.3s\n",
      "[CV 1/5] END C=2, epsilon=0.2, gamma=0.4, kernel=linear;, score=-0.057 total time=   0.2s\n",
      "[CV 2/5] END C=2, epsilon=0.2, gamma=0.4, kernel=linear;, score=-0.054 total time=   0.2s\n",
      "[CV 3/5] END C=2, epsilon=0.2, gamma=0.4, kernel=linear;, score=-0.038 total time=   0.2s\n",
      "[CV 4/5] END C=2, epsilon=0.2, gamma=0.4, kernel=linear;, score=-0.061 total time=   0.2s\n",
      "[CV 5/5] END C=2, epsilon=0.2, gamma=0.4, kernel=linear;, score=-0.047 total time=   0.2s\n",
      "[CV 1/5] END C=2, epsilon=0.2, gamma=0.4, kernel=rbf;, score=-0.056 total time=   0.3s\n",
      "[CV 2/5] END C=2, epsilon=0.2, gamma=0.4, kernel=rbf;, score=-0.054 total time=   0.3s\n",
      "[CV 3/5] END C=2, epsilon=0.2, gamma=0.4, kernel=rbf;, score=-0.039 total time=   0.3s\n",
      "[CV 4/5] END C=2, epsilon=0.2, gamma=0.4, kernel=rbf;, score=-0.063 total time=   0.3s\n",
      "[CV 5/5] END C=2, epsilon=0.2, gamma=0.4, kernel=rbf;, score=-0.048 total time=   0.3s\n",
      "[CV 1/5] END C=2, epsilon=0.3, gamma=0.1, kernel=linear;, score=-0.057 total time=   0.2s\n",
      "[CV 2/5] END C=2, epsilon=0.3, gamma=0.1, kernel=linear;, score=-0.054 total time=   0.2s\n",
      "[CV 3/5] END C=2, epsilon=0.3, gamma=0.1, kernel=linear;, score=-0.038 total time=   0.2s\n",
      "[CV 4/5] END C=2, epsilon=0.3, gamma=0.1, kernel=linear;, score=-0.061 total time=   0.2s\n",
      "[CV 5/5] END C=2, epsilon=0.3, gamma=0.1, kernel=linear;, score=-0.047 total time=   0.2s\n",
      "[CV 1/5] END C=2, epsilon=0.3, gamma=0.1, kernel=rbf;, score=-0.056 total time=   0.3s\n",
      "[CV 2/5] END C=2, epsilon=0.3, gamma=0.1, kernel=rbf;, score=-0.054 total time=   0.3s\n",
      "[CV 3/5] END C=2, epsilon=0.3, gamma=0.1, kernel=rbf;, score=-0.039 total time=   0.3s\n",
      "[CV 4/5] END C=2, epsilon=0.3, gamma=0.1, kernel=rbf;, score=-0.063 total time=   0.3s\n",
      "[CV 5/5] END C=2, epsilon=0.3, gamma=0.1, kernel=rbf;, score=-0.048 total time=   0.3s\n",
      "[CV 1/5] END C=2, epsilon=0.3, gamma=0.2, kernel=linear;, score=-0.057 total time=   0.2s\n",
      "[CV 2/5] END C=2, epsilon=0.3, gamma=0.2, kernel=linear;, score=-0.054 total time=   0.2s\n",
      "[CV 3/5] END C=2, epsilon=0.3, gamma=0.2, kernel=linear;, score=-0.038 total time=   0.2s\n",
      "[CV 4/5] END C=2, epsilon=0.3, gamma=0.2, kernel=linear;, score=-0.061 total time=   0.2s\n",
      "[CV 5/5] END C=2, epsilon=0.3, gamma=0.2, kernel=linear;, score=-0.047 total time=   0.2s\n",
      "[CV 1/5] END C=2, epsilon=0.3, gamma=0.2, kernel=rbf;, score=-0.056 total time=   0.3s\n",
      "[CV 2/5] END C=2, epsilon=0.3, gamma=0.2, kernel=rbf;, score=-0.054 total time=   0.3s\n",
      "[CV 3/5] END C=2, epsilon=0.3, gamma=0.2, kernel=rbf;, score=-0.039 total time=   0.3s\n",
      "[CV 4/5] END C=2, epsilon=0.3, gamma=0.2, kernel=rbf;, score=-0.063 total time=   0.3s\n",
      "[CV 5/5] END C=2, epsilon=0.3, gamma=0.2, kernel=rbf;, score=-0.048 total time=   0.3s\n",
      "[CV 1/5] END C=2, epsilon=0.3, gamma=0.3, kernel=linear;, score=-0.057 total time=   0.2s\n",
      "[CV 2/5] END C=2, epsilon=0.3, gamma=0.3, kernel=linear;, score=-0.054 total time=   0.2s\n",
      "[CV 3/5] END C=2, epsilon=0.3, gamma=0.3, kernel=linear;, score=-0.038 total time=   0.2s\n",
      "[CV 4/5] END C=2, epsilon=0.3, gamma=0.3, kernel=linear;, score=-0.061 total time=   0.2s\n",
      "[CV 5/5] END C=2, epsilon=0.3, gamma=0.3, kernel=linear;, score=-0.047 total time=   0.2s\n",
      "[CV 1/5] END C=2, epsilon=0.3, gamma=0.3, kernel=rbf;, score=-0.056 total time=   0.3s\n",
      "[CV 2/5] END C=2, epsilon=0.3, gamma=0.3, kernel=rbf;, score=-0.054 total time=   0.3s\n",
      "[CV 3/5] END C=2, epsilon=0.3, gamma=0.3, kernel=rbf;, score=-0.039 total time=   0.3s\n",
      "[CV 4/5] END C=2, epsilon=0.3, gamma=0.3, kernel=rbf;, score=-0.063 total time=   0.3s\n",
      "[CV 5/5] END C=2, epsilon=0.3, gamma=0.3, kernel=rbf;, score=-0.048 total time=   0.3s\n",
      "[CV 1/5] END C=2, epsilon=0.3, gamma=0.4, kernel=linear;, score=-0.057 total time=   0.2s\n",
      "[CV 2/5] END C=2, epsilon=0.3, gamma=0.4, kernel=linear;, score=-0.054 total time=   0.2s\n",
      "[CV 3/5] END C=2, epsilon=0.3, gamma=0.4, kernel=linear;, score=-0.038 total time=   0.2s\n",
      "[CV 4/5] END C=2, epsilon=0.3, gamma=0.4, kernel=linear;, score=-0.061 total time=   0.2s\n"
     ]
    },
    {
     "name": "stdout",
     "output_type": "stream",
     "text": [
      "[CV 5/5] END C=2, epsilon=0.3, gamma=0.4, kernel=linear;, score=-0.047 total time=   0.2s\n",
      "[CV 1/5] END C=2, epsilon=0.3, gamma=0.4, kernel=rbf;, score=-0.056 total time=   0.3s\n",
      "[CV 2/5] END C=2, epsilon=0.3, gamma=0.4, kernel=rbf;, score=-0.054 total time=   0.3s\n",
      "[CV 3/5] END C=2, epsilon=0.3, gamma=0.4, kernel=rbf;, score=-0.039 total time=   0.3s\n",
      "[CV 4/5] END C=2, epsilon=0.3, gamma=0.4, kernel=rbf;, score=-0.063 total time=   0.3s\n",
      "[CV 5/5] END C=2, epsilon=0.3, gamma=0.4, kernel=rbf;, score=-0.048 total time=   0.4s\n",
      "[CV 1/5] END C=2, epsilon=0.4, gamma=0.1, kernel=linear;, score=-0.057 total time=   0.2s\n",
      "[CV 2/5] END C=2, epsilon=0.4, gamma=0.1, kernel=linear;, score=-0.054 total time=   0.2s\n",
      "[CV 3/5] END C=2, epsilon=0.4, gamma=0.1, kernel=linear;, score=-0.038 total time=   0.2s\n",
      "[CV 4/5] END C=2, epsilon=0.4, gamma=0.1, kernel=linear;, score=-0.061 total time=   0.2s\n",
      "[CV 5/5] END C=2, epsilon=0.4, gamma=0.1, kernel=linear;, score=-0.047 total time=   0.2s\n",
      "[CV 1/5] END C=2, epsilon=0.4, gamma=0.1, kernel=rbf;, score=-0.056 total time=   0.3s\n",
      "[CV 2/5] END C=2, epsilon=0.4, gamma=0.1, kernel=rbf;, score=-0.054 total time=   0.3s\n",
      "[CV 3/5] END C=2, epsilon=0.4, gamma=0.1, kernel=rbf;, score=-0.039 total time=   0.3s\n",
      "[CV 4/5] END C=2, epsilon=0.4, gamma=0.1, kernel=rbf;, score=-0.063 total time=   0.3s\n",
      "[CV 5/5] END C=2, epsilon=0.4, gamma=0.1, kernel=rbf;, score=-0.048 total time=   0.3s\n",
      "[CV 1/5] END C=2, epsilon=0.4, gamma=0.2, kernel=linear;, score=-0.057 total time=   0.2s\n",
      "[CV 2/5] END C=2, epsilon=0.4, gamma=0.2, kernel=linear;, score=-0.054 total time=   0.2s\n",
      "[CV 3/5] END C=2, epsilon=0.4, gamma=0.2, kernel=linear;, score=-0.038 total time=   0.2s\n",
      "[CV 4/5] END C=2, epsilon=0.4, gamma=0.2, kernel=linear;, score=-0.061 total time=   0.2s\n",
      "[CV 5/5] END C=2, epsilon=0.4, gamma=0.2, kernel=linear;, score=-0.047 total time=   0.2s\n",
      "[CV 1/5] END C=2, epsilon=0.4, gamma=0.2, kernel=rbf;, score=-0.056 total time=   0.3s\n",
      "[CV 2/5] END C=2, epsilon=0.4, gamma=0.2, kernel=rbf;, score=-0.054 total time=   0.3s\n",
      "[CV 3/5] END C=2, epsilon=0.4, gamma=0.2, kernel=rbf;, score=-0.039 total time=   0.3s\n",
      "[CV 4/5] END C=2, epsilon=0.4, gamma=0.2, kernel=rbf;, score=-0.063 total time=   0.3s\n",
      "[CV 5/5] END C=2, epsilon=0.4, gamma=0.2, kernel=rbf;, score=-0.048 total time=   0.3s\n",
      "[CV 1/5] END C=2, epsilon=0.4, gamma=0.3, kernel=linear;, score=-0.057 total time=   0.2s\n",
      "[CV 2/5] END C=2, epsilon=0.4, gamma=0.3, kernel=linear;, score=-0.054 total time=   0.2s\n",
      "[CV 3/5] END C=2, epsilon=0.4, gamma=0.3, kernel=linear;, score=-0.038 total time=   0.2s\n",
      "[CV 4/5] END C=2, epsilon=0.4, gamma=0.3, kernel=linear;, score=-0.061 total time=   0.2s\n",
      "[CV 5/5] END C=2, epsilon=0.4, gamma=0.3, kernel=linear;, score=-0.047 total time=   0.2s\n",
      "[CV 1/5] END C=2, epsilon=0.4, gamma=0.3, kernel=rbf;, score=-0.056 total time=   0.3s\n",
      "[CV 2/5] END C=2, epsilon=0.4, gamma=0.3, kernel=rbf;, score=-0.054 total time=   0.3s\n",
      "[CV 3/5] END C=2, epsilon=0.4, gamma=0.3, kernel=rbf;, score=-0.039 total time=   0.3s\n",
      "[CV 4/5] END C=2, epsilon=0.4, gamma=0.3, kernel=rbf;, score=-0.063 total time=   0.4s\n",
      "[CV 5/5] END C=2, epsilon=0.4, gamma=0.3, kernel=rbf;, score=-0.048 total time=   0.3s\n",
      "[CV 1/5] END C=2, epsilon=0.4, gamma=0.4, kernel=linear;, score=-0.057 total time=   0.2s\n",
      "[CV 2/5] END C=2, epsilon=0.4, gamma=0.4, kernel=linear;, score=-0.054 total time=   0.2s\n",
      "[CV 3/5] END C=2, epsilon=0.4, gamma=0.4, kernel=linear;, score=-0.038 total time=   0.2s\n",
      "[CV 4/5] END C=2, epsilon=0.4, gamma=0.4, kernel=linear;, score=-0.061 total time=   0.2s\n",
      "[CV 5/5] END C=2, epsilon=0.4, gamma=0.4, kernel=linear;, score=-0.047 total time=   0.2s\n",
      "[CV 1/5] END C=2, epsilon=0.4, gamma=0.4, kernel=rbf;, score=-0.056 total time=   0.3s\n",
      "[CV 2/5] END C=2, epsilon=0.4, gamma=0.4, kernel=rbf;, score=-0.054 total time=   0.3s\n",
      "[CV 3/5] END C=2, epsilon=0.4, gamma=0.4, kernel=rbf;, score=-0.039 total time=   0.3s\n",
      "[CV 4/5] END C=2, epsilon=0.4, gamma=0.4, kernel=rbf;, score=-0.063 total time=   0.3s\n",
      "[CV 5/5] END C=2, epsilon=0.4, gamma=0.4, kernel=rbf;, score=-0.048 total time=   0.3s\n",
      "[CV 1/5] END C=3, epsilon=0.1, gamma=0.1, kernel=linear;, score=-0.057 total time=   0.2s\n",
      "[CV 2/5] END C=3, epsilon=0.1, gamma=0.1, kernel=linear;, score=-0.054 total time=   0.2s\n",
      "[CV 3/5] END C=3, epsilon=0.1, gamma=0.1, kernel=linear;, score=-0.038 total time=   0.2s\n",
      "[CV 4/5] END C=3, epsilon=0.1, gamma=0.1, kernel=linear;, score=-0.060 total time=   0.2s\n",
      "[CV 5/5] END C=3, epsilon=0.1, gamma=0.1, kernel=linear;, score=-0.047 total time=   0.2s\n",
      "[CV 1/5] END C=3, epsilon=0.1, gamma=0.1, kernel=rbf;, score=-0.055 total time=   0.3s\n",
      "[CV 2/5] END C=3, epsilon=0.1, gamma=0.1, kernel=rbf;, score=-0.054 total time=   0.3s\n",
      "[CV 3/5] END C=3, epsilon=0.1, gamma=0.1, kernel=rbf;, score=-0.039 total time=   0.3s\n",
      "[CV 4/5] END C=3, epsilon=0.1, gamma=0.1, kernel=rbf;, score=-0.063 total time=   0.3s\n",
      "[CV 5/5] END C=3, epsilon=0.1, gamma=0.1, kernel=rbf;, score=-0.048 total time=   0.3s\n",
      "[CV 1/5] END C=3, epsilon=0.1, gamma=0.2, kernel=linear;, score=-0.057 total time=   0.2s\n",
      "[CV 2/5] END C=3, epsilon=0.1, gamma=0.2, kernel=linear;, score=-0.054 total time=   0.2s\n",
      "[CV 3/5] END C=3, epsilon=0.1, gamma=0.2, kernel=linear;, score=-0.038 total time=   0.2s\n",
      "[CV 4/5] END C=3, epsilon=0.1, gamma=0.2, kernel=linear;, score=-0.060 total time=   0.2s\n",
      "[CV 5/5] END C=3, epsilon=0.1, gamma=0.2, kernel=linear;, score=-0.047 total time=   0.2s\n",
      "[CV 1/5] END C=3, epsilon=0.1, gamma=0.2, kernel=rbf;, score=-0.055 total time=   0.3s\n",
      "[CV 2/5] END C=3, epsilon=0.1, gamma=0.2, kernel=rbf;, score=-0.054 total time=   0.4s\n",
      "[CV 3/5] END C=3, epsilon=0.1, gamma=0.2, kernel=rbf;, score=-0.039 total time=   0.3s\n",
      "[CV 4/5] END C=3, epsilon=0.1, gamma=0.2, kernel=rbf;, score=-0.063 total time=   0.3s\n",
      "[CV 5/5] END C=3, epsilon=0.1, gamma=0.2, kernel=rbf;, score=-0.048 total time=   0.3s\n",
      "[CV 1/5] END C=3, epsilon=0.1, gamma=0.3, kernel=linear;, score=-0.057 total time=   0.2s\n",
      "[CV 2/5] END C=3, epsilon=0.1, gamma=0.3, kernel=linear;, score=-0.054 total time=   0.2s\n",
      "[CV 3/5] END C=3, epsilon=0.1, gamma=0.3, kernel=linear;, score=-0.038 total time=   0.2s\n",
      "[CV 4/5] END C=3, epsilon=0.1, gamma=0.3, kernel=linear;, score=-0.060 total time=   0.2s\n",
      "[CV 5/5] END C=3, epsilon=0.1, gamma=0.3, kernel=linear;, score=-0.047 total time=   0.2s\n",
      "[CV 1/5] END C=3, epsilon=0.1, gamma=0.3, kernel=rbf;, score=-0.056 total time=   0.3s\n",
      "[CV 2/5] END C=3, epsilon=0.1, gamma=0.3, kernel=rbf;, score=-0.054 total time=   0.3s\n",
      "[CV 3/5] END C=3, epsilon=0.1, gamma=0.3, kernel=rbf;, score=-0.039 total time=   0.3s\n",
      "[CV 4/5] END C=3, epsilon=0.1, gamma=0.3, kernel=rbf;, score=-0.063 total time=   0.3s\n",
      "[CV 5/5] END C=3, epsilon=0.1, gamma=0.3, kernel=rbf;, score=-0.048 total time=   0.3s\n",
      "[CV 1/5] END C=3, epsilon=0.1, gamma=0.4, kernel=linear;, score=-0.057 total time=   0.2s\n",
      "[CV 2/5] END C=3, epsilon=0.1, gamma=0.4, kernel=linear;, score=-0.054 total time=   0.2s\n",
      "[CV 3/5] END C=3, epsilon=0.1, gamma=0.4, kernel=linear;, score=-0.038 total time=   0.2s\n",
      "[CV 4/5] END C=3, epsilon=0.1, gamma=0.4, kernel=linear;, score=-0.060 total time=   0.2s\n",
      "[CV 5/5] END C=3, epsilon=0.1, gamma=0.4, kernel=linear;, score=-0.047 total time=   0.2s\n",
      "[CV 1/5] END C=3, epsilon=0.1, gamma=0.4, kernel=rbf;, score=-0.056 total time=   0.3s\n",
      "[CV 2/5] END C=3, epsilon=0.1, gamma=0.4, kernel=rbf;, score=-0.054 total time=   0.3s\n",
      "[CV 3/5] END C=3, epsilon=0.1, gamma=0.4, kernel=rbf;, score=-0.039 total time=   0.3s\n",
      "[CV 4/5] END C=3, epsilon=0.1, gamma=0.4, kernel=rbf;, score=-0.063 total time=   0.3s\n",
      "[CV 5/5] END C=3, epsilon=0.1, gamma=0.4, kernel=rbf;, score=-0.048 total time=   0.3s\n",
      "[CV 1/5] END C=3, epsilon=0.2, gamma=0.1, kernel=linear;, score=-0.057 total time=   0.2s\n",
      "[CV 2/5] END C=3, epsilon=0.2, gamma=0.1, kernel=linear;, score=-0.054 total time=   0.2s\n",
      "[CV 3/5] END C=3, epsilon=0.2, gamma=0.1, kernel=linear;, score=-0.038 total time=   0.2s\n",
      "[CV 4/5] END C=3, epsilon=0.2, gamma=0.1, kernel=linear;, score=-0.060 total time=   0.2s\n",
      "[CV 5/5] END C=3, epsilon=0.2, gamma=0.1, kernel=linear;, score=-0.047 total time=   0.2s\n",
      "[CV 1/5] END C=3, epsilon=0.2, gamma=0.1, kernel=rbf;, score=-0.055 total time=   0.3s\n",
      "[CV 2/5] END C=3, epsilon=0.2, gamma=0.1, kernel=rbf;, score=-0.054 total time=   0.3s\n"
     ]
    },
    {
     "name": "stdout",
     "output_type": "stream",
     "text": [
      "[CV 3/5] END C=3, epsilon=0.2, gamma=0.1, kernel=rbf;, score=-0.039 total time=   0.3s\n",
      "[CV 4/5] END C=3, epsilon=0.2, gamma=0.1, kernel=rbf;, score=-0.063 total time=   0.3s\n",
      "[CV 5/5] END C=3, epsilon=0.2, gamma=0.1, kernel=rbf;, score=-0.048 total time=   0.3s\n",
      "[CV 1/5] END C=3, epsilon=0.2, gamma=0.2, kernel=linear;, score=-0.057 total time=   0.2s\n",
      "[CV 2/5] END C=3, epsilon=0.2, gamma=0.2, kernel=linear;, score=-0.054 total time=   0.2s\n",
      "[CV 3/5] END C=3, epsilon=0.2, gamma=0.2, kernel=linear;, score=-0.038 total time=   0.2s\n",
      "[CV 4/5] END C=3, epsilon=0.2, gamma=0.2, kernel=linear;, score=-0.060 total time=   0.2s\n",
      "[CV 5/5] END C=3, epsilon=0.2, gamma=0.2, kernel=linear;, score=-0.047 total time=   0.2s\n",
      "[CV 1/5] END C=3, epsilon=0.2, gamma=0.2, kernel=rbf;, score=-0.055 total time=   0.3s\n",
      "[CV 2/5] END C=3, epsilon=0.2, gamma=0.2, kernel=rbf;, score=-0.054 total time=   0.3s\n",
      "[CV 3/5] END C=3, epsilon=0.2, gamma=0.2, kernel=rbf;, score=-0.039 total time=   0.3s\n",
      "[CV 4/5] END C=3, epsilon=0.2, gamma=0.2, kernel=rbf;, score=-0.063 total time=   0.3s\n",
      "[CV 5/5] END C=3, epsilon=0.2, gamma=0.2, kernel=rbf;, score=-0.048 total time=   0.3s\n",
      "[CV 1/5] END C=3, epsilon=0.2, gamma=0.3, kernel=linear;, score=-0.057 total time=   0.2s\n",
      "[CV 2/5] END C=3, epsilon=0.2, gamma=0.3, kernel=linear;, score=-0.054 total time=   0.2s\n",
      "[CV 3/5] END C=3, epsilon=0.2, gamma=0.3, kernel=linear;, score=-0.038 total time=   0.2s\n",
      "[CV 4/5] END C=3, epsilon=0.2, gamma=0.3, kernel=linear;, score=-0.060 total time=   0.2s\n",
      "[CV 5/5] END C=3, epsilon=0.2, gamma=0.3, kernel=linear;, score=-0.047 total time=   0.2s\n",
      "[CV 1/5] END C=3, epsilon=0.2, gamma=0.3, kernel=rbf;, score=-0.056 total time=   0.3s\n",
      "[CV 2/5] END C=3, epsilon=0.2, gamma=0.3, kernel=rbf;, score=-0.054 total time=   0.3s\n",
      "[CV 3/5] END C=3, epsilon=0.2, gamma=0.3, kernel=rbf;, score=-0.039 total time=   0.3s\n",
      "[CV 4/5] END C=3, epsilon=0.2, gamma=0.3, kernel=rbf;, score=-0.063 total time=   0.3s\n",
      "[CV 5/5] END C=3, epsilon=0.2, gamma=0.3, kernel=rbf;, score=-0.048 total time=   0.3s\n",
      "[CV 1/5] END C=3, epsilon=0.2, gamma=0.4, kernel=linear;, score=-0.057 total time=   0.2s\n",
      "[CV 2/5] END C=3, epsilon=0.2, gamma=0.4, kernel=linear;, score=-0.054 total time=   0.2s\n",
      "[CV 3/5] END C=3, epsilon=0.2, gamma=0.4, kernel=linear;, score=-0.038 total time=   0.2s\n",
      "[CV 4/5] END C=3, epsilon=0.2, gamma=0.4, kernel=linear;, score=-0.060 total time=   0.2s\n",
      "[CV 5/5] END C=3, epsilon=0.2, gamma=0.4, kernel=linear;, score=-0.047 total time=   0.2s\n",
      "[CV 1/5] END C=3, epsilon=0.2, gamma=0.4, kernel=rbf;, score=-0.056 total time=   0.3s\n",
      "[CV 2/5] END C=3, epsilon=0.2, gamma=0.4, kernel=rbf;, score=-0.054 total time=   0.3s\n",
      "[CV 3/5] END C=3, epsilon=0.2, gamma=0.4, kernel=rbf;, score=-0.039 total time=   0.3s\n",
      "[CV 4/5] END C=3, epsilon=0.2, gamma=0.4, kernel=rbf;, score=-0.063 total time=   0.3s\n",
      "[CV 5/5] END C=3, epsilon=0.2, gamma=0.4, kernel=rbf;, score=-0.048 total time=   0.3s\n",
      "[CV 1/5] END C=3, epsilon=0.3, gamma=0.1, kernel=linear;, score=-0.057 total time=   0.2s\n",
      "[CV 2/5] END C=3, epsilon=0.3, gamma=0.1, kernel=linear;, score=-0.054 total time=   0.2s\n",
      "[CV 3/5] END C=3, epsilon=0.3, gamma=0.1, kernel=linear;, score=-0.038 total time=   0.2s\n",
      "[CV 4/5] END C=3, epsilon=0.3, gamma=0.1, kernel=linear;, score=-0.060 total time=   0.2s\n",
      "[CV 5/5] END C=3, epsilon=0.3, gamma=0.1, kernel=linear;, score=-0.047 total time=   0.2s\n",
      "[CV 1/5] END C=3, epsilon=0.3, gamma=0.1, kernel=rbf;, score=-0.055 total time=   0.3s\n",
      "[CV 2/5] END C=3, epsilon=0.3, gamma=0.1, kernel=rbf;, score=-0.054 total time=   0.3s\n",
      "[CV 3/5] END C=3, epsilon=0.3, gamma=0.1, kernel=rbf;, score=-0.039 total time=   0.3s\n",
      "[CV 4/5] END C=3, epsilon=0.3, gamma=0.1, kernel=rbf;, score=-0.063 total time=   0.3s\n",
      "[CV 5/5] END C=3, epsilon=0.3, gamma=0.1, kernel=rbf;, score=-0.048 total time=   0.3s\n",
      "[CV 1/5] END C=3, epsilon=0.3, gamma=0.2, kernel=linear;, score=-0.057 total time=   0.2s\n",
      "[CV 2/5] END C=3, epsilon=0.3, gamma=0.2, kernel=linear;, score=-0.054 total time=   0.2s\n",
      "[CV 3/5] END C=3, epsilon=0.3, gamma=0.2, kernel=linear;, score=-0.038 total time=   0.2s\n",
      "[CV 4/5] END C=3, epsilon=0.3, gamma=0.2, kernel=linear;, score=-0.060 total time=   0.2s\n",
      "[CV 5/5] END C=3, epsilon=0.3, gamma=0.2, kernel=linear;, score=-0.047 total time=   0.2s\n",
      "[CV 1/5] END C=3, epsilon=0.3, gamma=0.2, kernel=rbf;, score=-0.055 total time=   0.3s\n",
      "[CV 2/5] END C=3, epsilon=0.3, gamma=0.2, kernel=rbf;, score=-0.054 total time=   0.3s\n",
      "[CV 3/5] END C=3, epsilon=0.3, gamma=0.2, kernel=rbf;, score=-0.039 total time=   0.3s\n",
      "[CV 4/5] END C=3, epsilon=0.3, gamma=0.2, kernel=rbf;, score=-0.063 total time=   0.4s\n"
     ]
    },
    {
     "ename": "KeyboardInterrupt",
     "evalue": "",
     "output_type": "error",
     "traceback": [
      "\u001b[0;31m---------------------------------------------------------------------------\u001b[0m",
      "\u001b[0;31mKeyboardInterrupt\u001b[0m                         Traceback (most recent call last)",
      "Cell \u001b[0;32mIn[134], line 6\u001b[0m\n\u001b[1;32m      4\u001b[0m model_svr \u001b[38;5;241m=\u001b[39m SVR()\n\u001b[1;32m      5\u001b[0m gs_cv \u001b[38;5;241m=\u001b[39m GridSearchCV(model_svr, parameters,cv\u001b[38;5;241m=\u001b[39m\u001b[38;5;241m5\u001b[39m,refit\u001b[38;5;241m=\u001b[39m\u001b[38;5;124m'\u001b[39m\u001b[38;5;124mr2\u001b[39m\u001b[38;5;124m'\u001b[39m,verbose\u001b[38;5;241m=\u001b[39m\u001b[38;5;241m4\u001b[39m)\n\u001b[0;32m----> 6\u001b[0m gs_cv\u001b[38;5;241m.\u001b[39mfit(X_train, y_train)\n",
      "File \u001b[0;32m~/anaconda3/lib/python3.11/site-packages/sklearn/model_selection/_search.py:874\u001b[0m, in \u001b[0;36mBaseSearchCV.fit\u001b[0;34m(self, X, y, groups, **fit_params)\u001b[0m\n\u001b[1;32m    868\u001b[0m     results \u001b[38;5;241m=\u001b[39m \u001b[38;5;28mself\u001b[39m\u001b[38;5;241m.\u001b[39m_format_results(\n\u001b[1;32m    869\u001b[0m         all_candidate_params, n_splits, all_out, all_more_results\n\u001b[1;32m    870\u001b[0m     )\n\u001b[1;32m    872\u001b[0m     \u001b[38;5;28;01mreturn\u001b[39;00m results\n\u001b[0;32m--> 874\u001b[0m \u001b[38;5;28mself\u001b[39m\u001b[38;5;241m.\u001b[39m_run_search(evaluate_candidates)\n\u001b[1;32m    876\u001b[0m \u001b[38;5;66;03m# multimetric is determined here because in the case of a callable\u001b[39;00m\n\u001b[1;32m    877\u001b[0m \u001b[38;5;66;03m# self.scoring the return type is only known after calling\u001b[39;00m\n\u001b[1;32m    878\u001b[0m first_test_score \u001b[38;5;241m=\u001b[39m all_out[\u001b[38;5;241m0\u001b[39m][\u001b[38;5;124m\"\u001b[39m\u001b[38;5;124mtest_scores\u001b[39m\u001b[38;5;124m\"\u001b[39m]\n",
      "File \u001b[0;32m~/anaconda3/lib/python3.11/site-packages/sklearn/model_selection/_search.py:1388\u001b[0m, in \u001b[0;36mGridSearchCV._run_search\u001b[0;34m(self, evaluate_candidates)\u001b[0m\n\u001b[1;32m   1386\u001b[0m \u001b[38;5;28;01mdef\u001b[39;00m \u001b[38;5;21m_run_search\u001b[39m(\u001b[38;5;28mself\u001b[39m, evaluate_candidates):\n\u001b[1;32m   1387\u001b[0m \u001b[38;5;250m    \u001b[39m\u001b[38;5;124;03m\"\"\"Search all candidates in param_grid\"\"\"\u001b[39;00m\n\u001b[0;32m-> 1388\u001b[0m     evaluate_candidates(ParameterGrid(\u001b[38;5;28mself\u001b[39m\u001b[38;5;241m.\u001b[39mparam_grid))\n",
      "File \u001b[0;32m~/anaconda3/lib/python3.11/site-packages/sklearn/model_selection/_search.py:821\u001b[0m, in \u001b[0;36mBaseSearchCV.fit.<locals>.evaluate_candidates\u001b[0;34m(candidate_params, cv, more_results)\u001b[0m\n\u001b[1;32m    813\u001b[0m \u001b[38;5;28;01mif\u001b[39;00m \u001b[38;5;28mself\u001b[39m\u001b[38;5;241m.\u001b[39mverbose \u001b[38;5;241m>\u001b[39m \u001b[38;5;241m0\u001b[39m:\n\u001b[1;32m    814\u001b[0m     \u001b[38;5;28mprint\u001b[39m(\n\u001b[1;32m    815\u001b[0m         \u001b[38;5;124m\"\u001b[39m\u001b[38;5;124mFitting \u001b[39m\u001b[38;5;132;01m{0}\u001b[39;00m\u001b[38;5;124m folds for each of \u001b[39m\u001b[38;5;132;01m{1}\u001b[39;00m\u001b[38;5;124m candidates,\u001b[39m\u001b[38;5;124m\"\u001b[39m\n\u001b[1;32m    816\u001b[0m         \u001b[38;5;124m\"\u001b[39m\u001b[38;5;124m totalling \u001b[39m\u001b[38;5;132;01m{2}\u001b[39;00m\u001b[38;5;124m fits\u001b[39m\u001b[38;5;124m\"\u001b[39m\u001b[38;5;241m.\u001b[39mformat(\n\u001b[1;32m    817\u001b[0m             n_splits, n_candidates, n_candidates \u001b[38;5;241m*\u001b[39m n_splits\n\u001b[1;32m    818\u001b[0m         )\n\u001b[1;32m    819\u001b[0m     )\n\u001b[0;32m--> 821\u001b[0m out \u001b[38;5;241m=\u001b[39m parallel(\n\u001b[1;32m    822\u001b[0m     delayed(_fit_and_score)(\n\u001b[1;32m    823\u001b[0m         clone(base_estimator),\n\u001b[1;32m    824\u001b[0m         X,\n\u001b[1;32m    825\u001b[0m         y,\n\u001b[1;32m    826\u001b[0m         train\u001b[38;5;241m=\u001b[39mtrain,\n\u001b[1;32m    827\u001b[0m         test\u001b[38;5;241m=\u001b[39mtest,\n\u001b[1;32m    828\u001b[0m         parameters\u001b[38;5;241m=\u001b[39mparameters,\n\u001b[1;32m    829\u001b[0m         split_progress\u001b[38;5;241m=\u001b[39m(split_idx, n_splits),\n\u001b[1;32m    830\u001b[0m         candidate_progress\u001b[38;5;241m=\u001b[39m(cand_idx, n_candidates),\n\u001b[1;32m    831\u001b[0m         \u001b[38;5;241m*\u001b[39m\u001b[38;5;241m*\u001b[39mfit_and_score_kwargs,\n\u001b[1;32m    832\u001b[0m     )\n\u001b[1;32m    833\u001b[0m     \u001b[38;5;28;01mfor\u001b[39;00m (cand_idx, parameters), (split_idx, (train, test)) \u001b[38;5;129;01min\u001b[39;00m product(\n\u001b[1;32m    834\u001b[0m         \u001b[38;5;28menumerate\u001b[39m(candidate_params), \u001b[38;5;28menumerate\u001b[39m(cv\u001b[38;5;241m.\u001b[39msplit(X, y, groups))\n\u001b[1;32m    835\u001b[0m     )\n\u001b[1;32m    836\u001b[0m )\n\u001b[1;32m    838\u001b[0m \u001b[38;5;28;01mif\u001b[39;00m \u001b[38;5;28mlen\u001b[39m(out) \u001b[38;5;241m<\u001b[39m \u001b[38;5;241m1\u001b[39m:\n\u001b[1;32m    839\u001b[0m     \u001b[38;5;28;01mraise\u001b[39;00m \u001b[38;5;167;01mValueError\u001b[39;00m(\n\u001b[1;32m    840\u001b[0m         \u001b[38;5;124m\"\u001b[39m\u001b[38;5;124mNo fits were performed. \u001b[39m\u001b[38;5;124m\"\u001b[39m\n\u001b[1;32m    841\u001b[0m         \u001b[38;5;124m\"\u001b[39m\u001b[38;5;124mWas the CV iterator empty? \u001b[39m\u001b[38;5;124m\"\u001b[39m\n\u001b[1;32m    842\u001b[0m         \u001b[38;5;124m\"\u001b[39m\u001b[38;5;124mWere there no candidates?\u001b[39m\u001b[38;5;124m\"\u001b[39m\n\u001b[1;32m    843\u001b[0m     )\n",
      "File \u001b[0;32m~/anaconda3/lib/python3.11/site-packages/sklearn/utils/parallel.py:63\u001b[0m, in \u001b[0;36mParallel.__call__\u001b[0;34m(self, iterable)\u001b[0m\n\u001b[1;32m     58\u001b[0m config \u001b[38;5;241m=\u001b[39m get_config()\n\u001b[1;32m     59\u001b[0m iterable_with_config \u001b[38;5;241m=\u001b[39m (\n\u001b[1;32m     60\u001b[0m     (_with_config(delayed_func, config), args, kwargs)\n\u001b[1;32m     61\u001b[0m     \u001b[38;5;28;01mfor\u001b[39;00m delayed_func, args, kwargs \u001b[38;5;129;01min\u001b[39;00m iterable\n\u001b[1;32m     62\u001b[0m )\n\u001b[0;32m---> 63\u001b[0m \u001b[38;5;28;01mreturn\u001b[39;00m \u001b[38;5;28msuper\u001b[39m()\u001b[38;5;241m.\u001b[39m\u001b[38;5;21m__call__\u001b[39m(iterable_with_config)\n",
      "File \u001b[0;32m~/anaconda3/lib/python3.11/site-packages/joblib/parallel.py:1088\u001b[0m, in \u001b[0;36mParallel.__call__\u001b[0;34m(self, iterable)\u001b[0m\n\u001b[1;32m   1085\u001b[0m \u001b[38;5;28;01mif\u001b[39;00m \u001b[38;5;28mself\u001b[39m\u001b[38;5;241m.\u001b[39mdispatch_one_batch(iterator):\n\u001b[1;32m   1086\u001b[0m     \u001b[38;5;28mself\u001b[39m\u001b[38;5;241m.\u001b[39m_iterating \u001b[38;5;241m=\u001b[39m \u001b[38;5;28mself\u001b[39m\u001b[38;5;241m.\u001b[39m_original_iterator \u001b[38;5;129;01mis\u001b[39;00m \u001b[38;5;129;01mnot\u001b[39;00m \u001b[38;5;28;01mNone\u001b[39;00m\n\u001b[0;32m-> 1088\u001b[0m \u001b[38;5;28;01mwhile\u001b[39;00m \u001b[38;5;28mself\u001b[39m\u001b[38;5;241m.\u001b[39mdispatch_one_batch(iterator):\n\u001b[1;32m   1089\u001b[0m     \u001b[38;5;28;01mpass\u001b[39;00m\n\u001b[1;32m   1091\u001b[0m \u001b[38;5;28;01mif\u001b[39;00m pre_dispatch \u001b[38;5;241m==\u001b[39m \u001b[38;5;124m\"\u001b[39m\u001b[38;5;124mall\u001b[39m\u001b[38;5;124m\"\u001b[39m \u001b[38;5;129;01mor\u001b[39;00m n_jobs \u001b[38;5;241m==\u001b[39m \u001b[38;5;241m1\u001b[39m:\n\u001b[1;32m   1092\u001b[0m     \u001b[38;5;66;03m# The iterable was consumed all at once by the above for loop.\u001b[39;00m\n\u001b[1;32m   1093\u001b[0m     \u001b[38;5;66;03m# No need to wait for async callbacks to trigger to\u001b[39;00m\n\u001b[1;32m   1094\u001b[0m     \u001b[38;5;66;03m# consumption.\u001b[39;00m\n",
      "File \u001b[0;32m~/anaconda3/lib/python3.11/site-packages/joblib/parallel.py:901\u001b[0m, in \u001b[0;36mParallel.dispatch_one_batch\u001b[0;34m(self, iterator)\u001b[0m\n\u001b[1;32m    899\u001b[0m     \u001b[38;5;28;01mreturn\u001b[39;00m \u001b[38;5;28;01mFalse\u001b[39;00m\n\u001b[1;32m    900\u001b[0m \u001b[38;5;28;01melse\u001b[39;00m:\n\u001b[0;32m--> 901\u001b[0m     \u001b[38;5;28mself\u001b[39m\u001b[38;5;241m.\u001b[39m_dispatch(tasks)\n\u001b[1;32m    902\u001b[0m     \u001b[38;5;28;01mreturn\u001b[39;00m \u001b[38;5;28;01mTrue\u001b[39;00m\n",
      "File \u001b[0;32m~/anaconda3/lib/python3.11/site-packages/joblib/parallel.py:819\u001b[0m, in \u001b[0;36mParallel._dispatch\u001b[0;34m(self, batch)\u001b[0m\n\u001b[1;32m    817\u001b[0m \u001b[38;5;28;01mwith\u001b[39;00m \u001b[38;5;28mself\u001b[39m\u001b[38;5;241m.\u001b[39m_lock:\n\u001b[1;32m    818\u001b[0m     job_idx \u001b[38;5;241m=\u001b[39m \u001b[38;5;28mlen\u001b[39m(\u001b[38;5;28mself\u001b[39m\u001b[38;5;241m.\u001b[39m_jobs)\n\u001b[0;32m--> 819\u001b[0m     job \u001b[38;5;241m=\u001b[39m \u001b[38;5;28mself\u001b[39m\u001b[38;5;241m.\u001b[39m_backend\u001b[38;5;241m.\u001b[39mapply_async(batch, callback\u001b[38;5;241m=\u001b[39mcb)\n\u001b[1;32m    820\u001b[0m     \u001b[38;5;66;03m# A job can complete so quickly than its callback is\u001b[39;00m\n\u001b[1;32m    821\u001b[0m     \u001b[38;5;66;03m# called before we get here, causing self._jobs to\u001b[39;00m\n\u001b[1;32m    822\u001b[0m     \u001b[38;5;66;03m# grow. To ensure correct results ordering, .insert is\u001b[39;00m\n\u001b[1;32m    823\u001b[0m     \u001b[38;5;66;03m# used (rather than .append) in the following line\u001b[39;00m\n\u001b[1;32m    824\u001b[0m     \u001b[38;5;28mself\u001b[39m\u001b[38;5;241m.\u001b[39m_jobs\u001b[38;5;241m.\u001b[39minsert(job_idx, job)\n",
      "File \u001b[0;32m~/anaconda3/lib/python3.11/site-packages/joblib/_parallel_backends.py:208\u001b[0m, in \u001b[0;36mSequentialBackend.apply_async\u001b[0;34m(self, func, callback)\u001b[0m\n\u001b[1;32m    206\u001b[0m \u001b[38;5;28;01mdef\u001b[39;00m \u001b[38;5;21mapply_async\u001b[39m(\u001b[38;5;28mself\u001b[39m, func, callback\u001b[38;5;241m=\u001b[39m\u001b[38;5;28;01mNone\u001b[39;00m):\n\u001b[1;32m    207\u001b[0m \u001b[38;5;250m    \u001b[39m\u001b[38;5;124;03m\"\"\"Schedule a func to be run\"\"\"\u001b[39;00m\n\u001b[0;32m--> 208\u001b[0m     result \u001b[38;5;241m=\u001b[39m ImmediateResult(func)\n\u001b[1;32m    209\u001b[0m     \u001b[38;5;28;01mif\u001b[39;00m callback:\n\u001b[1;32m    210\u001b[0m         callback(result)\n",
      "File \u001b[0;32m~/anaconda3/lib/python3.11/site-packages/joblib/_parallel_backends.py:597\u001b[0m, in \u001b[0;36mImmediateResult.__init__\u001b[0;34m(self, batch)\u001b[0m\n\u001b[1;32m    594\u001b[0m \u001b[38;5;28;01mdef\u001b[39;00m \u001b[38;5;21m__init__\u001b[39m(\u001b[38;5;28mself\u001b[39m, batch):\n\u001b[1;32m    595\u001b[0m     \u001b[38;5;66;03m# Don't delay the application, to avoid keeping the input\u001b[39;00m\n\u001b[1;32m    596\u001b[0m     \u001b[38;5;66;03m# arguments in memory\u001b[39;00m\n\u001b[0;32m--> 597\u001b[0m     \u001b[38;5;28mself\u001b[39m\u001b[38;5;241m.\u001b[39mresults \u001b[38;5;241m=\u001b[39m batch()\n",
      "File \u001b[0;32m~/anaconda3/lib/python3.11/site-packages/joblib/parallel.py:288\u001b[0m, in \u001b[0;36mBatchedCalls.__call__\u001b[0;34m(self)\u001b[0m\n\u001b[1;32m    284\u001b[0m \u001b[38;5;28;01mdef\u001b[39;00m \u001b[38;5;21m__call__\u001b[39m(\u001b[38;5;28mself\u001b[39m):\n\u001b[1;32m    285\u001b[0m     \u001b[38;5;66;03m# Set the default nested backend to self._backend but do not set the\u001b[39;00m\n\u001b[1;32m    286\u001b[0m     \u001b[38;5;66;03m# change the default number of processes to -1\u001b[39;00m\n\u001b[1;32m    287\u001b[0m     \u001b[38;5;28;01mwith\u001b[39;00m parallel_backend(\u001b[38;5;28mself\u001b[39m\u001b[38;5;241m.\u001b[39m_backend, n_jobs\u001b[38;5;241m=\u001b[39m\u001b[38;5;28mself\u001b[39m\u001b[38;5;241m.\u001b[39m_n_jobs):\n\u001b[0;32m--> 288\u001b[0m         \u001b[38;5;28;01mreturn\u001b[39;00m [func(\u001b[38;5;241m*\u001b[39margs, \u001b[38;5;241m*\u001b[39m\u001b[38;5;241m*\u001b[39mkwargs)\n\u001b[1;32m    289\u001b[0m                 \u001b[38;5;28;01mfor\u001b[39;00m func, args, kwargs \u001b[38;5;129;01min\u001b[39;00m \u001b[38;5;28mself\u001b[39m\u001b[38;5;241m.\u001b[39mitems]\n",
      "File \u001b[0;32m~/anaconda3/lib/python3.11/site-packages/joblib/parallel.py:288\u001b[0m, in \u001b[0;36m<listcomp>\u001b[0;34m(.0)\u001b[0m\n\u001b[1;32m    284\u001b[0m \u001b[38;5;28;01mdef\u001b[39;00m \u001b[38;5;21m__call__\u001b[39m(\u001b[38;5;28mself\u001b[39m):\n\u001b[1;32m    285\u001b[0m     \u001b[38;5;66;03m# Set the default nested backend to self._backend but do not set the\u001b[39;00m\n\u001b[1;32m    286\u001b[0m     \u001b[38;5;66;03m# change the default number of processes to -1\u001b[39;00m\n\u001b[1;32m    287\u001b[0m     \u001b[38;5;28;01mwith\u001b[39;00m parallel_backend(\u001b[38;5;28mself\u001b[39m\u001b[38;5;241m.\u001b[39m_backend, n_jobs\u001b[38;5;241m=\u001b[39m\u001b[38;5;28mself\u001b[39m\u001b[38;5;241m.\u001b[39m_n_jobs):\n\u001b[0;32m--> 288\u001b[0m         \u001b[38;5;28;01mreturn\u001b[39;00m [func(\u001b[38;5;241m*\u001b[39margs, \u001b[38;5;241m*\u001b[39m\u001b[38;5;241m*\u001b[39mkwargs)\n\u001b[1;32m    289\u001b[0m                 \u001b[38;5;28;01mfor\u001b[39;00m func, args, kwargs \u001b[38;5;129;01min\u001b[39;00m \u001b[38;5;28mself\u001b[39m\u001b[38;5;241m.\u001b[39mitems]\n",
      "File \u001b[0;32m~/anaconda3/lib/python3.11/site-packages/sklearn/utils/parallel.py:123\u001b[0m, in \u001b[0;36m_FuncWrapper.__call__\u001b[0;34m(self, *args, **kwargs)\u001b[0m\n\u001b[1;32m    121\u001b[0m     config \u001b[38;5;241m=\u001b[39m {}\n\u001b[1;32m    122\u001b[0m \u001b[38;5;28;01mwith\u001b[39;00m config_context(\u001b[38;5;241m*\u001b[39m\u001b[38;5;241m*\u001b[39mconfig):\n\u001b[0;32m--> 123\u001b[0m     \u001b[38;5;28;01mreturn\u001b[39;00m \u001b[38;5;28mself\u001b[39m\u001b[38;5;241m.\u001b[39mfunction(\u001b[38;5;241m*\u001b[39margs, \u001b[38;5;241m*\u001b[39m\u001b[38;5;241m*\u001b[39mkwargs)\n",
      "File \u001b[0;32m~/anaconda3/lib/python3.11/site-packages/sklearn/model_selection/_validation.py:708\u001b[0m, in \u001b[0;36m_fit_and_score\u001b[0;34m(estimator, X, y, scorer, train, test, verbose, parameters, fit_params, return_train_score, return_parameters, return_n_test_samples, return_times, return_estimator, split_progress, candidate_progress, error_score)\u001b[0m\n\u001b[1;32m    705\u001b[0m result[\u001b[38;5;124m\"\u001b[39m\u001b[38;5;124mfit_error\u001b[39m\u001b[38;5;124m\"\u001b[39m] \u001b[38;5;241m=\u001b[39m \u001b[38;5;28;01mNone\u001b[39;00m\n\u001b[1;32m    707\u001b[0m fit_time \u001b[38;5;241m=\u001b[39m time\u001b[38;5;241m.\u001b[39mtime() \u001b[38;5;241m-\u001b[39m start_time\n\u001b[0;32m--> 708\u001b[0m test_scores \u001b[38;5;241m=\u001b[39m _score(estimator, X_test, y_test, scorer, error_score)\n\u001b[1;32m    709\u001b[0m score_time \u001b[38;5;241m=\u001b[39m time\u001b[38;5;241m.\u001b[39mtime() \u001b[38;5;241m-\u001b[39m start_time \u001b[38;5;241m-\u001b[39m fit_time\n\u001b[1;32m    710\u001b[0m \u001b[38;5;28;01mif\u001b[39;00m return_train_score:\n",
      "File \u001b[0;32m~/anaconda3/lib/python3.11/site-packages/sklearn/model_selection/_validation.py:767\u001b[0m, in \u001b[0;36m_score\u001b[0;34m(estimator, X_test, y_test, scorer, error_score)\u001b[0m\n\u001b[1;32m    765\u001b[0m         scores \u001b[38;5;241m=\u001b[39m scorer(estimator, X_test)\n\u001b[1;32m    766\u001b[0m     \u001b[38;5;28;01melse\u001b[39;00m:\n\u001b[0;32m--> 767\u001b[0m         scores \u001b[38;5;241m=\u001b[39m scorer(estimator, X_test, y_test)\n\u001b[1;32m    768\u001b[0m \u001b[38;5;28;01mexcept\u001b[39;00m \u001b[38;5;167;01mException\u001b[39;00m:\n\u001b[1;32m    769\u001b[0m     \u001b[38;5;28;01mif\u001b[39;00m \u001b[38;5;28misinstance\u001b[39m(scorer, _MultimetricScorer):\n\u001b[1;32m    770\u001b[0m         \u001b[38;5;66;03m# If `_MultimetricScorer` raises exception, the `error_score`\u001b[39;00m\n\u001b[1;32m    771\u001b[0m         \u001b[38;5;66;03m# parameter is equal to \"raise\".\u001b[39;00m\n",
      "File \u001b[0;32m~/anaconda3/lib/python3.11/site-packages/sklearn/metrics/_scorer.py:444\u001b[0m, in \u001b[0;36m_passthrough_scorer\u001b[0;34m(estimator, *args, **kwargs)\u001b[0m\n\u001b[1;32m    442\u001b[0m \u001b[38;5;28;01mdef\u001b[39;00m \u001b[38;5;21m_passthrough_scorer\u001b[39m(estimator, \u001b[38;5;241m*\u001b[39margs, \u001b[38;5;241m*\u001b[39m\u001b[38;5;241m*\u001b[39mkwargs):\n\u001b[1;32m    443\u001b[0m \u001b[38;5;250m    \u001b[39m\u001b[38;5;124;03m\"\"\"Function that wraps estimator.score\"\"\"\u001b[39;00m\n\u001b[0;32m--> 444\u001b[0m     \u001b[38;5;28;01mreturn\u001b[39;00m estimator\u001b[38;5;241m.\u001b[39mscore(\u001b[38;5;241m*\u001b[39margs, \u001b[38;5;241m*\u001b[39m\u001b[38;5;241m*\u001b[39mkwargs)\n",
      "File \u001b[0;32m~/anaconda3/lib/python3.11/site-packages/sklearn/base.py:722\u001b[0m, in \u001b[0;36mRegressorMixin.score\u001b[0;34m(self, X, y, sample_weight)\u001b[0m\n\u001b[1;32m    680\u001b[0m \u001b[38;5;250m\u001b[39m\u001b[38;5;124;03m\"\"\"Return the coefficient of determination of the prediction.\u001b[39;00m\n\u001b[1;32m    681\u001b[0m \n\u001b[1;32m    682\u001b[0m \u001b[38;5;124;03mThe coefficient of determination :math:`R^2` is defined as\u001b[39;00m\n\u001b[0;32m   (...)\u001b[0m\n\u001b[1;32m    717\u001b[0m \u001b[38;5;124;03m:class:`~sklearn.multioutput.MultiOutputRegressor`).\u001b[39;00m\n\u001b[1;32m    718\u001b[0m \u001b[38;5;124;03m\"\"\"\u001b[39;00m\n\u001b[1;32m    720\u001b[0m \u001b[38;5;28;01mfrom\u001b[39;00m \u001b[38;5;21;01m.\u001b[39;00m\u001b[38;5;21;01mmetrics\u001b[39;00m \u001b[38;5;28;01mimport\u001b[39;00m r2_score\n\u001b[0;32m--> 722\u001b[0m y_pred \u001b[38;5;241m=\u001b[39m \u001b[38;5;28mself\u001b[39m\u001b[38;5;241m.\u001b[39mpredict(X)\n\u001b[1;32m    723\u001b[0m \u001b[38;5;28;01mreturn\u001b[39;00m r2_score(y, y_pred, sample_weight\u001b[38;5;241m=\u001b[39msample_weight)\n",
      "File \u001b[0;32m~/anaconda3/lib/python3.11/site-packages/sklearn/svm/_base.py:435\u001b[0m, in \u001b[0;36mBaseLibSVM.predict\u001b[0;34m(self, X)\u001b[0m\n\u001b[1;32m    433\u001b[0m X \u001b[38;5;241m=\u001b[39m \u001b[38;5;28mself\u001b[39m\u001b[38;5;241m.\u001b[39m_validate_for_predict(X)\n\u001b[1;32m    434\u001b[0m predict \u001b[38;5;241m=\u001b[39m \u001b[38;5;28mself\u001b[39m\u001b[38;5;241m.\u001b[39m_sparse_predict \u001b[38;5;28;01mif\u001b[39;00m \u001b[38;5;28mself\u001b[39m\u001b[38;5;241m.\u001b[39m_sparse \u001b[38;5;28;01melse\u001b[39;00m \u001b[38;5;28mself\u001b[39m\u001b[38;5;241m.\u001b[39m_dense_predict\n\u001b[0;32m--> 435\u001b[0m \u001b[38;5;28;01mreturn\u001b[39;00m predict(X)\n",
      "File \u001b[0;32m~/anaconda3/lib/python3.11/site-packages/sklearn/svm/_base.py:454\u001b[0m, in \u001b[0;36mBaseLibSVM._dense_predict\u001b[0;34m(self, X)\u001b[0m\n\u001b[1;32m    446\u001b[0m         \u001b[38;5;28;01mraise\u001b[39;00m \u001b[38;5;167;01mValueError\u001b[39;00m(\n\u001b[1;32m    447\u001b[0m             \u001b[38;5;124m\"\u001b[39m\u001b[38;5;124mX.shape[1] = \u001b[39m\u001b[38;5;132;01m%d\u001b[39;00m\u001b[38;5;124m should be equal to \u001b[39m\u001b[38;5;132;01m%d\u001b[39;00m\u001b[38;5;124m, \u001b[39m\u001b[38;5;124m\"\u001b[39m\n\u001b[1;32m    448\u001b[0m             \u001b[38;5;124m\"\u001b[39m\u001b[38;5;124mthe number of samples at training time\u001b[39m\u001b[38;5;124m\"\u001b[39m\n\u001b[1;32m    449\u001b[0m             \u001b[38;5;241m%\u001b[39m (X\u001b[38;5;241m.\u001b[39mshape[\u001b[38;5;241m1\u001b[39m], \u001b[38;5;28mself\u001b[39m\u001b[38;5;241m.\u001b[39mshape_fit_[\u001b[38;5;241m0\u001b[39m])\n\u001b[1;32m    450\u001b[0m         )\n\u001b[1;32m    452\u001b[0m svm_type \u001b[38;5;241m=\u001b[39m LIBSVM_IMPL\u001b[38;5;241m.\u001b[39mindex(\u001b[38;5;28mself\u001b[39m\u001b[38;5;241m.\u001b[39m_impl)\n\u001b[0;32m--> 454\u001b[0m \u001b[38;5;28;01mreturn\u001b[39;00m libsvm\u001b[38;5;241m.\u001b[39mpredict(\n\u001b[1;32m    455\u001b[0m     X,\n\u001b[1;32m    456\u001b[0m     \u001b[38;5;28mself\u001b[39m\u001b[38;5;241m.\u001b[39msupport_,\n\u001b[1;32m    457\u001b[0m     \u001b[38;5;28mself\u001b[39m\u001b[38;5;241m.\u001b[39msupport_vectors_,\n\u001b[1;32m    458\u001b[0m     \u001b[38;5;28mself\u001b[39m\u001b[38;5;241m.\u001b[39m_n_support,\n\u001b[1;32m    459\u001b[0m     \u001b[38;5;28mself\u001b[39m\u001b[38;5;241m.\u001b[39m_dual_coef_,\n\u001b[1;32m    460\u001b[0m     \u001b[38;5;28mself\u001b[39m\u001b[38;5;241m.\u001b[39m_intercept_,\n\u001b[1;32m    461\u001b[0m     \u001b[38;5;28mself\u001b[39m\u001b[38;5;241m.\u001b[39m_probA,\n\u001b[1;32m    462\u001b[0m     \u001b[38;5;28mself\u001b[39m\u001b[38;5;241m.\u001b[39m_probB,\n\u001b[1;32m    463\u001b[0m     svm_type\u001b[38;5;241m=\u001b[39msvm_type,\n\u001b[1;32m    464\u001b[0m     kernel\u001b[38;5;241m=\u001b[39mkernel,\n\u001b[1;32m    465\u001b[0m     degree\u001b[38;5;241m=\u001b[39m\u001b[38;5;28mself\u001b[39m\u001b[38;5;241m.\u001b[39mdegree,\n\u001b[1;32m    466\u001b[0m     coef0\u001b[38;5;241m=\u001b[39m\u001b[38;5;28mself\u001b[39m\u001b[38;5;241m.\u001b[39mcoef0,\n\u001b[1;32m    467\u001b[0m     gamma\u001b[38;5;241m=\u001b[39m\u001b[38;5;28mself\u001b[39m\u001b[38;5;241m.\u001b[39m_gamma,\n\u001b[1;32m    468\u001b[0m     cache_size\u001b[38;5;241m=\u001b[39m\u001b[38;5;28mself\u001b[39m\u001b[38;5;241m.\u001b[39mcache_size,\n\u001b[1;32m    469\u001b[0m )\n",
      "\u001b[0;31mKeyboardInterrupt\u001b[0m: "
     ]
    }
   ],
   "source": [
    "from sklearn.model_selection import GridSearchCV\n",
    "\n",
    "parameters = {'kernel': ('linear', 'rbf'), 'C':[1.5, 2,3],'gamma': [0.1,0.2,0.3,0.4],'epsilon':[0.1,0.2,0.3,0.4]}\n",
    "model_svr = SVR()\n",
    "gs_cv = GridSearchCV(model_svr, parameters,cv=5,refit='r2',verbose=4)\n",
    "gs_cv.fit(X_train, y_train)"
   ]
  },
  {
   "cell_type": "code",
   "execution_count": 135,
   "id": "9b610e24",
   "metadata": {},
   "outputs": [
    {
     "ename": "AttributeError",
     "evalue": "'GridSearchCV' object has no attribute 'best_params_'",
     "output_type": "error",
     "traceback": [
      "\u001b[0;31m---------------------------------------------------------------------------\u001b[0m",
      "\u001b[0;31mAttributeError\u001b[0m                            Traceback (most recent call last)",
      "Cell \u001b[0;32mIn[135], line 1\u001b[0m\n\u001b[0;32m----> 1\u001b[0m \u001b[38;5;28mprint\u001b[39m(\u001b[38;5;124m\"\u001b[39m\u001b[38;5;124mBest params founded are : \u001b[39m\u001b[38;5;124m\"\u001b[39m, gs_cv\u001b[38;5;241m.\u001b[39mbest_params_)\n\u001b[1;32m      2\u001b[0m \u001b[38;5;28mprint\u001b[39m(\u001b[38;5;124m\"\u001b[39m\u001b[38;5;124mBest_estimators founded are : \u001b[39m\u001b[38;5;124m\"\u001b[39m,gs_cv\u001b[38;5;241m.\u001b[39mbest_estimator_)\n\u001b[1;32m      3\u001b[0m \u001b[38;5;28mprint\u001b[39m(\u001b[38;5;124m\"\u001b[39m\u001b[38;5;124mBest score founded is: \u001b[39m\u001b[38;5;124m\"\u001b[39m,gs_cv\u001b[38;5;241m.\u001b[39mbest_score_)\n",
      "\u001b[0;31mAttributeError\u001b[0m: 'GridSearchCV' object has no attribute 'best_params_'"
     ]
    }
   ],
   "source": [
    "print(\"Best params founded are : \", gs_cv.best_params_)\n",
    "print(\"Best_estimators founded are : \",gs_cv.best_estimator_)\n",
    "print(\"Best score founded is: \",gs_cv.best_score_)"
   ]
  },
  {
   "cell_type": "markdown",
   "id": "76358b17",
   "metadata": {},
   "source": [
    "from sklearn.preprocessing import LabelEncoder\n",
    "gle = LabelEncoder()\n",
    "genre_labels = gle.fit_transform(vg_df['Genre'])\n",
    "genre_mappings = {index: label for index, label in \n",
    "                  enumerate(gle.classes_)}\n",
    "genre_mappings"
   ]
  },
  {
   "cell_type": "markdown",
   "id": "63645c3d",
   "metadata": {},
   "source": [
    "## OVERFITTING or Underfitting ==> get the variance to show overfitting if is HIGH !! \n",
    "## UNERFITTING when there's a HIGH Bias"
   ]
  },
  {
   "cell_type": "code",
   "execution_count": null,
   "id": "39640caa",
   "metadata": {},
   "outputs": [],
   "source": [
    "def draw_boxplot(column,x_label,y_label):\n",
    "    fig = plt.figure(1, figsize=(9, 6))\n",
    "    ax = fig.add_subplot(111)\n",
    "\n",
    "    ax.boxplot(column, vert=False, manage_ticks=True,boxprops=dict(color='red'))\n",
    "    ax.set_xlabel(x_label)\n",
    "    ax.set_yticks([1])\n",
    "    ax.set_yticklabels([y_label])\n",
    "\n",
    "    quantiles = np.quantile(column, np.array([0.00, 0.25, 0.50, 0.75, 1.00]))\n",
    "    ax.vlines(quantiles, [0] * quantiles.size, [1] * quantiles.size,\n",
    "              color='b', ls=':', lw=0.5, zorder=0)\n",
    "    ax.set_ylim(0.5, 1.5)\n",
    "    ax.set_xticks(quantiles)\n",
    "    plt.show()"
   ]
  },
  {
   "cell_type": "code",
   "execution_count": null,
   "id": "1a0d5dce",
   "metadata": {},
   "outputs": [],
   "source": [
    "def draw_histogram(column,color_bar,color_border,):\n",
    "    sns.distplot(column, hist=True, kde=True, \n",
    "             bins=int(180/5), color = color_bar, \n",
    "             hist_kws={'edgecolor':color_border},\n",
    "             kde_kws={'linewidth': 4});"
   ]
  },
  {
   "cell_type": "code",
   "execution_count": null,
   "id": "d4b0e948",
   "metadata": {},
   "outputs": [],
   "source": [
    "from scipy import stats\n",
    "print('variance of year',np.var(df_aofm['year']))\n",
    "print('variance of average_year',np.var(df_aofm['average_age']))\n",
    "\n",
    "\n",
    "m = stats.mode(df_aofm['average_age'])\n",
    "print(m)"
   ]
  },
  {
   "cell_type": "markdown",
   "id": "ce49dc21",
   "metadata": {},
   "source": [
    "## Visualize data using heatmap"
   ]
  },
  {
   "cell_type": "code",
   "execution_count": 11,
   "id": "d0640cd3",
   "metadata": {},
   "outputs": [
    {
     "data": {
      "text/plain": [
       "<Axes: >"
      ]
     },
     "execution_count": 11,
     "metadata": {},
     "output_type": "execute_result"
    },
    {
     "data": {
      "image/png": "[encoded data removed]",
      "text/plain": [
       "<Figure size 640x480 with 2 Axes>"
      ]
     },
     "metadata": {},
     "output_type": "display_data"
    }
   ],
   "source": [
    "cols = [\"year\",'average_age']\n",
    "coef_heat = np.corrcoef(df_aofm[cols].values.T)\n",
    "sns.heatmap(coef_heat,cmap=\"coolwarm\",yticklabels=cols,xticklabels=cols,annot=True,cbar=True)"
   ]
  },
  {
   "cell_type": "code",
   "execution_count": 16,
   "id": "064d6a3e",
   "metadata": {},
   "outputs": [
    {
     "data": {
      "text/plain": [
       "<matplotlib.collections.PathCollection at 0x168d25a90>"
      ]
     },
     "execution_count": 16,
     "metadata": {},
     "output_type": "execute_result"
    },
    {
     "data": {
      "image/png": "[encoded data removed]",
      "text/plain": [
       "<Figure size 640x480 with 1 Axes>"
      ]
     },
     "metadata": {},
     "output_type": "display_data"
    }
   ],
   "source": [
    "plt.scatter(X_train,y_train)\n",
    "plt.scatter(X_train,y_pred_train,color='red')"
   ]
  },
  {
   "cell_type": "code",
   "execution_count": null,
   "id": "8fae2264",
   "metadata": {},
   "outputs": [],
   "source": [
    "plt.scatter(X_train,y_train)\n",
    "plt.scatter(X_train,y_pred_train,color='red')"
   ]
  },
  {
   "cell_type": "code",
   "execution_count": null,
   "id": "a0260107",
   "metadata": {},
   "outputs": [],
   "source": [
    "from sklearn.model_selection import GridSearchCV\n",
    "\n",
    "parameters = {'kernel': ('linear', 'rbf'), 'C':[1.5, 2,3],'gamma': [0.1,0.2,0.3,0.4],'epsilon':[0.1,0.2,0.3,0.4]}\n",
    "model_svr = SVR()\n",
    "gs_cv = GridSearchCV(model_svr, parameters,cv=5,refit='r2',verbose=4)\n",
    "gs_cv.fit(X_train, y_train)\n"
   ]
  },
  {
   "cell_type": "code",
   "execution_count": null,
   "id": "306bb1f1",
   "metadata": {},
   "outputs": [],
   "source": [
    "print(\"Best params founded are : \", gs_cv.best_params_)\n",
    "print(\"Best_estimators founded are : \",gs_cv.best_estimator_)\n",
    "print(\"Best score founded is: \",gs_cv.best_score_)"
   ]
  },
  {
   "cell_type": "markdown",
   "id": "7a6e8039",
   "metadata": {},
   "source": [
    "## IMPROVE CODING usinf FOR with LAbelEncoder"
   ]
  },
  {
   "cell_type": "code",
   "execution_count": null,
   "id": "cd4f2253",
   "metadata": {},
   "outputs": [],
   "source": [
    "for c in x_train_full.columns:\n",
    "    if x_train_full[c].dtype == 'object':\n",
    "        lbl = preprocessing.LabelEncoder()\n",
    "        lbl.fit(list(x_train_full[c].values))\n",
    "        x_train_full[c] = lbl.transform(list(x_train_full[c].values))\n",
    "        # x_train_full.drop(c,axis=1,inplace=True)\n",
    "\n",
    "for c in x_test.columns:\n",
    "    if x_test[c].dtype == 'object':\n",
    "        lbl = preprocessing.LabelEncoder()\n",
    "        lbl.fit(list(x_test[c].values))\n",
    "        x_test[c] = lbl.transform(list(x_test[c].values))\n",
    "        # x_test.drop(c,axis=1,inplace=True)"
   ]
  },
  {
   "cell_type": "markdown",
   "id": "2adb04b0",
   "metadata": {},
   "source": [
    "## OVERFITTING or Underfitting ==> get the variance to show overfitting if is HIGH !! \n",
    "## UNERFITTING when there's a HIGH Bias"
   ]
  },
  {
   "cell_type": "code",
   "execution_count": null,
   "id": "e7b1b2c6",
   "metadata": {},
   "outputs": [],
   "source": []
  }
 ],
 "metadata": {
  "kernelspec": {
   "display_name": "Python 3 (ipykernel)",
   "language": "python",
   "name": "python3"
  },
  "language_info": {
   "codemirror_mode": {
    "name": "ipython",
    "version": 3
   },
   "file_extension": ".py",
   "mimetype": "text/x-python",
   "name": "python",
   "nbconvert_exporter": "python",
   "pygments_lexer": "ipython3",
   "version": "3.11.5"
  }
 },
 "nbformat": 4,
 "nbformat_minor": 5
}
