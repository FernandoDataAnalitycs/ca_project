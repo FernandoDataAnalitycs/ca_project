{
 "cells": [
  {
   "cell_type": "code",
   "execution_count": 1,
   "id": "05ee561b",
   "metadata": {},
   "outputs": [],
   "source": [
    "import pandas as pd \n",
    "import numpy as np \n",
    "import seaborn as sns \n",
    "from scipy import stats \n",
    "import matplotlib.pyplot as plt\n",
    "from empiricaldist import Pmf , Cdf\n",
    "from matplotlib.ticker import PercentFormatter\n",
    "\n",
    "import warnings\n",
    "warnings.filterwarnings(\"ignore\")"
   ]
  },
  {
   "cell_type": "markdown",
   "id": "63645c3d",
   "metadata": {},
   "source": [
    "## OVERFITTING or Underfitting ==> get the variance to show overfitting if is HIGH !! \n",
    "## UNERFITTING when there's a HIGH Bias"
   ]
  },
  {
   "cell_type": "code",
   "execution_count": 2,
   "id": "39640caa",
   "metadata": {},
   "outputs": [],
   "source": [
    "df_awe = pd.read_csv('QIPQ1_avg_weekly_earnings.csv')# awe average weekly earnings"
   ]
  },
  {
   "cell_type": "code",
   "execution_count": 3,
   "id": "55fe25fa",
   "metadata": {},
   "outputs": [
    {
     "data": {
      "text/html": [
       "<div>\n",
       "<style scoped>\n",
       "    .dataframe tbody tr th:only-of-type {\n",
       "        vertical-align: middle;\n",
       "    }\n",
       "\n",
       "    .dataframe tbody tr th {\n",
       "        vertical-align: top;\n",
       "    }\n",
       "\n",
       "    .dataframe thead th {\n",
       "        text-align: right;\n",
       "    }\n",
       "</style>\n",
       "<table border=\"1\" class=\"dataframe\">\n",
       "  <thead>\n",
       "    <tr style=\"text-align: right;\">\n",
       "      <th></th>\n",
       "      <th>Industry Sector</th>\n",
       "      <th>Type of Employee</th>\n",
       "      <th>Quarter</th>\n",
       "      <th>Statistic Label</th>\n",
       "      <th>UNIT</th>\n",
       "      <th>VALUE</th>\n",
       "    </tr>\n",
       "  </thead>\n",
       "  <tbody>\n",
       "    <tr>\n",
       "      <th>4315</th>\n",
       "      <td>Mining and Quarrying (NACE 10-14)</td>\n",
       "      <td>Industrial Employees</td>\n",
       "      <td>2006Q2</td>\n",
       "      <td>Average Weekly Earnings (Euro)</td>\n",
       "      <td>Euro</td>\n",
       "      <td>NaN</td>\n",
       "    </tr>\n",
       "    <tr>\n",
       "      <th>4316</th>\n",
       "      <td>Mining and Quarrying (NACE 10-14)</td>\n",
       "      <td>Industrial Employees</td>\n",
       "      <td>2006Q3</td>\n",
       "      <td>Average Weekly Earnings (Euro)</td>\n",
       "      <td>Euro</td>\n",
       "      <td>NaN</td>\n",
       "    </tr>\n",
       "    <tr>\n",
       "      <th>4317</th>\n",
       "      <td>Mining and Quarrying (NACE 10-14)</td>\n",
       "      <td>Industrial Employees</td>\n",
       "      <td>2006Q4</td>\n",
       "      <td>Average Weekly Earnings (Euro)</td>\n",
       "      <td>Euro</td>\n",
       "      <td>NaN</td>\n",
       "    </tr>\n",
       "    <tr>\n",
       "      <th>4318</th>\n",
       "      <td>Mining and Quarrying (NACE 10-14)</td>\n",
       "      <td>Industrial Employees</td>\n",
       "      <td>2007Q1</td>\n",
       "      <td>Average Weekly Earnings (Euro)</td>\n",
       "      <td>Euro</td>\n",
       "      <td>NaN</td>\n",
       "    </tr>\n",
       "    <tr>\n",
       "      <th>4319</th>\n",
       "      <td>Mining and Quarrying (NACE 10-14)</td>\n",
       "      <td>Industrial Employees</td>\n",
       "      <td>2007Q2</td>\n",
       "      <td>Average Weekly Earnings (Euro)</td>\n",
       "      <td>Euro</td>\n",
       "      <td>NaN</td>\n",
       "    </tr>\n",
       "  </tbody>\n",
       "</table>\n",
       "</div>"
      ],
      "text/plain": [
       "                        Industry Sector      Type of Employee Quarter  \\\n",
       "4315  Mining and Quarrying (NACE 10-14)  Industrial Employees  2006Q2   \n",
       "4316  Mining and Quarrying (NACE 10-14)  Industrial Employees  2006Q3   \n",
       "4317  Mining and Quarrying (NACE 10-14)  Industrial Employees  2006Q4   \n",
       "4318  Mining and Quarrying (NACE 10-14)  Industrial Employees  2007Q1   \n",
       "4319  Mining and Quarrying (NACE 10-14)  Industrial Employees  2007Q2   \n",
       "\n",
       "                     Statistic Label  UNIT  VALUE  \n",
       "4315  Average Weekly Earnings (Euro)  Euro    NaN  \n",
       "4316  Average Weekly Earnings (Euro)  Euro    NaN  \n",
       "4317  Average Weekly Earnings (Euro)  Euro    NaN  \n",
       "4318  Average Weekly Earnings (Euro)  Euro    NaN  \n",
       "4319  Average Weekly Earnings (Euro)  Euro    NaN  "
      ]
     },
     "execution_count": 3,
     "metadata": {},
     "output_type": "execute_result"
    }
   ],
   "source": [
    "df_awe.tail()"
   ]
  },
  {
   "cell_type": "code",
   "execution_count": 4,
   "id": "02ccda28",
   "metadata": {},
   "outputs": [
    {
     "name": "stdout",
     "output_type": "stream",
     "text": [
      "CHECKING the shape:  (4320, 6)\n",
      "\n",
      " CHECKING NULL values :\n",
      " Industry Sector      object\n",
      "Type of Employee     object\n",
      "Quarter              object\n",
      "Statistic Label      object\n",
      "UNIT                 object\n",
      "VALUE               float64\n",
      "dtype: object\n",
      "\n",
      " COUNT is :\n",
      " Industry Sector     4320\n",
      "Type of Employee    4320\n",
      "Quarter             4320\n",
      "Statistic Label     4320\n",
      "UNIT                4320\n",
      "VALUE               3420\n",
      "dtype: int64\n",
      "\n",
      " CHECKING NULL values :\n",
      " Industry Sector       0\n",
      "Type of Employee      0\n",
      "Quarter               0\n",
      "Statistic Label       0\n",
      "UNIT                  0\n",
      "VALUE               900\n",
      "dtype: int64\n"
     ]
    }
   ],
   "source": [
    "print(\"CHECKING the shape: \",df_awe.shape)#Checking shape\n",
    "print(\"\\n CHECKING NULL values :\\n\",df_awe.dtypes)#checking data types\n",
    "#print(\"\\n Check info:\\n\",df_fnie.info)# checking info\n",
    "print(\"\\n COUNT is :\\n\",df_awe.count() )#count rows\n",
    "print(\"\\n CHECKING NULL values :\\n\",df_awe.isnull().sum())#checking null values"
   ]
  },
  {
   "cell_type": "markdown",
   "id": "cf9ef43e",
   "metadata": {},
   "source": [
    "### - Column VALUE does not have all the values like the rest.\n",
    "### - Also, there are 900 null values"
   ]
  },
  {
   "cell_type": "code",
   "execution_count": 5,
   "id": "010f3165",
   "metadata": {},
   "outputs": [],
   "source": [
    "df_awe.drop(['UNIT','Statistic Label'], axis=1,inplace=True)# dropping column because i will not use it."
   ]
  },
  {
   "cell_type": "code",
   "execution_count": 6,
   "id": "9a2e76f1",
   "metadata": {},
   "outputs": [],
   "source": [
    "df_awe.rename(columns = {'Industry Sector':'industry_sector',\n",
    "                          'VALUE':'value',\n",
    "                          'Type of Employee':'type_of_employee',\n",
    "                          'Quarter':'quarter'}, \n",
    "                            inplace = True) #Changing column names"
   ]
  },
  {
   "cell_type": "code",
   "execution_count": 7,
   "id": "74e4a0c7",
   "metadata": {},
   "outputs": [
    {
     "data": {
      "text/html": [
       "<div>\n",
       "<style scoped>\n",
       "    .dataframe tbody tr th:only-of-type {\n",
       "        vertical-align: middle;\n",
       "    }\n",
       "\n",
       "    .dataframe tbody tr th {\n",
       "        vertical-align: top;\n",
       "    }\n",
       "\n",
       "    .dataframe thead th {\n",
       "        text-align: right;\n",
       "    }\n",
       "</style>\n",
       "<table border=\"1\" class=\"dataframe\">\n",
       "  <thead>\n",
       "    <tr style=\"text-align: right;\">\n",
       "      <th></th>\n",
       "      <th>industry_sector</th>\n",
       "      <th>type_of_employee</th>\n",
       "      <th>quarter</th>\n",
       "      <th>value</th>\n",
       "    </tr>\n",
       "  </thead>\n",
       "  <tbody>\n",
       "    <tr>\n",
       "      <th>0</th>\n",
       "      <td>All Industries (NACE 1-4)</td>\n",
       "      <td>All Employees</td>\n",
       "      <td>1995Q3</td>\n",
       "      <td>NaN</td>\n",
       "    </tr>\n",
       "    <tr>\n",
       "      <th>1</th>\n",
       "      <td>All Industries (NACE 1-4)</td>\n",
       "      <td>All Employees</td>\n",
       "      <td>1995Q4</td>\n",
       "      <td>402.96</td>\n",
       "    </tr>\n",
       "    <tr>\n",
       "      <th>2</th>\n",
       "      <td>All Industries (NACE 1-4)</td>\n",
       "      <td>All Employees</td>\n",
       "      <td>1996Q1</td>\n",
       "      <td>402.27</td>\n",
       "    </tr>\n",
       "    <tr>\n",
       "      <th>3</th>\n",
       "      <td>All Industries (NACE 1-4)</td>\n",
       "      <td>All Employees</td>\n",
       "      <td>1996Q2</td>\n",
       "      <td>410.23</td>\n",
       "    </tr>\n",
       "    <tr>\n",
       "      <th>4</th>\n",
       "      <td>All Industries (NACE 1-4)</td>\n",
       "      <td>All Employees</td>\n",
       "      <td>1996Q3</td>\n",
       "      <td>407.09</td>\n",
       "    </tr>\n",
       "  </tbody>\n",
       "</table>\n",
       "</div>"
      ],
      "text/plain": [
       "             industry_sector type_of_employee quarter   value\n",
       "0  All Industries (NACE 1-4)    All Employees  1995Q3     NaN\n",
       "1  All Industries (NACE 1-4)    All Employees  1995Q4  402.96\n",
       "2  All Industries (NACE 1-4)    All Employees  1996Q1  402.27\n",
       "3  All Industries (NACE 1-4)    All Employees  1996Q2  410.23\n",
       "4  All Industries (NACE 1-4)    All Employees  1996Q3  407.09"
      ]
     },
     "execution_count": 7,
     "metadata": {},
     "output_type": "execute_result"
    }
   ],
   "source": [
    "df_awe.head()"
   ]
  },
  {
   "cell_type": "code",
   "execution_count": 8,
   "id": "01680f94",
   "metadata": {},
   "outputs": [],
   "source": [
    "df_awe[\"value\"].fillna(0.0, inplace = True)"
   ]
  },
  {
   "cell_type": "code",
   "execution_count": 9,
   "id": "f5b9e943",
   "metadata": {},
   "outputs": [
    {
     "name": "stdout",
     "output_type": "stream",
     "text": [
      "CHECKING NULL in column value : 0\n"
     ]
    }
   ],
   "source": [
    "print(\"CHECKING NULL in column value :\",df_awe['value'].isnull().sum())#checking null values"
   ]
  },
  {
   "cell_type": "code",
   "execution_count": 10,
   "id": "5483fa88",
   "metadata": {},
   "outputs": [],
   "source": [
    "from sklearn.preprocessing import LabelEncoder\n",
    "\n",
    "cols = ['industry_sector', 'type_of_employee', 'quarter']# cloumns to encode\n",
    "\n",
    "df_awe[cols] = df_awe[cols].apply(LabelEncoder().fit_transform)# apply encoder before using model"
   ]
  },
  {
   "cell_type": "code",
   "execution_count": 11,
   "id": "c9be8371",
   "metadata": {},
   "outputs": [
    {
     "data": {
      "text/html": [
       "<div>\n",
       "<style scoped>\n",
       "    .dataframe tbody tr th:only-of-type {\n",
       "        vertical-align: middle;\n",
       "    }\n",
       "\n",
       "    .dataframe tbody tr th {\n",
       "        vertical-align: top;\n",
       "    }\n",
       "\n",
       "    .dataframe thead th {\n",
       "        text-align: right;\n",
       "    }\n",
       "</style>\n",
       "<table border=\"1\" class=\"dataframe\">\n",
       "  <thead>\n",
       "    <tr style=\"text-align: right;\">\n",
       "      <th></th>\n",
       "      <th>industry_sector</th>\n",
       "      <th>type_of_employee</th>\n",
       "      <th>quarter</th>\n",
       "      <th>value</th>\n",
       "    </tr>\n",
       "  </thead>\n",
       "  <tbody>\n",
       "    <tr>\n",
       "      <th>0</th>\n",
       "      <td>0</td>\n",
       "      <td>0</td>\n",
       "      <td>0</td>\n",
       "      <td>0.00</td>\n",
       "    </tr>\n",
       "    <tr>\n",
       "      <th>1</th>\n",
       "      <td>0</td>\n",
       "      <td>0</td>\n",
       "      <td>1</td>\n",
       "      <td>402.96</td>\n",
       "    </tr>\n",
       "    <tr>\n",
       "      <th>2</th>\n",
       "      <td>0</td>\n",
       "      <td>0</td>\n",
       "      <td>2</td>\n",
       "      <td>402.27</td>\n",
       "    </tr>\n",
       "    <tr>\n",
       "      <th>3</th>\n",
       "      <td>0</td>\n",
       "      <td>0</td>\n",
       "      <td>3</td>\n",
       "      <td>410.23</td>\n",
       "    </tr>\n",
       "    <tr>\n",
       "      <th>4</th>\n",
       "      <td>0</td>\n",
       "      <td>0</td>\n",
       "      <td>4</td>\n",
       "      <td>407.09</td>\n",
       "    </tr>\n",
       "  </tbody>\n",
       "</table>\n",
       "</div>"
      ],
      "text/plain": [
       "   industry_sector  type_of_employee  quarter   value\n",
       "0                0                 0        0    0.00\n",
       "1                0                 0        1  402.96\n",
       "2                0                 0        2  402.27\n",
       "3                0                 0        3  410.23\n",
       "4                0                 0        4  407.09"
      ]
     },
     "execution_count": 11,
     "metadata": {},
     "output_type": "execute_result"
    }
   ],
   "source": [
    "df_awe.head()"
   ]
  },
  {
   "cell_type": "markdown",
   "id": "da510201",
   "metadata": {},
   "source": [
    "## Split data to train and test"
   ]
  },
  {
   "cell_type": "code",
   "execution_count": 12,
   "id": "3931255d",
   "metadata": {},
   "outputs": [
    {
     "data": {
      "text/plain": [
       "((4320, 3), (4320,), (3024, 3), (1296, 3), (3024,), (1296,))"
      ]
     },
     "execution_count": 12,
     "metadata": {},
     "output_type": "execute_result"
    }
   ],
   "source": [
    "# import train_test_split from the library sklearn\n",
    "from sklearn.model_selection import train_test_split\n",
    "\n",
    "# Declare a variable named as 'X' and 'y'\n",
    "X = df_awe.iloc[:, :-1].values               # All features (independent varaibles) except MEDV \n",
    "y = df_awe['value'].values                    # Target variable\n",
    "\n",
    "# Split the data into 70% and 30% by using a parameter test_size = 30\n",
    "X_train, X_test, y_train, y_test = train_test_split(X, y, test_size = 0.3, random_state = 0)\n",
    "\n",
    "# Display the size of the rows and columns\n",
    "X.shape, y.shape, X_train.shape, X_test.shape, y_train.shape, y_test.shape"
   ]
  },
  {
   "cell_type": "markdown",
   "id": "efe9c10e",
   "metadata": {},
   "source": [
    "## Apply Random Forest Regression"
   ]
  },
  {
   "cell_type": "code",
   "execution_count": 13,
   "id": "6c6383a0",
   "metadata": {},
   "outputs": [],
   "source": [
    "from sklearn.ensemble import RandomForestRegressor\n",
    "\n",
    "rf = RandomForestRegressor(n_estimators = 500, max_features = 'sqrt', max_depth = 8, random_state = 10)\n",
    "\n",
    "rf.fit(X_train, y_train)\n",
    "\n",
    "y_pred_rfr = rf.predict(X_test)"
   ]
  },
  {
   "cell_type": "code",
   "execution_count": 14,
   "id": "f8b31d31",
   "metadata": {},
   "outputs": [
    {
     "name": "stdout",
     "output_type": "stream",
     "text": [
      "Accuracy: 0.9422713656437022\n",
      "Accuracy in SVR train is:  5937.896914275261\n"
     ]
    }
   ],
   "source": [
    "from sklearn import metrics\n",
    "\n",
    "print(\"Accuracy:\",metrics.r2_score(y_test,y_pred_rfr))\n",
    "print('Accuracy in SVR train is: ',metrics.mean_squared_error(y_test, y_pred_rfr))"
   ]
  },
  {
   "cell_type": "code",
   "execution_count": 15,
   "id": "d93d1654",
   "metadata": {},
   "outputs": [
    {
     "name": "stdout",
     "output_type": "stream",
     "text": [
      "Requirement already satisfied: xgboost in /Users/fernandoleniz/anaconda3/lib/python3.11/site-packages (2.0.1)\n",
      "Requirement already satisfied: numpy in /Users/fernandoleniz/anaconda3/lib/python3.11/site-packages (from xgboost) (1.25.2)\n",
      "Requirement already satisfied: scipy in /Users/fernandoleniz/anaconda3/lib/python3.11/site-packages (from xgboost) (1.11.3)\n",
      "Note: you may need to restart the kernel to use updated packages.\n"
     ]
    }
   ],
   "source": [
    "pip install xgboost # install xgboost because is not iontalled"
   ]
  },
  {
   "cell_type": "markdown",
   "id": "46aa20bb",
   "metadata": {},
   "source": [
    "## Apply XGBoost in Regression"
   ]
  },
  {
   "cell_type": "code",
   "execution_count": 49,
   "id": "96215cec",
   "metadata": {},
   "outputs": [
    {
     "name": "stdout",
     "output_type": "stream",
     "text": [
      "score is :  0.9887070889035205\n"
     ]
    }
   ],
   "source": [
    "from xgboost import XGBRegressor\n",
    "\n",
    "xbgr = XGBRegressor(n_estimators = 200,\n",
    "                    learning_rate=0.35,max_depth = 3,\n",
    "                    min_child_weight = 3,subsample = 0.55,\n",
    "                    colsample_bytree = 0.7)\n",
    "\n",
    "xbgr.fit(X_train,y_train)\n",
    "\n",
    "print('score is : ',xbgr.score(X_test,y_test))"
   ]
  },
  {
   "cell_type": "code",
   "execution_count": 41,
   "id": "7497b4b9",
   "metadata": {},
   "outputs": [],
   "source": [
    "y_predict_xgb = xbgr.predict(X_test)"
   ]
  },
  {
   "cell_type": "code",
   "execution_count": 42,
   "id": "e27f3d85",
   "metadata": {},
   "outputs": [
    {
     "name": "stdout",
     "output_type": "stream",
     "text": [
      "Accuracy in XGBRegressor =  98.87\n",
      "mean squared error in SVR train is:  1161.5750606380816\n"
     ]
    }
   ],
   "source": [
    "print('Accuracy in XGBRegressor = ', round(metrics.r2_score(y_test, y_predict_xgb)*100,2))\n",
    "print('mean squared error in SVR train is: ',metrics.mean_squared_error(y_test, y_predict_xgb))"
   ]
  },
  {
   "cell_type": "code",
   "execution_count": 48,
   "id": "8c535203",
   "metadata": {},
   "outputs": [
    {
     "name": "stdout",
     "output_type": "stream",
     "text": [
      "Fitting 2 folds for each of 729 candidates, totalling 1458 fits\n"
     ]
    },
    {
     "data": {
      "text/html": [
       "<style>#sk-container-id-2 {color: black;background-color: white;}#sk-container-id-2 pre{padding: 0;}#sk-container-id-2 div.sk-toggleable {background-color: white;}#sk-container-id-2 label.sk-toggleable__label {cursor: pointer;display: block;width: 100%;margin-bottom: 0;padding: 0.3em;box-sizing: border-box;text-align: center;}#sk-container-id-2 label.sk-toggleable__label-arrow:before {content: \"▸\";float: left;margin-right: 0.25em;color: #696969;}#sk-container-id-2 label.sk-toggleable__label-arrow:hover:before {color: black;}#sk-container-id-2 div.sk-estimator:hover label.sk-toggleable__label-arrow:before {color: black;}#sk-container-id-2 div.sk-toggleable__content {max-height: 0;max-width: 0;overflow: hidden;text-align: left;background-color: #f0f8ff;}#sk-container-id-2 div.sk-toggleable__content pre {margin: 0.2em;color: black;border-radius: 0.25em;background-color: #f0f8ff;}#sk-container-id-2 input.sk-toggleable__control:checked~div.sk-toggleable__content {max-height: 200px;max-width: 100%;overflow: auto;}#sk-container-id-2 input.sk-toggleable__control:checked~label.sk-toggleable__label-arrow:before {content: \"▾\";}#sk-container-id-2 div.sk-estimator input.sk-toggleable__control:checked~label.sk-toggleable__label {background-color: #d4ebff;}#sk-container-id-2 div.sk-label input.sk-toggleable__control:checked~label.sk-toggleable__label {background-color: #d4ebff;}#sk-container-id-2 input.sk-hidden--visually {border: 0;clip: rect(1px 1px 1px 1px);clip: rect(1px, 1px, 1px, 1px);height: 1px;margin: -1px;overflow: hidden;padding: 0;position: absolute;width: 1px;}#sk-container-id-2 div.sk-estimator {font-family: monospace;background-color: #f0f8ff;border: 1px dotted black;border-radius: 0.25em;box-sizing: border-box;margin-bottom: 0.5em;}#sk-container-id-2 div.sk-estimator:hover {background-color: #d4ebff;}#sk-container-id-2 div.sk-parallel-item::after {content: \"\";width: 100%;border-bottom: 1px solid gray;flex-grow: 1;}#sk-container-id-2 div.sk-label:hover label.sk-toggleable__label {background-color: #d4ebff;}#sk-container-id-2 div.sk-serial::before {content: \"\";position: absolute;border-left: 1px solid gray;box-sizing: border-box;top: 0;bottom: 0;left: 50%;z-index: 0;}#sk-container-id-2 div.sk-serial {display: flex;flex-direction: column;align-items: center;background-color: white;padding-right: 0.2em;padding-left: 0.2em;position: relative;}#sk-container-id-2 div.sk-item {position: relative;z-index: 1;}#sk-container-id-2 div.sk-parallel {display: flex;align-items: stretch;justify-content: center;background-color: white;position: relative;}#sk-container-id-2 div.sk-item::before, #sk-container-id-2 div.sk-parallel-item::before {content: \"\";position: absolute;border-left: 1px solid gray;box-sizing: border-box;top: 0;bottom: 0;left: 50%;z-index: -1;}#sk-container-id-2 div.sk-parallel-item {display: flex;flex-direction: column;z-index: 1;position: relative;background-color: white;}#sk-container-id-2 div.sk-parallel-item:first-child::after {align-self: flex-end;width: 50%;}#sk-container-id-2 div.sk-parallel-item:last-child::after {align-self: flex-start;width: 50%;}#sk-container-id-2 div.sk-parallel-item:only-child::after {width: 0;}#sk-container-id-2 div.sk-dashed-wrapped {border: 1px dashed gray;margin: 0 0.4em 0.5em 0.4em;box-sizing: border-box;padding-bottom: 0.4em;background-color: white;}#sk-container-id-2 div.sk-label label {font-family: monospace;font-weight: bold;display: inline-block;line-height: 1.2em;}#sk-container-id-2 div.sk-label-container {text-align: center;}#sk-container-id-2 div.sk-container {/* jupyter's `normalize.less` sets `[hidden] { display: none; }` but bootstrap.min.css set `[hidden] { display: none !important; }` so we also need the `!important` here to be able to override the default hidden behavior on the sphinx rendered scikit-learn.org. See: https://github.com/scikit-learn/scikit-learn/issues/21755 */display: inline-block !important;position: relative;}#sk-container-id-2 div.sk-text-repr-fallback {display: none;}</style><div id=\"sk-container-id-2\" class=\"sk-top-container\"><div class=\"sk-text-repr-fallback\"><pre>GridSearchCV(cv=2,\n",
       "             estimator=XGBRegressor(base_score=None, booster=None,\n",
       "                                    callbacks=None, colsample_bylevel=None,\n",
       "                                    colsample_bynode=None,\n",
       "                                    colsample_bytree=None, device=None,\n",
       "                                    early_stopping_rounds=None,\n",
       "                                    enable_categorical=False, eval_metric=None,\n",
       "                                    feature_types=None, gamma=None,\n",
       "                                    grow_policy=None, importance_type=None,\n",
       "                                    interaction_constraints=None,\n",
       "                                    learning_rate=None, m...\n",
       "                                    min_child_weight=None, missing=nan,\n",
       "                                    monotone_constraints=None,\n",
       "                                    multi_strategy=None, n_estimators=None,\n",
       "                                    n_jobs=None, num_parallel_tree=None,\n",
       "                                    random_state=None, ...),\n",
       "             n_jobs=5,\n",
       "             param_grid={&#x27;colsample_bytree&#x27;: [0.7, 0.8, 0.85],\n",
       "                         &#x27;learning_rate&#x27;: [0.045, 0.05, 0.06],\n",
       "                         &#x27;max_depth&#x27;: [3, 4, 5], &#x27;min_child_weight&#x27;: [2, 3, 4],\n",
       "                         &#x27;n_estimators&#x27;: [200, 300, 500],\n",
       "                         &#x27;subsample&#x27;: [0.5, 0.55, 0.6]},\n",
       "             verbose=True)</pre><b>In a Jupyter environment, please rerun this cell to show the HTML representation or trust the notebook. <br />On GitHub, the HTML representation is unable to render, please try loading this page with nbviewer.org.</b></div><div class=\"sk-container\" hidden><div class=\"sk-item sk-dashed-wrapped\"><div class=\"sk-label-container\"><div class=\"sk-label sk-toggleable\"><input class=\"sk-toggleable__control sk-hidden--visually\" id=\"sk-estimator-id-4\" type=\"checkbox\" ><label for=\"sk-estimator-id-4\" class=\"sk-toggleable__label sk-toggleable__label-arrow\">GridSearchCV</label><div class=\"sk-toggleable__content\"><pre>GridSearchCV(cv=2,\n",
       "             estimator=XGBRegressor(base_score=None, booster=None,\n",
       "                                    callbacks=None, colsample_bylevel=None,\n",
       "                                    colsample_bynode=None,\n",
       "                                    colsample_bytree=None, device=None,\n",
       "                                    early_stopping_rounds=None,\n",
       "                                    enable_categorical=False, eval_metric=None,\n",
       "                                    feature_types=None, gamma=None,\n",
       "                                    grow_policy=None, importance_type=None,\n",
       "                                    interaction_constraints=None,\n",
       "                                    learning_rate=None, m...\n",
       "                                    min_child_weight=None, missing=nan,\n",
       "                                    monotone_constraints=None,\n",
       "                                    multi_strategy=None, n_estimators=None,\n",
       "                                    n_jobs=None, num_parallel_tree=None,\n",
       "                                    random_state=None, ...),\n",
       "             n_jobs=5,\n",
       "             param_grid={&#x27;colsample_bytree&#x27;: [0.7, 0.8, 0.85],\n",
       "                         &#x27;learning_rate&#x27;: [0.045, 0.05, 0.06],\n",
       "                         &#x27;max_depth&#x27;: [3, 4, 5], &#x27;min_child_weight&#x27;: [2, 3, 4],\n",
       "                         &#x27;n_estimators&#x27;: [200, 300, 500],\n",
       "                         &#x27;subsample&#x27;: [0.5, 0.55, 0.6]},\n",
       "             verbose=True)</pre></div></div></div><div class=\"sk-parallel\"><div class=\"sk-parallel-item\"><div class=\"sk-item\"><div class=\"sk-label-container\"><div class=\"sk-label sk-toggleable\"><input class=\"sk-toggleable__control sk-hidden--visually\" id=\"sk-estimator-id-5\" type=\"checkbox\" ><label for=\"sk-estimator-id-5\" class=\"sk-toggleable__label sk-toggleable__label-arrow\">estimator: XGBRegressor</label><div class=\"sk-toggleable__content\"><pre>XGBRegressor(base_score=None, booster=None, callbacks=None,\n",
       "             colsample_bylevel=None, colsample_bynode=None,\n",
       "             colsample_bytree=None, device=None, early_stopping_rounds=None,\n",
       "             enable_categorical=False, eval_metric=None, feature_types=None,\n",
       "             gamma=None, grow_policy=None, importance_type=None,\n",
       "             interaction_constraints=None, learning_rate=None, max_bin=None,\n",
       "             max_cat_threshold=None, max_cat_to_onehot=None,\n",
       "             max_delta_step=None, max_depth=None, max_leaves=None,\n",
       "             min_child_weight=None, missing=nan, monotone_constraints=None,\n",
       "             multi_strategy=None, n_estimators=None, n_jobs=None,\n",
       "             num_parallel_tree=None, random_state=None, ...)</pre></div></div></div><div class=\"sk-serial\"><div class=\"sk-item\"><div class=\"sk-estimator sk-toggleable\"><input class=\"sk-toggleable__control sk-hidden--visually\" id=\"sk-estimator-id-6\" type=\"checkbox\" ><label for=\"sk-estimator-id-6\" class=\"sk-toggleable__label sk-toggleable__label-arrow\">XGBRegressor</label><div class=\"sk-toggleable__content\"><pre>XGBRegressor(base_score=None, booster=None, callbacks=None,\n",
       "             colsample_bylevel=None, colsample_bynode=None,\n",
       "             colsample_bytree=None, device=None, early_stopping_rounds=None,\n",
       "             enable_categorical=False, eval_metric=None, feature_types=None,\n",
       "             gamma=None, grow_policy=None, importance_type=None,\n",
       "             interaction_constraints=None, learning_rate=None, max_bin=None,\n",
       "             max_cat_threshold=None, max_cat_to_onehot=None,\n",
       "             max_delta_step=None, max_depth=None, max_leaves=None,\n",
       "             min_child_weight=None, missing=nan, monotone_constraints=None,\n",
       "             multi_strategy=None, n_estimators=None, n_jobs=None,\n",
       "             num_parallel_tree=None, random_state=None, ...)</pre></div></div></div></div></div></div></div></div></div></div>"
      ],
      "text/plain": [
       "GridSearchCV(cv=2,\n",
       "             estimator=XGBRegressor(base_score=None, booster=None,\n",
       "                                    callbacks=None, colsample_bylevel=None,\n",
       "                                    colsample_bynode=None,\n",
       "                                    colsample_bytree=None, device=None,\n",
       "                                    early_stopping_rounds=None,\n",
       "                                    enable_categorical=False, eval_metric=None,\n",
       "                                    feature_types=None, gamma=None,\n",
       "                                    grow_policy=None, importance_type=None,\n",
       "                                    interaction_constraints=None,\n",
       "                                    learning_rate=None, m...\n",
       "                                    min_child_weight=None, missing=nan,\n",
       "                                    monotone_constraints=None,\n",
       "                                    multi_strategy=None, n_estimators=None,\n",
       "                                    n_jobs=None, num_parallel_tree=None,\n",
       "                                    random_state=None, ...),\n",
       "             n_jobs=5,\n",
       "             param_grid={'colsample_bytree': [0.7, 0.8, 0.85],\n",
       "                         'learning_rate': [0.045, 0.05, 0.06],\n",
       "                         'max_depth': [3, 4, 5], 'min_child_weight': [2, 3, 4],\n",
       "                         'n_estimators': [200, 300, 500],\n",
       "                         'subsample': [0.5, 0.55, 0.6]},\n",
       "             verbose=True)"
      ]
     },
     "execution_count": 48,
     "metadata": {},
     "output_type": "execute_result"
    }
   ],
   "source": [
    "from sklearn.model_selection import GridSearchCV\n",
    "\n",
    "model_in_gscv = XGBRegressor()\n",
    "\n",
    "parameters_xgb = { \n",
    "      'learning_rate': [0.045,0.05,0.06], \n",
    "      'max_depth': [3,4,5],\n",
    "      'min_child_weight': [2,3,4],\n",
    "      'subsample': [0.5,0.55,0.6],\n",
    "      'colsample_bytree': [0.7,0.8,0.85],\n",
    "      'n_estimators': [200,300,500]}\n",
    "\n",
    "xgb_grid = GridSearchCV(model_in_gscv,\n",
    "                        parameters_xgb,\n",
    "                        cv = 2,\n",
    "                        n_jobs = 5,\n",
    "                        verbose=True)\n",
    "\n",
    "xgb_grid.fit(X_train, y_train)#it takes 10 seconds to complete.\n"
   ]
  },
  {
   "cell_type": "code",
   "execution_count": 47,
   "id": "de750839",
   "metadata": {},
   "outputs": [
    {
     "name": "stdout",
     "output_type": "stream",
     "text": [
      "best score is:  0.9918613994996384\n",
      "best params are:  {'colsample_bytree': 0.7, 'learning_rate': 0.06, 'max_depth': 5, 'min_child_weight': 2, 'n_estimators': 500, 'subsample': 0.5}\n"
     ]
    }
   ],
   "source": [
    "print(\"best score is: \",xgb_grid.best_score_)\n",
    "print('best params are: ',xgb_grid.best_params_)"
   ]
  },
  {
   "cell_type": "code",
   "execution_count": null,
   "id": "089b4a4b",
   "metadata": {},
   "outputs": [],
   "source": []
  }
 ],
 "metadata": {
  "kernelspec": {
   "display_name": "Python 3 (ipykernel)",
   "language": "python",
   "name": "python3"
  },
  "language_info": {
   "codemirror_mode": {
    "name": "ipython",
    "version": 3
   },
   "file_extension": ".py",
   "mimetype": "text/x-python",
   "name": "python",
   "nbconvert_exporter": "python",
   "pygments_lexer": "ipython3",
   "version": "3.11.5"
  }
 },
 "nbformat": 4,
 "nbformat_minor": 5
}
