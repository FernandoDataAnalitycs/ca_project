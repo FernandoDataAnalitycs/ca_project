{
 "cells": [
  {
   "cell_type": "code",
   "execution_count": 1,
   "id": "05ee561b",
   "metadata": {},
   "outputs": [],
   "source": [
    "import pandas as pd \n",
    "import numpy as np \n",
    "import seaborn as sns \n",
    "from scipy import stats \n",
    "import matplotlib.pyplot as plt\n",
    "from empiricaldist import Pmf , Cdf\n",
    "from matplotlib.ticker import PercentFormatter\n",
    "\n",
    "import warnings\n",
    "warnings.filterwarnings(\"ignore\")"
   ]
  },
  {
   "cell_type": "code",
   "execution_count": 2,
   "id": "65170d7e",
   "metadata": {},
   "outputs": [],
   "source": [
    "df_aofm = pd.read_csv(\"PPO18_age_of_firstime_mothers.csv\")# aofm = age_of_firstime_mothers"
   ]
  },
  {
   "cell_type": "markdown",
   "id": "ec2aa7d5",
   "metadata": {},
   "source": [
    "## REWRITE THE PREVIOUS DATASET !!\n",
    "## SHOW ABOUT GPT BOOST AS A \" independent research \"\n",
    "\n"
   ]
  },
  {
   "cell_type": "markdown",
   "id": "be5ea052",
   "metadata": {},
   "source": [
    "## EDA(Exploratory Data Analysis)"
   ]
  },
  {
   "cell_type": "code",
   "execution_count": 3,
   "id": "265afdd2",
   "metadata": {
    "scrolled": true
   },
   "outputs": [
    {
     "data": {
      "text/html": [
       "<div>\n",
       "<style scoped>\n",
       "    .dataframe tbody tr th:only-of-type {\n",
       "        vertical-align: middle;\n",
       "    }\n",
       "\n",
       "    .dataframe tbody tr th {\n",
       "        vertical-align: top;\n",
       "    }\n",
       "\n",
       "    .dataframe thead th {\n",
       "        text-align: right;\n",
       "    }\n",
       "</style>\n",
       "<table border=\"1\" class=\"dataframe\">\n",
       "  <thead>\n",
       "    <tr style=\"text-align: right;\">\n",
       "      <th></th>\n",
       "      <th>Statistic Label</th>\n",
       "      <th>State</th>\n",
       "      <th>Year</th>\n",
       "      <th>UNIT</th>\n",
       "      <th>VALUE</th>\n",
       "    </tr>\n",
       "  </thead>\n",
       "  <tbody>\n",
       "    <tr>\n",
       "      <th>0</th>\n",
       "      <td>Mean Age of First Time- Mothers</td>\n",
       "      <td>State</td>\n",
       "      <td>1990</td>\n",
       "      <td>Years</td>\n",
       "      <td>26.3</td>\n",
       "    </tr>\n",
       "    <tr>\n",
       "      <th>1</th>\n",
       "      <td>Mean Age of First Time- Mothers</td>\n",
       "      <td>State</td>\n",
       "      <td>1991</td>\n",
       "      <td>Years</td>\n",
       "      <td>26.3</td>\n",
       "    </tr>\n",
       "    <tr>\n",
       "      <th>2</th>\n",
       "      <td>Mean Age of First Time- Mothers</td>\n",
       "      <td>State</td>\n",
       "      <td>1992</td>\n",
       "      <td>Years</td>\n",
       "      <td>26.4</td>\n",
       "    </tr>\n",
       "    <tr>\n",
       "      <th>3</th>\n",
       "      <td>Mean Age of First Time- Mothers</td>\n",
       "      <td>State</td>\n",
       "      <td>1993</td>\n",
       "      <td>Years</td>\n",
       "      <td>26.6</td>\n",
       "    </tr>\n",
       "    <tr>\n",
       "      <th>4</th>\n",
       "      <td>Mean Age of First Time- Mothers</td>\n",
       "      <td>State</td>\n",
       "      <td>1994</td>\n",
       "      <td>Years</td>\n",
       "      <td>26.8</td>\n",
       "    </tr>\n",
       "  </tbody>\n",
       "</table>\n",
       "</div>"
      ],
      "text/plain": [
       "                   Statistic Label  State  Year   UNIT  VALUE\n",
       "0  Mean Age of First Time- Mothers  State  1990  Years   26.3\n",
       "1  Mean Age of First Time- Mothers  State  1991  Years   26.3\n",
       "2  Mean Age of First Time- Mothers  State  1992  Years   26.4\n",
       "3  Mean Age of First Time- Mothers  State  1993  Years   26.6\n",
       "4  Mean Age of First Time- Mothers  State  1994  Years   26.8"
      ]
     },
     "execution_count": 3,
     "metadata": {},
     "output_type": "execute_result"
    }
   ],
   "source": [
    "df_aofm.head()"
   ]
  },
  {
   "cell_type": "code",
   "execution_count": 4,
   "id": "5dda62fe",
   "metadata": {},
   "outputs": [
    {
     "name": "stdout",
     "output_type": "stream",
     "text": [
      "CHECKING the shape:  (29, 5)\n",
      "\n",
      " CHECKING NULL values :\n",
      " Statistic Label     object\n",
      "State               object\n",
      "Year                 int64\n",
      "UNIT                object\n",
      "VALUE              float64\n",
      "dtype: object\n",
      "\n",
      " Check info:\n",
      " <bound method DataFrame.info of                     Statistic Label  State  Year   UNIT  VALUE\n",
      "0   Mean Age of First Time- Mothers  State  1990  Years   26.3\n",
      "1   Mean Age of First Time- Mothers  State  1991  Years   26.3\n",
      "2   Mean Age of First Time- Mothers  State  1992  Years   26.4\n",
      "3   Mean Age of First Time- Mothers  State  1993  Years   26.6\n",
      "4   Mean Age of First Time- Mothers  State  1994  Years   26.8\n",
      "5   Mean Age of First Time- Mothers  State  1995  Years   27.0\n",
      "6   Mean Age of First Time- Mothers  State  1996  Years   27.0\n",
      "7   Mean Age of First Time- Mothers  State  1997  Years   27.1\n",
      "8   Mean Age of First Time- Mothers  State  1998  Years   27.1\n",
      "9   Mean Age of First Time- Mothers  State  1999  Years   27.2\n",
      "10  Mean Age of First Time- Mothers  State  2000  Years   27.4\n",
      "11  Mean Age of First Time- Mothers  State  2001  Years   27.6\n",
      "12  Mean Age of First Time- Mothers  State  2002  Years   27.8\n",
      "13  Mean Age of First Time- Mothers  State  2003  Years   28.2\n",
      "14  Mean Age of First Time- Mothers  State  2004  Years   28.5\n",
      "15  Mean Age of First Time- Mothers  State  2005  Years   28.7\n",
      "16  Mean Age of First Time- Mothers  State  2006  Years   28.8\n",
      "17  Mean Age of First Time- Mothers  State  2007  Years   28.8\n",
      "18  Mean Age of First Time- Mothers  State  2008  Years   28.9\n",
      "19  Mean Age of First Time- Mothers  State  2009  Years   29.1\n",
      "20  Mean Age of First Time- Mothers  State  2010  Years   29.4\n",
      "21  Mean Age of First Time- Mothers  State  2011  Years   29.8\n",
      "22  Mean Age of First Time- Mothers  State  2012  Years   30.0\n",
      "23  Mean Age of First Time- Mothers  State  2013  Years   30.3\n",
      "24  Mean Age of First Time- Mothers  State  2014  Years   30.5\n",
      "25  Mean Age of First Time- Mothers  State  2015  Years   30.6\n",
      "26  Mean Age of First Time- Mothers  State  2016  Years   30.9\n",
      "27  Mean Age of First Time- Mothers  State  2017  Years   31.0\n",
      "28  Mean Age of First Time- Mothers  State  2018  Years   31.1>\n",
      "\n",
      " COUNT is :\n",
      " Statistic Label    29\n",
      "State              29\n",
      "Year               29\n",
      "UNIT               29\n",
      "VALUE              29\n",
      "dtype: int64\n",
      "\n",
      " CHECKING NULL values :\n",
      " Statistic Label    0\n",
      "State              0\n",
      "Year               0\n",
      "UNIT               0\n",
      "VALUE              0\n",
      "dtype: int64\n"
     ]
    }
   ],
   "source": [
    "print(\"CHECKING the shape: \",df_aofm.shape)#Checking shape\n",
    "print(\"\\n CHECKING NULL values :\\n\",df_aofm.dtypes)#checking data types\n",
    "print(\"\\n Check info:\\n\",df_aofm.info)# checking info\n",
    "print(\"\\n COUNT is :\\n\",df_aofm.count() )#count rows\n",
    "print(\"\\n CHECKING NULL values :\\n\",df_aofm.isnull().sum())#checking null values"
   ]
  },
  {
   "cell_type": "code",
   "execution_count": 5,
   "id": "0d4f1abf",
   "metadata": {},
   "outputs": [
    {
     "data": {
      "text/plain": [
       "Index(['Statistic Label', 'State', 'Year', 'UNIT', 'VALUE'], dtype='object')"
      ]
     },
     "execution_count": 5,
     "metadata": {},
     "output_type": "execute_result"
    }
   ],
   "source": [
    "df_aofm.columns# get column names"
   ]
  },
  {
   "cell_type": "code",
   "execution_count": 6,
   "id": "0ab243a8",
   "metadata": {},
   "outputs": [],
   "source": [
    "cols_to_drop = ['State','UNIT']# dropping columns that I won't use.\n",
    "df_aofm.drop(columns=cols_to_drop, inplace=True)"
   ]
  },
  {
   "cell_type": "code",
   "execution_count": 7,
   "id": "9250d571",
   "metadata": {},
   "outputs": [],
   "source": [
    "df_aofm.rename(columns = {'Year':'year','VALUE':'average_age'},inplace = True) #Changing column names"
   ]
  },
  {
   "cell_type": "code",
   "execution_count": 8,
   "id": "c81c46c3",
   "metadata": {},
   "outputs": [],
   "source": [
    "#df_aofm['Statistic Label'] = df_aofm['Statistic Label'].astype(\"category\")\n",
    "#df_aofm['Statistic Label'] = df_aofm['Statistic Label'].cat.codes"
   ]
  },
  {
   "cell_type": "code",
   "execution_count": 9,
   "id": "00439b72",
   "metadata": {},
   "outputs": [
    {
     "data": {
      "text/html": [
       "<div>\n",
       "<style scoped>\n",
       "    .dataframe tbody tr th:only-of-type {\n",
       "        vertical-align: middle;\n",
       "    }\n",
       "\n",
       "    .dataframe tbody tr th {\n",
       "        vertical-align: top;\n",
       "    }\n",
       "\n",
       "    .dataframe thead th {\n",
       "        text-align: right;\n",
       "    }\n",
       "</style>\n",
       "<table border=\"1\" class=\"dataframe\">\n",
       "  <thead>\n",
       "    <tr style=\"text-align: right;\">\n",
       "      <th></th>\n",
       "      <th>Statistic Label</th>\n",
       "      <th>year</th>\n",
       "      <th>average_age</th>\n",
       "    </tr>\n",
       "  </thead>\n",
       "  <tbody>\n",
       "    <tr>\n",
       "      <th>0</th>\n",
       "      <td>Mean Age of First Time- Mothers</td>\n",
       "      <td>1990</td>\n",
       "      <td>26.3</td>\n",
       "    </tr>\n",
       "    <tr>\n",
       "      <th>1</th>\n",
       "      <td>Mean Age of First Time- Mothers</td>\n",
       "      <td>1991</td>\n",
       "      <td>26.3</td>\n",
       "    </tr>\n",
       "    <tr>\n",
       "      <th>2</th>\n",
       "      <td>Mean Age of First Time- Mothers</td>\n",
       "      <td>1992</td>\n",
       "      <td>26.4</td>\n",
       "    </tr>\n",
       "    <tr>\n",
       "      <th>3</th>\n",
       "      <td>Mean Age of First Time- Mothers</td>\n",
       "      <td>1993</td>\n",
       "      <td>26.6</td>\n",
       "    </tr>\n",
       "    <tr>\n",
       "      <th>4</th>\n",
       "      <td>Mean Age of First Time- Mothers</td>\n",
       "      <td>1994</td>\n",
       "      <td>26.8</td>\n",
       "    </tr>\n",
       "    <tr>\n",
       "      <th>5</th>\n",
       "      <td>Mean Age of First Time- Mothers</td>\n",
       "      <td>1995</td>\n",
       "      <td>27.0</td>\n",
       "    </tr>\n",
       "    <tr>\n",
       "      <th>6</th>\n",
       "      <td>Mean Age of First Time- Mothers</td>\n",
       "      <td>1996</td>\n",
       "      <td>27.0</td>\n",
       "    </tr>\n",
       "    <tr>\n",
       "      <th>7</th>\n",
       "      <td>Mean Age of First Time- Mothers</td>\n",
       "      <td>1997</td>\n",
       "      <td>27.1</td>\n",
       "    </tr>\n",
       "    <tr>\n",
       "      <th>8</th>\n",
       "      <td>Mean Age of First Time- Mothers</td>\n",
       "      <td>1998</td>\n",
       "      <td>27.1</td>\n",
       "    </tr>\n",
       "    <tr>\n",
       "      <th>9</th>\n",
       "      <td>Mean Age of First Time- Mothers</td>\n",
       "      <td>1999</td>\n",
       "      <td>27.2</td>\n",
       "    </tr>\n",
       "  </tbody>\n",
       "</table>\n",
       "</div>"
      ],
      "text/plain": [
       "                   Statistic Label  year  average_age\n",
       "0  Mean Age of First Time- Mothers  1990         26.3\n",
       "1  Mean Age of First Time- Mothers  1991         26.3\n",
       "2  Mean Age of First Time- Mothers  1992         26.4\n",
       "3  Mean Age of First Time- Mothers  1993         26.6\n",
       "4  Mean Age of First Time- Mothers  1994         26.8\n",
       "5  Mean Age of First Time- Mothers  1995         27.0\n",
       "6  Mean Age of First Time- Mothers  1996         27.0\n",
       "7  Mean Age of First Time- Mothers  1997         27.1\n",
       "8  Mean Age of First Time- Mothers  1998         27.1\n",
       "9  Mean Age of First Time- Mothers  1999         27.2"
      ]
     },
     "execution_count": 9,
     "metadata": {},
     "output_type": "execute_result"
    }
   ],
   "source": [
    "df_aofm.head(10)# dataset before visualizing data\n"
   ]
  },
  {
   "cell_type": "markdown",
   "id": "e570eab3",
   "metadata": {},
   "source": [
    "# visualize data with plot"
   ]
  },
  {
   "cell_type": "code",
   "execution_count": 10,
   "id": "2f9352cf",
   "metadata": {
    "scrolled": false
   },
   "outputs": [
    {
     "data": {
      "text/plain": [
       "<seaborn.axisgrid.FacetGrid at 0x1694a76d0>"
      ]
     },
     "execution_count": 10,
     "metadata": {},
     "output_type": "execute_result"
    },
    {
     "data": {
      "image/png": "[encoded data removed]",
      "text/plain": [
       "<Figure size 751.625x500 with 1 Axes>"
      ]
     },
     "metadata": {},
     "output_type": "display_data"
    }
   ],
   "source": [
    "sns.set_style('whitegrid') \n",
    "sns.lmplot(x ='year', y ='average_age', data = df_aofm,hue ='Statistic Label') #,hue ='Broad Nationality Group'"
   ]
  },
  {
   "cell_type": "markdown",
   "id": "ce49dc21",
   "metadata": {},
   "source": [
    "## Visualize data using heatmap"
   ]
  },
  {
   "cell_type": "code",
   "execution_count": 11,
   "id": "d0640cd3",
   "metadata": {},
   "outputs": [
    {
     "data": {
      "text/plain": [
       "<Axes: >"
      ]
     },
     "execution_count": 11,
     "metadata": {},
     "output_type": "execute_result"
    },
    {
     "data": {
      "image/png": "[encoded data removed]",
      "text/plain": [
       "<Figure size 640x480 with 2 Axes>"
      ]
     },
     "metadata": {},
     "output_type": "display_data"
    }
   ],
   "source": [
    "cols = [\"year\",'average_age']\n",
    "coef_heat = np.corrcoef(df_aofm[cols].values.T)\n",
    "sns.heatmap(coef_heat,cmap=\"coolwarm\",yticklabels=cols,xticklabels=cols,annot=True,cbar=True)"
   ]
  },
  {
   "cell_type": "markdown",
   "id": "1ffafb4a",
   "metadata": {},
   "source": [
    "## Splitting the dataset into the Training set and Test set"
   ]
  },
  {
   "cell_type": "code",
   "execution_count": 12,
   "id": "5ffe1045",
   "metadata": {},
   "outputs": [
    {
     "data": {
      "text/plain": [
       "((29, 1), (29, 1), (17, 1), (12, 1), (17, 1), (12, 1))"
      ]
     },
     "execution_count": 12,
     "metadata": {},
     "output_type": "execute_result"
    }
   ],
   "source": [
    "# import train_test_split from the library sklearn\n",
    "from sklearn.model_selection import train_test_split\n",
    "\n",
    "# Declare a variable named as 'X' and 'y'\n",
    "X = df_aofm.iloc[:, 1].values # independent variable\n",
    "y = df_aofm['average_age'].values # Target variable\n",
    "\n",
    "X = X.reshape(-1,1) # reshape to an 2D array\n",
    "y = y.reshape(-1, 1) # reshape to an 2D array\n",
    "\n",
    "# Split the data into 70% and 30% by using a parameter test_size = 30\n",
    "X_train, X_test, y_train, y_test = train_test_split(X, y, test_size = 0.4, random_state = 40)\n",
    "\n",
    "# Display the size of the rows and columns\n",
    "X.shape, y.shape, X_train.shape, X_test.shape, y_train.shape, y_test.shape"
   ]
  },
  {
   "cell_type": "markdown",
   "id": "de2f873f",
   "metadata": {},
   "source": [
    "## using linear regression model"
   ]
  },
  {
   "cell_type": "code",
   "execution_count": 13,
   "id": "62df5bdd",
   "metadata": {},
   "outputs": [],
   "source": [
    "# Initialise an object slr by calling a method named as 'LinearRegression()'\n",
    "from sklearn.linear_model import LinearRegression\n",
    "lr = LinearRegression()#new linear regression class\n",
    "\n",
    "# Train the model\n",
    "lr.fit(X_train, y_train)\n",
    "\n",
    "# Predict the results for the training and testing\n",
    "y_pred_train = lr.predict(X_train)\n",
    "y_pred_test = lr.predict(X_test)"
   ]
  },
  {
   "cell_type": "markdown",
   "id": "009ba488",
   "metadata": {},
   "source": [
    "## checking accuracy"
   ]
  },
  {
   "cell_type": "code",
   "execution_count": 14,
   "id": "5957ffec",
   "metadata": {},
   "outputs": [
    {
     "data": {
      "text/plain": [
       "0.980392433780072"
      ]
     },
     "execution_count": 14,
     "metadata": {},
     "output_type": "execute_result"
    }
   ],
   "source": [
    "from sklearn.metrics import r2_score\n",
    "\n",
    "r2_score(y_train,y_pred_train)# checking accuracy in training data"
   ]
  },
  {
   "cell_type": "code",
   "execution_count": 15,
   "id": "71521ce7",
   "metadata": {},
   "outputs": [
    {
     "data": {
      "text/plain": [
       "0.9846081538162629"
      ]
     },
     "execution_count": 15,
     "metadata": {},
     "output_type": "execute_result"
    }
   ],
   "source": [
    "r2_score(y_test,y_pred_test)# checking accuracy in test data"
   ]
  },
  {
   "cell_type": "markdown",
   "id": "9b3d2a87",
   "metadata": {},
   "source": [
    "# Visualize difference after applying model"
   ]
  },
  {
   "cell_type": "code",
   "execution_count": 16,
   "id": "064d6a3e",
   "metadata": {},
   "outputs": [
    {
     "data": {
      "text/plain": [
       "<matplotlib.collections.PathCollection at 0x16aa4d8d0>"
      ]
     },
     "execution_count": 16,
     "metadata": {},
     "output_type": "execute_result"
    },
    {
     "data": {
      "image/png": "[encoded data removed]",
      "text/plain": [
       "<Figure size 640x480 with 1 Axes>"
      ]
     },
     "metadata": {},
     "output_type": "display_data"
    }
   ],
   "source": [
    "plt.scatter(X_train,y_train)\n",
    "plt.scatter(X_train,y_pred_train,color='red')"
   ]
  },
  {
   "cell_type": "markdown",
   "id": "c8f95ed6",
   "metadata": {},
   "source": [
    "## Apply Suppor vector machine in regression"
   ]
  },
  {
   "cell_type": "code",
   "execution_count": 17,
   "id": "36007d7a",
   "metadata": {},
   "outputs": [],
   "source": [
    "from sklearn.preprocessing import StandardScaler\n",
    "sc = StandardScaler()\n",
    "\n",
    "st_train_x = sc.fit_transform(X_train)\n",
    "st_test_x = sc.transform(X_test)"
   ]
  },
  {
   "cell_type": "code",
   "execution_count": 25,
   "id": "3e9ca19a",
   "metadata": {
    "scrolled": true
   },
   "outputs": [
    {
     "name": "stdout",
     "output_type": "stream",
     "text": [
      "Accuracy in SVR train is:  0.9800782346636603\n"
     ]
    }
   ],
   "source": [
    "from sklearn.svm import SVR\n",
    "from sklearn import metrics\n",
    "\n",
    "# Initialize model\n",
    "svr_model = SVR(kernel='linear',shrinking=False,C = 2, gamma = 0.2,epsilon=0.2)\n",
    "\n",
    "# Train the model by calling a method fit()\n",
    "svr_model.fit(st_train_x,y_train)\n",
    "\n",
    "Y_pred_train = svr_model.predict(st_train_x)\n",
    "\n",
    "print('Accuracy in SVR train is: ',metrics.r2_score(y_train, Y_pred_train))"
   ]
  },
  {
   "cell_type": "code",
   "execution_count": 26,
   "id": "9c376f4d",
   "metadata": {},
   "outputs": [
    {
     "name": "stdout",
     "output_type": "stream",
     "text": [
      "Accuracy in SVR test is:  0.9862075768496985\n"
     ]
    }
   ],
   "source": [
    "svr_model_test = SVR(kernel = 'rbf')\n",
    "\n",
    "# Initialize model for testing\n",
    "svr_model_test.fit(st_train_x,y_train)\n",
    "\n",
    "# Train the model by calling a method fit()\n",
    "svr_model.fit(st_test_x,y_test)\n",
    "\n",
    "Y_pred_test = svr_model.predict(st_test_x)\n",
    "\n",
    "print('Accuracy in SVR test is: ',metrics.r2_score(y_test, Y_pred_test))"
   ]
  },
  {
   "cell_type": "code",
   "execution_count": 20,
   "id": "55730d4d",
   "metadata": {},
   "outputs": [
    {
     "name": "stdout",
     "output_type": "stream",
     "text": [
      "Best params are :  {'C': 10, 'epsilon': 0.2, 'gamma': 0.1, 'kernel': 'linear'}\n",
      "Best_estimators are :  SVR(C=10, epsilon=0.2, gamma=0.1, kernel='linear')\n",
      "Best score is:  0.838361484320117\n"
     ]
    }
   ],
   "source": [
    "from sklearn.model_selection import GridSearchCV\n",
    "\n",
    "parameters = {'kernel': ('linear', 'rbf'), 'C':[1.5, 10],'gamma': [0.1,0.2,0.3,0.4],'epsilon':[0.1,0.2,0.3,0.4]}\n",
    "model_svr = SVR()\n",
    "gs_cv = GridSearchCV(model_svr, parameters)\n",
    "gs_cv.fit(X_test, y_test)\n",
    "print(\"Best params are : \", gs_cv.best_params_)\n",
    "print(\"Best_estimators are : \",gs_cv.best_estimator_)\n",
    "print(\"Best score is: \",gs_cv.best_score_)"
   ]
  },
  {
   "cell_type": "code",
   "execution_count": 21,
   "id": "6acfdec9",
   "metadata": {},
   "outputs": [],
   "source": [
    "df_fnie = pd.read_csv(\"FNA08_foreign_nationals_in_employment.csv\")# fnie = foreign nationals in employment"
   ]
  },
  {
   "cell_type": "code",
   "execution_count": 22,
   "id": "910b61b8",
   "metadata": {},
   "outputs": [
    {
     "data": {
      "text/html": [
       "<div>\n",
       "<style scoped>\n",
       "    .dataframe tbody tr th:only-of-type {\n",
       "        vertical-align: middle;\n",
       "    }\n",
       "\n",
       "    .dataframe tbody tr th {\n",
       "        vertical-align: top;\n",
       "    }\n",
       "\n",
       "    .dataframe thead th {\n",
       "        text-align: right;\n",
       "    }\n",
       "</style>\n",
       "<table border=\"1\" class=\"dataframe\">\n",
       "  <thead>\n",
       "    <tr style=\"text-align: right;\">\n",
       "      <th></th>\n",
       "      <th>Statistic Label</th>\n",
       "      <th>Broad Nationality Group</th>\n",
       "      <th>Sex</th>\n",
       "      <th>Industry Sector NACE Rev 2</th>\n",
       "      <th>Year</th>\n",
       "      <th>UNIT</th>\n",
       "      <th>VALUE</th>\n",
       "    </tr>\n",
       "  </thead>\n",
       "  <tbody>\n",
       "    <tr>\n",
       "      <th>0</th>\n",
       "      <td>Foreign Nationals in Employment</td>\n",
       "      <td>All nationalities</td>\n",
       "      <td>Both sexes</td>\n",
       "      <td>Agriculture, forestry and fishing (A)</td>\n",
       "      <td>2005</td>\n",
       "      <td>Number</td>\n",
       "      <td>5116.0</td>\n",
       "    </tr>\n",
       "    <tr>\n",
       "      <th>1</th>\n",
       "      <td>Foreign Nationals in Employment</td>\n",
       "      <td>All nationalities</td>\n",
       "      <td>Both sexes</td>\n",
       "      <td>Agriculture, forestry and fishing (A)</td>\n",
       "      <td>2006</td>\n",
       "      <td>Number</td>\n",
       "      <td>6032.0</td>\n",
       "    </tr>\n",
       "    <tr>\n",
       "      <th>2</th>\n",
       "      <td>Foreign Nationals in Employment</td>\n",
       "      <td>All nationalities</td>\n",
       "      <td>Both sexes</td>\n",
       "      <td>Agriculture, forestry and fishing (A)</td>\n",
       "      <td>2007</td>\n",
       "      <td>Number</td>\n",
       "      <td>6705.0</td>\n",
       "    </tr>\n",
       "    <tr>\n",
       "      <th>3</th>\n",
       "      <td>Foreign Nationals in Employment</td>\n",
       "      <td>All nationalities</td>\n",
       "      <td>Both sexes</td>\n",
       "      <td>Agriculture, forestry and fishing (A)</td>\n",
       "      <td>2008</td>\n",
       "      <td>Number</td>\n",
       "      <td>6863.0</td>\n",
       "    </tr>\n",
       "    <tr>\n",
       "      <th>4</th>\n",
       "      <td>Foreign Nationals in Employment</td>\n",
       "      <td>All nationalities</td>\n",
       "      <td>Both sexes</td>\n",
       "      <td>Agriculture, forestry and fishing (A)</td>\n",
       "      <td>2009</td>\n",
       "      <td>Number</td>\n",
       "      <td>6154.0</td>\n",
       "    </tr>\n",
       "  </tbody>\n",
       "</table>\n",
       "</div>"
      ],
      "text/plain": [
       "                   Statistic Label Broad Nationality Group         Sex  \\\n",
       "0  Foreign Nationals in Employment       All nationalities  Both sexes   \n",
       "1  Foreign Nationals in Employment       All nationalities  Both sexes   \n",
       "2  Foreign Nationals in Employment       All nationalities  Both sexes   \n",
       "3  Foreign Nationals in Employment       All nationalities  Both sexes   \n",
       "4  Foreign Nationals in Employment       All nationalities  Both sexes   \n",
       "\n",
       "              Industry Sector NACE Rev 2  Year    UNIT   VALUE  \n",
       "0  Agriculture, forestry and fishing (A)  2005  Number  5116.0  \n",
       "1  Agriculture, forestry and fishing (A)  2006  Number  6032.0  \n",
       "2  Agriculture, forestry and fishing (A)  2007  Number  6705.0  \n",
       "3  Agriculture, forestry and fishing (A)  2008  Number  6863.0  \n",
       "4  Agriculture, forestry and fishing (A)  2009  Number  6154.0  "
      ]
     },
     "execution_count": 22,
     "metadata": {},
     "output_type": "execute_result"
    }
   ],
   "source": [
    "df_fnie.head()"
   ]
  },
  {
   "cell_type": "code",
   "execution_count": 23,
   "id": "17c532b2",
   "metadata": {
    "scrolled": true
   },
   "outputs": [
    {
     "name": "stdout",
     "output_type": "stream",
     "text": [
      "CHECKING the shape:  (6762, 7)\n",
      "\n",
      " CHECKING NULL values :\n",
      " Statistic Label                object\n",
      "Broad Nationality Group        object\n",
      "Sex                            object\n",
      "Industry Sector NACE Rev 2     object\n",
      "Year                            int64\n",
      "UNIT                           object\n",
      "VALUE                         float64\n",
      "dtype: object\n",
      "\n",
      " COUNT is :\n",
      " Statistic Label               6762\n",
      "Broad Nationality Group       6762\n",
      "Sex                           6762\n",
      "Industry Sector NACE Rev 2    6762\n",
      "Year                          6762\n",
      "UNIT                          6762\n",
      "VALUE                         6401\n",
      "dtype: int64\n",
      "\n",
      " CHECKING NULL values :\n",
      " Statistic Label                 0\n",
      "Broad Nationality Group         0\n",
      "Sex                             0\n",
      "Industry Sector NACE Rev 2      0\n",
      "Year                            0\n",
      "UNIT                            0\n",
      "VALUE                         361\n",
      "dtype: int64\n"
     ]
    }
   ],
   "source": [
    "print(\"CHECKING the shape: \",df_fnie.shape)#Checking shape\n",
    "print(\"\\n CHECKING NULL values :\\n\",df_fnie.dtypes)#checking data types\n",
    "#print(\"\\n Check info:\\n\",df_fnie.info)# checking info\n",
    "print(\"\\n COUNT is :\\n\",df_fnie.count() )#count rows\n",
    "print(\"\\n CHECKING NULL values :\\n\",df_fnie.isnull().sum())#checking null values"
   ]
  },
  {
   "cell_type": "code",
   "execution_count": 24,
   "id": "4ee0df8a",
   "metadata": {},
   "outputs": [
    {
     "data": {
      "text/html": [
       "<div>\n",
       "<style scoped>\n",
       "    .dataframe tbody tr th:only-of-type {\n",
       "        vertical-align: middle;\n",
       "    }\n",
       "\n",
       "    .dataframe tbody tr th {\n",
       "        vertical-align: top;\n",
       "    }\n",
       "\n",
       "    .dataframe thead th {\n",
       "        text-align: right;\n",
       "    }\n",
       "</style>\n",
       "<table border=\"1\" class=\"dataframe\">\n",
       "  <thead>\n",
       "    <tr style=\"text-align: right;\">\n",
       "      <th></th>\n",
       "      <th>Year</th>\n",
       "      <th>VALUE</th>\n",
       "    </tr>\n",
       "  </thead>\n",
       "  <tbody>\n",
       "    <tr>\n",
       "      <th>count</th>\n",
       "      <td>6762.000000</td>\n",
       "      <td>6401.000000</td>\n",
       "    </tr>\n",
       "    <tr>\n",
       "      <th>mean</th>\n",
       "      <td>2011.500000</td>\n",
       "      <td>6318.935166</td>\n",
       "    </tr>\n",
       "    <tr>\n",
       "      <th>std</th>\n",
       "      <td>4.031427</td>\n",
       "      <td>24869.071740</td>\n",
       "    </tr>\n",
       "    <tr>\n",
       "      <th>min</th>\n",
       "      <td>2005.000000</td>\n",
       "      <td>3.000000</td>\n",
       "    </tr>\n",
       "    <tr>\n",
       "      <th>25%</th>\n",
       "      <td>2008.000000</td>\n",
       "      <td>122.000000</td>\n",
       "    </tr>\n",
       "    <tr>\n",
       "      <th>50%</th>\n",
       "      <td>2011.500000</td>\n",
       "      <td>766.000000</td>\n",
       "    </tr>\n",
       "    <tr>\n",
       "      <th>75%</th>\n",
       "      <td>2015.000000</td>\n",
       "      <td>3064.000000</td>\n",
       "    </tr>\n",
       "    <tr>\n",
       "      <th>max</th>\n",
       "      <td>2018.000000</td>\n",
       "      <td>491639.000000</td>\n",
       "    </tr>\n",
       "  </tbody>\n",
       "</table>\n",
       "</div>"
      ],
      "text/plain": [
       "              Year          VALUE\n",
       "count  6762.000000    6401.000000\n",
       "mean   2011.500000    6318.935166\n",
       "std       4.031427   24869.071740\n",
       "min    2005.000000       3.000000\n",
       "25%    2008.000000     122.000000\n",
       "50%    2011.500000     766.000000\n",
       "75%    2015.000000    3064.000000\n",
       "max    2018.000000  491639.000000"
      ]
     },
     "execution_count": 24,
     "metadata": {},
     "output_type": "execute_result"
    }
   ],
   "source": [
    "df_fnie.describe()"
   ]
  },
  {
   "cell_type": "markdown",
   "id": "76358b17",
   "metadata": {},
   "source": [
    "from sklearn.preprocessing import LabelEncoder\n",
    "gle = LabelEncoder()\n",
    "genre_labels = gle.fit_transform(vg_df['Genre'])\n",
    "genre_mappings = {index: label for index, label in \n",
    "                  enumerate(gle.classes_)}\n",
    "genre_mappings"
   ]
  },
  {
   "cell_type": "markdown",
   "id": "c3a3a576",
   "metadata": {},
   "source": [
    "## BEFORE APPLYING MODEL SVM, make CONFUSSION MATRIX !!!"
   ]
  },
  {
   "cell_type": "markdown",
   "id": "fec82e41",
   "metadata": {},
   "source": [
    "# Now apply SVM"
   ]
  },
  {
   "cell_type": "markdown",
   "id": "f62bf72c",
   "metadata": {},
   "source": [
    "\n",
    "# hyperparameters"
   ]
  },
  {
   "cell_type": "markdown",
   "id": "380f8d86",
   "metadata": {},
   "source": [
    "# Statistics\n",
    "\n",
    "## 1.      Summarise your dataset clearly, using relevant descriptive statistics and appropriate plots. These should be carefully motivated and justified, and clearly presented. You should critically analyse your findings, in addition to including the necessary Python code, output and plots in the report. You are required to plot at least three graphs. [0-35]\n",
    "\n",
    "## relevant descriptive statistics and appropriate plots. \n",
    "\n",
    "## Use two discrete distributions (Binomial and/or Poisson) \n",
    "\n",
    "## Normal distribution to explain or identify \n",
    "\n",
    "## 5.       Explain the importance of the distributions used in point 3 and 4 in your analysis. Justify the choice of the variables and explain if the variables used for the discrete distributions could be used as normal distribution in this case. [0-15]\n",
    "\n"
   ]
  },
  {
   "cell_type": "markdown",
   "id": "63645c3d",
   "metadata": {},
   "source": [
    "## OVERFITTING or Underfitting ==> get the variance to show overfitting if is HIGH !! \n",
    "## UNERFITTING when there's a HIGH Bias"
   ]
  },
  {
   "cell_type": "markdown",
   "id": "9bf14f77",
   "metadata": {},
   "source": [
    " ## 2.\tBriefly discuss your use of aspects of various programming paradigms in the development of your project. For example, this may include (but is not limited to) how they influenced your design decisions or how they helped you solve problems. Note that marks may not be awarded if the discussion does not involve your specific project. [0-50]"
   ]
  },
  {
   "cell_type": "code",
   "execution_count": null,
   "id": "39640caa",
   "metadata": {},
   "outputs": [],
   "source": []
  }
 ],
 "metadata": {
  "kernelspec": {
   "display_name": "Python 3 (ipykernel)",
   "language": "python",
   "name": "python3"
  },
  "language_info": {
   "codemirror_mode": {
    "name": "ipython",
    "version": 3
   },
   "file_extension": ".py",
   "mimetype": "text/x-python",
   "name": "python",
   "nbconvert_exporter": "python",
   "pygments_lexer": "ipython3",
   "version": "3.11.5"
  }
 },
 "nbformat": 4,
 "nbformat_minor": 5
}
