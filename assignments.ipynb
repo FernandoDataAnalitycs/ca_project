{
 "cells": [
  {
   "cell_type": "code",
   "execution_count": 1,
   "id": "05ee561b",
   "metadata": {},
   "outputs": [],
   "source": [
    "import pandas as pd \n",
    "import numpy as np \n",
    "import seaborn as sns \n",
    "from scipy import stats \n",
    "import matplotlib.pyplot as plt\n",
    "from empiricaldist import Pmf , Cdf\n",
    "from matplotlib.ticker import PercentFormatter\n",
    "\n",
    "import warnings\n",
    "warnings.filterwarnings(\"ignore\")"
   ]
  },
  {
   "cell_type": "markdown",
   "id": "63645c3d",
   "metadata": {},
   "source": [
    "## OVERFITTING or Underfitting ==> get the variance to show overfitting if is HIGH !! \n",
    "## UNERFITTING when there's a HIGH Bias"
   ]
  },
  {
   "cell_type": "code",
   "execution_count": 2,
   "id": "39640caa",
   "metadata": {},
   "outputs": [],
   "source": [
    "df_awe = pd.read_csv('QIPQ1_avg_weekly_earnings.csv')# awe average weekly earnings"
   ]
  },
  {
   "cell_type": "code",
   "execution_count": 3,
   "id": "4987f9f2",
   "metadata": {},
   "outputs": [
    {
     "data": {
      "text/html": [
       "<div>\n",
       "<style scoped>\n",
       "    .dataframe tbody tr th:only-of-type {\n",
       "        vertical-align: middle;\n",
       "    }\n",
       "\n",
       "    .dataframe tbody tr th {\n",
       "        vertical-align: top;\n",
       "    }\n",
       "\n",
       "    .dataframe thead th {\n",
       "        text-align: right;\n",
       "    }\n",
       "</style>\n",
       "<table border=\"1\" class=\"dataframe\">\n",
       "  <thead>\n",
       "    <tr style=\"text-align: right;\">\n",
       "      <th></th>\n",
       "      <th>Industry Sector</th>\n",
       "      <th>Type of Employee</th>\n",
       "      <th>Quarter</th>\n",
       "      <th>Statistic Label</th>\n",
       "      <th>UNIT</th>\n",
       "      <th>VALUE</th>\n",
       "    </tr>\n",
       "  </thead>\n",
       "  <tbody>\n",
       "    <tr>\n",
       "      <th>4315</th>\n",
       "      <td>Mining and Quarrying (NACE 10-14)</td>\n",
       "      <td>Industrial Employees</td>\n",
       "      <td>2006Q2</td>\n",
       "      <td>Average Weekly Earnings (Euro)</td>\n",
       "      <td>Euro</td>\n",
       "      <td>NaN</td>\n",
       "    </tr>\n",
       "    <tr>\n",
       "      <th>4316</th>\n",
       "      <td>Mining and Quarrying (NACE 10-14)</td>\n",
       "      <td>Industrial Employees</td>\n",
       "      <td>2006Q3</td>\n",
       "      <td>Average Weekly Earnings (Euro)</td>\n",
       "      <td>Euro</td>\n",
       "      <td>NaN</td>\n",
       "    </tr>\n",
       "    <tr>\n",
       "      <th>4317</th>\n",
       "      <td>Mining and Quarrying (NACE 10-14)</td>\n",
       "      <td>Industrial Employees</td>\n",
       "      <td>2006Q4</td>\n",
       "      <td>Average Weekly Earnings (Euro)</td>\n",
       "      <td>Euro</td>\n",
       "      <td>NaN</td>\n",
       "    </tr>\n",
       "    <tr>\n",
       "      <th>4318</th>\n",
       "      <td>Mining and Quarrying (NACE 10-14)</td>\n",
       "      <td>Industrial Employees</td>\n",
       "      <td>2007Q1</td>\n",
       "      <td>Average Weekly Earnings (Euro)</td>\n",
       "      <td>Euro</td>\n",
       "      <td>NaN</td>\n",
       "    </tr>\n",
       "    <tr>\n",
       "      <th>4319</th>\n",
       "      <td>Mining and Quarrying (NACE 10-14)</td>\n",
       "      <td>Industrial Employees</td>\n",
       "      <td>2007Q2</td>\n",
       "      <td>Average Weekly Earnings (Euro)</td>\n",
       "      <td>Euro</td>\n",
       "      <td>NaN</td>\n",
       "    </tr>\n",
       "  </tbody>\n",
       "</table>\n",
       "</div>"
      ],
      "text/plain": [
       "                        Industry Sector      Type of Employee Quarter  \\\n",
       "4315  Mining and Quarrying (NACE 10-14)  Industrial Employees  2006Q2   \n",
       "4316  Mining and Quarrying (NACE 10-14)  Industrial Employees  2006Q3   \n",
       "4317  Mining and Quarrying (NACE 10-14)  Industrial Employees  2006Q4   \n",
       "4318  Mining and Quarrying (NACE 10-14)  Industrial Employees  2007Q1   \n",
       "4319  Mining and Quarrying (NACE 10-14)  Industrial Employees  2007Q2   \n",
       "\n",
       "                     Statistic Label  UNIT  VALUE  \n",
       "4315  Average Weekly Earnings (Euro)  Euro    NaN  \n",
       "4316  Average Weekly Earnings (Euro)  Euro    NaN  \n",
       "4317  Average Weekly Earnings (Euro)  Euro    NaN  \n",
       "4318  Average Weekly Earnings (Euro)  Euro    NaN  \n",
       "4319  Average Weekly Earnings (Euro)  Euro    NaN  "
      ]
     },
     "execution_count": 3,
     "metadata": {},
     "output_type": "execute_result"
    }
   ],
   "source": [
    "df_awe.tail()"
   ]
  },
  {
   "cell_type": "code",
   "execution_count": 4,
   "id": "f7dc5430",
   "metadata": {},
   "outputs": [
    {
     "name": "stdout",
     "output_type": "stream",
     "text": [
      "CHECKING the shape:  (4320, 6)\n",
      "\n",
      " CHECKING NULL values :\n",
      " Industry Sector      object\n",
      "Type of Employee     object\n",
      "Quarter              object\n",
      "Statistic Label      object\n",
      "UNIT                 object\n",
      "VALUE               float64\n",
      "dtype: object\n",
      "\n",
      " COUNT is :\n",
      " Industry Sector     4320\n",
      "Type of Employee    4320\n",
      "Quarter             4320\n",
      "Statistic Label     4320\n",
      "UNIT                4320\n",
      "VALUE               3420\n",
      "dtype: int64\n",
      "\n",
      " CHECKING NULL values :\n",
      " Industry Sector       0\n",
      "Type of Employee      0\n",
      "Quarter               0\n",
      "Statistic Label       0\n",
      "UNIT                  0\n",
      "VALUE               900\n",
      "dtype: int64\n"
     ]
    }
   ],
   "source": [
    "print(\"CHECKING the shape: \",df_awe.shape)#Checking shape\n",
    "print(\"\\n CHECKING NULL values :\\n\",df_awe.dtypes)#checking data types\n",
    "#print(\"\\n Check info:\\n\",df_fnie.info)# checking info\n",
    "print(\"\\n COUNT is :\\n\",df_awe.count() )#count rows\n",
    "print(\"\\n CHECKING NULL values :\\n\",df_awe.isnull().sum())#checking null values"
   ]
  },
  {
   "cell_type": "markdown",
   "id": "b99f83c8",
   "metadata": {},
   "source": [
    "### - Column VALUE does not have all the values like the rest.\n",
    "### - Also, there are 900 null values"
   ]
  },
  {
   "cell_type": "code",
   "execution_count": 5,
   "id": "80490d06",
   "metadata": {},
   "outputs": [],
   "source": [
    "df_awe.drop(['UNIT','Statistic Label'], axis=1,inplace=True)# dropping column because i will not use it."
   ]
  },
  {
   "cell_type": "code",
   "execution_count": 6,
   "id": "0d91a4a7",
   "metadata": {},
   "outputs": [],
   "source": [
    "df_awe.rename(columns = {'Industry Sector':'industry_sector',\n",
    "                          'VALUE':'value',\n",
    "                          'Type of Employee':'type_of_employee',\n",
    "                          'Quarter':'quarter'}, \n",
    "                            inplace = True) #Changing column names"
   ]
  },
  {
   "cell_type": "code",
   "execution_count": 7,
   "id": "538c0e28",
   "metadata": {},
   "outputs": [
    {
     "data": {
      "text/html": [
       "<div>\n",
       "<style scoped>\n",
       "    .dataframe tbody tr th:only-of-type {\n",
       "        vertical-align: middle;\n",
       "    }\n",
       "\n",
       "    .dataframe tbody tr th {\n",
       "        vertical-align: top;\n",
       "    }\n",
       "\n",
       "    .dataframe thead th {\n",
       "        text-align: right;\n",
       "    }\n",
       "</style>\n",
       "<table border=\"1\" class=\"dataframe\">\n",
       "  <thead>\n",
       "    <tr style=\"text-align: right;\">\n",
       "      <th></th>\n",
       "      <th>industry_sector</th>\n",
       "      <th>type_of_employee</th>\n",
       "      <th>quarter</th>\n",
       "      <th>value</th>\n",
       "    </tr>\n",
       "  </thead>\n",
       "  <tbody>\n",
       "    <tr>\n",
       "      <th>0</th>\n",
       "      <td>All Industries (NACE 1-4)</td>\n",
       "      <td>All Employees</td>\n",
       "      <td>1995Q3</td>\n",
       "      <td>NaN</td>\n",
       "    </tr>\n",
       "    <tr>\n",
       "      <th>1</th>\n",
       "      <td>All Industries (NACE 1-4)</td>\n",
       "      <td>All Employees</td>\n",
       "      <td>1995Q4</td>\n",
       "      <td>402.96</td>\n",
       "    </tr>\n",
       "    <tr>\n",
       "      <th>2</th>\n",
       "      <td>All Industries (NACE 1-4)</td>\n",
       "      <td>All Employees</td>\n",
       "      <td>1996Q1</td>\n",
       "      <td>402.27</td>\n",
       "    </tr>\n",
       "    <tr>\n",
       "      <th>3</th>\n",
       "      <td>All Industries (NACE 1-4)</td>\n",
       "      <td>All Employees</td>\n",
       "      <td>1996Q2</td>\n",
       "      <td>410.23</td>\n",
       "    </tr>\n",
       "    <tr>\n",
       "      <th>4</th>\n",
       "      <td>All Industries (NACE 1-4)</td>\n",
       "      <td>All Employees</td>\n",
       "      <td>1996Q3</td>\n",
       "      <td>407.09</td>\n",
       "    </tr>\n",
       "  </tbody>\n",
       "</table>\n",
       "</div>"
      ],
      "text/plain": [
       "             industry_sector type_of_employee quarter   value\n",
       "0  All Industries (NACE 1-4)    All Employees  1995Q3     NaN\n",
       "1  All Industries (NACE 1-4)    All Employees  1995Q4  402.96\n",
       "2  All Industries (NACE 1-4)    All Employees  1996Q1  402.27\n",
       "3  All Industries (NACE 1-4)    All Employees  1996Q2  410.23\n",
       "4  All Industries (NACE 1-4)    All Employees  1996Q3  407.09"
      ]
     },
     "execution_count": 7,
     "metadata": {},
     "output_type": "execute_result"
    }
   ],
   "source": [
    "df_awe.head()"
   ]
  },
  {
   "cell_type": "code",
   "execution_count": 8,
   "id": "9e9a38a5",
   "metadata": {},
   "outputs": [],
   "source": [
    "df_awe[\"value\"].fillna(0.0, inplace = True)"
   ]
  },
  {
   "cell_type": "code",
   "execution_count": 9,
   "id": "49f6f36c",
   "metadata": {},
   "outputs": [
    {
     "name": "stdout",
     "output_type": "stream",
     "text": [
      "CHECKING NULL in column value : 0\n"
     ]
    }
   ],
   "source": [
    "print(\"CHECKING NULL in column value :\",df_awe['value'].isnull().sum())#checking null values"
   ]
  },
  {
   "cell_type": "code",
   "execution_count": 10,
   "id": "a0537def",
   "metadata": {},
   "outputs": [],
   "source": [
    "from sklearn.preprocessing import LabelEncoder\n",
    "\n",
    "cols = ['industry_sector', 'type_of_employee', 'quarter']# cloumns to encode\n",
    "\n",
    "df_awe[cols] = df_awe[cols].apply(LabelEncoder().fit_transform)# apply encoder before using model"
   ]
  },
  {
   "cell_type": "code",
   "execution_count": 11,
   "id": "7c62aa25",
   "metadata": {},
   "outputs": [
    {
     "data": {
      "text/html": [
       "<div>\n",
       "<style scoped>\n",
       "    .dataframe tbody tr th:only-of-type {\n",
       "        vertical-align: middle;\n",
       "    }\n",
       "\n",
       "    .dataframe tbody tr th {\n",
       "        vertical-align: top;\n",
       "    }\n",
       "\n",
       "    .dataframe thead th {\n",
       "        text-align: right;\n",
       "    }\n",
       "</style>\n",
       "<table border=\"1\" class=\"dataframe\">\n",
       "  <thead>\n",
       "    <tr style=\"text-align: right;\">\n",
       "      <th></th>\n",
       "      <th>industry_sector</th>\n",
       "      <th>type_of_employee</th>\n",
       "      <th>quarter</th>\n",
       "      <th>value</th>\n",
       "    </tr>\n",
       "  </thead>\n",
       "  <tbody>\n",
       "    <tr>\n",
       "      <th>0</th>\n",
       "      <td>0</td>\n",
       "      <td>0</td>\n",
       "      <td>0</td>\n",
       "      <td>0.00</td>\n",
       "    </tr>\n",
       "    <tr>\n",
       "      <th>1</th>\n",
       "      <td>0</td>\n",
       "      <td>0</td>\n",
       "      <td>1</td>\n",
       "      <td>402.96</td>\n",
       "    </tr>\n",
       "    <tr>\n",
       "      <th>2</th>\n",
       "      <td>0</td>\n",
       "      <td>0</td>\n",
       "      <td>2</td>\n",
       "      <td>402.27</td>\n",
       "    </tr>\n",
       "    <tr>\n",
       "      <th>3</th>\n",
       "      <td>0</td>\n",
       "      <td>0</td>\n",
       "      <td>3</td>\n",
       "      <td>410.23</td>\n",
       "    </tr>\n",
       "    <tr>\n",
       "      <th>4</th>\n",
       "      <td>0</td>\n",
       "      <td>0</td>\n",
       "      <td>4</td>\n",
       "      <td>407.09</td>\n",
       "    </tr>\n",
       "  </tbody>\n",
       "</table>\n",
       "</div>"
      ],
      "text/plain": [
       "   industry_sector  type_of_employee  quarter   value\n",
       "0                0                 0        0    0.00\n",
       "1                0                 0        1  402.96\n",
       "2                0                 0        2  402.27\n",
       "3                0                 0        3  410.23\n",
       "4                0                 0        4  407.09"
      ]
     },
     "execution_count": 11,
     "metadata": {},
     "output_type": "execute_result"
    }
   ],
   "source": [
    "df_awe.head()"
   ]
  },
  {
   "cell_type": "markdown",
   "id": "8fe7a4b3",
   "metadata": {},
   "source": [
    "## Split data to train and test"
   ]
  },
  {
   "cell_type": "code",
   "execution_count": 12,
   "id": "535b3ba1",
   "metadata": {},
   "outputs": [
    {
     "data": {
      "text/plain": [
       "((4320, 3), (4320,), (3024, 3), (1296, 3), (3024,), (1296,))"
      ]
     },
     "execution_count": 12,
     "metadata": {},
     "output_type": "execute_result"
    }
   ],
   "source": [
    "# import train_test_split from the library sklearn\n",
    "from sklearn.model_selection import train_test_split\n",
    "\n",
    "# Declare a variable named as 'X' and 'y'\n",
    "X = df_awe.iloc[:, :-1].values               # All features (independent varaibles) except MEDV \n",
    "y = df_awe['value'].values                    # Target variable\n",
    "\n",
    "# Split the data into 70% and 30% by using a parameter test_size = 30\n",
    "X_train, X_test, y_train, y_test = train_test_split(X, y, test_size = 0.3, random_state = 0)\n",
    "\n",
    "# Display the size of the rows and columns\n",
    "X.shape, y.shape, X_train.shape, X_test.shape, y_train.shape, y_test.shape"
   ]
  },
  {
   "cell_type": "markdown",
   "id": "12152968",
   "metadata": {},
   "source": [
    "## Apply Random Forest Regression"
   ]
  },
  {
   "cell_type": "code",
   "execution_count": 13,
   "id": "67574b2c",
   "metadata": {},
   "outputs": [],
   "source": [
    "from sklearn.ensemble import RandomForestRegressor\n",
    "\n",
    "rf = RandomForestRegressor(n_estimators = 500, max_features = 'sqrt', max_depth = 8, random_state = 10)\n",
    "\n",
    "rf.fit(X_train, y_train)\n",
    "\n",
    "y_pred_rfr = rf.predict(X_test)"
   ]
  },
  {
   "cell_type": "code",
   "execution_count": 14,
   "id": "90b662e1",
   "metadata": {},
   "outputs": [
    {
     "name": "stdout",
     "output_type": "stream",
     "text": [
      "Accuracy: 0.9422713656437022\n",
      "Accuracy in SVR train is:  5937.896914275261\n"
     ]
    }
   ],
   "source": [
    "from sklearn import metrics\n",
    "\n",
    "print(\"Accuracy:\",metrics.r2_score(y_test,y_pred_rfr))\n",
    "print('Accuracy in SVR train is: ',metrics.mean_squared_error(y_test, y_pred_rfr))"
   ]
  },
  {
   "cell_type": "code",
   "execution_count": 15,
   "id": "0ae7a0a5",
   "metadata": {},
   "outputs": [
    {
     "name": "stdout",
     "output_type": "stream",
     "text": [
      "Requirement already satisfied: xgboost in /Users/fernandoleniz/anaconda3/lib/python3.11/site-packages (2.0.1)\n",
      "Requirement already satisfied: numpy in /Users/fernandoleniz/anaconda3/lib/python3.11/site-packages (from xgboost) (1.25.2)\n",
      "Requirement already satisfied: scipy in /Users/fernandoleniz/anaconda3/lib/python3.11/site-packages (from xgboost) (1.11.3)\n",
      "Note: you may need to restart the kernel to use updated packages.\n"
     ]
    }
   ],
   "source": [
    "pip install xgboost # install xgboost because is not iontalled"
   ]
  },
  {
   "cell_type": "markdown",
   "id": "b08b4ea7",
   "metadata": {},
   "source": [
    "## Apply XGBoost in Regression"
   ]
  },
  {
   "cell_type": "code",
   "execution_count": 16,
   "id": "912e21fc",
   "metadata": {},
   "outputs": [
    {
     "name": "stdout",
     "output_type": "stream",
     "text": [
      "score is :  0.9961262748283293\n"
     ]
    }
   ],
   "source": [
    "from xgboost import XGBRegressor\n",
    "\n",
    "xbgr = XGBRegressor(verbosity=0)\n",
    "\n",
    "xbgr.fit(X_train,y_train)\n",
    "\n",
    "print('score is : ',xbgr.score(X_test,y_test))"
   ]
  },
  {
   "cell_type": "code",
   "execution_count": 17,
   "id": "b7fd37c6",
   "metadata": {},
   "outputs": [],
   "source": [
    "y_predict_xgb = xbgr.predict(X_test)"
   ]
  },
  {
   "cell_type": "code",
   "execution_count": 18,
   "id": "f564b846",
   "metadata": {},
   "outputs": [
    {
     "name": "stdout",
     "output_type": "stream",
     "text": [
      "Accuracy in XGBRegressor =  99.61\n",
      "mean squared error in SVR train is:  398.44664610716535\n"
     ]
    }
   ],
   "source": [
    "print('Accuracy in XGBRegressor = ', round(metrics.r2_score(y_test, y_predict_xgb)*100,2))\n",
    "print('mean squared error in SVR train is: ',metrics.mean_squared_error(y_test, y_predict_xgb))"
   ]
  },
  {
   "cell_type": "code",
   "execution_count": null,
   "id": "048765bb",
   "metadata": {},
   "outputs": [],
   "source": []
  }
 ],
 "metadata": {
  "kernelspec": {
   "display_name": "Python 3 (ipykernel)",
   "language": "python",
   "name": "python3"
  },
  "language_info": {
   "codemirror_mode": {
    "name": "ipython",
    "version": 3
   },
   "file_extension": ".py",
   "mimetype": "text/x-python",
   "name": "python",
   "nbconvert_exporter": "python",
   "pygments_lexer": "ipython3",
   "version": "3.11.5"
  }
 },
 "nbformat": 4,
 "nbformat_minor": 5
}
