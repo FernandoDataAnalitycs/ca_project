{
 "cells": [
  {
   "cell_type": "code",
   "execution_count": 65,
   "id": "05ee561b",
   "metadata": {},
   "outputs": [],
   "source": [
    "import pandas as pd \n",
    "import numpy as np \n",
    "import seaborn as sns \n",
    "from scipy import stats \n",
    "import matplotlib.pyplot as plt\n",
    "from empiricaldist import Pmf , Cdf\n",
    "from matplotlib.ticker import PercentFormatter\n",
    "\n",
    "import warnings\n",
    "warnings.filterwarnings(\"ignore\")"
   ]
  },
  {
   "cell_type": "code",
   "execution_count": 66,
   "id": "65170d7e",
   "metadata": {},
   "outputs": [],
   "source": [
    "df_aofm = pd.read_csv(\"PPO18_age_of_firstime_mothers.csv\")# aofm = age_of_firstime_mothers"
   ]
  },
  {
   "cell_type": "markdown",
   "id": "be5ea052",
   "metadata": {},
   "source": [
    "## EDA(Exploratory Data Analysis)"
   ]
  },
  {
   "cell_type": "code",
   "execution_count": 67,
   "id": "265afdd2",
   "metadata": {
    "scrolled": true
   },
   "outputs": [
    {
     "data": {
      "text/html": [
       "<div>\n",
       "<style scoped>\n",
       "    .dataframe tbody tr th:only-of-type {\n",
       "        vertical-align: middle;\n",
       "    }\n",
       "\n",
       "    .dataframe tbody tr th {\n",
       "        vertical-align: top;\n",
       "    }\n",
       "\n",
       "    .dataframe thead th {\n",
       "        text-align: right;\n",
       "    }\n",
       "</style>\n",
       "<table border=\"1\" class=\"dataframe\">\n",
       "  <thead>\n",
       "    <tr style=\"text-align: right;\">\n",
       "      <th></th>\n",
       "      <th>Statistic Label</th>\n",
       "      <th>State</th>\n",
       "      <th>Year</th>\n",
       "      <th>UNIT</th>\n",
       "      <th>VALUE</th>\n",
       "    </tr>\n",
       "  </thead>\n",
       "  <tbody>\n",
       "    <tr>\n",
       "      <th>0</th>\n",
       "      <td>Mean Age of First Time- Mothers</td>\n",
       "      <td>State</td>\n",
       "      <td>1990</td>\n",
       "      <td>Years</td>\n",
       "      <td>26.3</td>\n",
       "    </tr>\n",
       "    <tr>\n",
       "      <th>1</th>\n",
       "      <td>Mean Age of First Time- Mothers</td>\n",
       "      <td>State</td>\n",
       "      <td>1991</td>\n",
       "      <td>Years</td>\n",
       "      <td>26.3</td>\n",
       "    </tr>\n",
       "    <tr>\n",
       "      <th>2</th>\n",
       "      <td>Mean Age of First Time- Mothers</td>\n",
       "      <td>State</td>\n",
       "      <td>1992</td>\n",
       "      <td>Years</td>\n",
       "      <td>26.4</td>\n",
       "    </tr>\n",
       "    <tr>\n",
       "      <th>3</th>\n",
       "      <td>Mean Age of First Time- Mothers</td>\n",
       "      <td>State</td>\n",
       "      <td>1993</td>\n",
       "      <td>Years</td>\n",
       "      <td>26.6</td>\n",
       "    </tr>\n",
       "    <tr>\n",
       "      <th>4</th>\n",
       "      <td>Mean Age of First Time- Mothers</td>\n",
       "      <td>State</td>\n",
       "      <td>1994</td>\n",
       "      <td>Years</td>\n",
       "      <td>26.8</td>\n",
       "    </tr>\n",
       "  </tbody>\n",
       "</table>\n",
       "</div>"
      ],
      "text/plain": [
       "                   Statistic Label  State  Year   UNIT  VALUE\n",
       "0  Mean Age of First Time- Mothers  State  1990  Years   26.3\n",
       "1  Mean Age of First Time- Mothers  State  1991  Years   26.3\n",
       "2  Mean Age of First Time- Mothers  State  1992  Years   26.4\n",
       "3  Mean Age of First Time- Mothers  State  1993  Years   26.6\n",
       "4  Mean Age of First Time- Mothers  State  1994  Years   26.8"
      ]
     },
     "execution_count": 67,
     "metadata": {},
     "output_type": "execute_result"
    }
   ],
   "source": [
    "df_aofm.head()"
   ]
  },
  {
   "cell_type": "code",
   "execution_count": 68,
   "id": "5dda62fe",
   "metadata": {},
   "outputs": [
    {
     "name": "stdout",
     "output_type": "stream",
     "text": [
      "CHECKING the shape:  (29, 5)\n",
      "\n",
      " CHECKING NULL values :\n",
      " Statistic Label     object\n",
      "State               object\n",
      "Year                 int64\n",
      "UNIT                object\n",
      "VALUE              float64\n",
      "dtype: object\n",
      "\n",
      " Check info:\n",
      " <bound method DataFrame.info of                     Statistic Label  State  Year   UNIT  VALUE\n",
      "0   Mean Age of First Time- Mothers  State  1990  Years   26.3\n",
      "1   Mean Age of First Time- Mothers  State  1991  Years   26.3\n",
      "2   Mean Age of First Time- Mothers  State  1992  Years   26.4\n",
      "3   Mean Age of First Time- Mothers  State  1993  Years   26.6\n",
      "4   Mean Age of First Time- Mothers  State  1994  Years   26.8\n",
      "5   Mean Age of First Time- Mothers  State  1995  Years   27.0\n",
      "6   Mean Age of First Time- Mothers  State  1996  Years   27.0\n",
      "7   Mean Age of First Time- Mothers  State  1997  Years   27.1\n",
      "8   Mean Age of First Time- Mothers  State  1998  Years   27.1\n",
      "9   Mean Age of First Time- Mothers  State  1999  Years   27.2\n",
      "10  Mean Age of First Time- Mothers  State  2000  Years   27.4\n",
      "11  Mean Age of First Time- Mothers  State  2001  Years   27.6\n",
      "12  Mean Age of First Time- Mothers  State  2002  Years   27.8\n",
      "13  Mean Age of First Time- Mothers  State  2003  Years   28.2\n",
      "14  Mean Age of First Time- Mothers  State  2004  Years   28.5\n",
      "15  Mean Age of First Time- Mothers  State  2005  Years   28.7\n",
      "16  Mean Age of First Time- Mothers  State  2006  Years   28.8\n",
      "17  Mean Age of First Time- Mothers  State  2007  Years   28.8\n",
      "18  Mean Age of First Time- Mothers  State  2008  Years   28.9\n",
      "19  Mean Age of First Time- Mothers  State  2009  Years   29.1\n",
      "20  Mean Age of First Time- Mothers  State  2010  Years   29.4\n",
      "21  Mean Age of First Time- Mothers  State  2011  Years   29.8\n",
      "22  Mean Age of First Time- Mothers  State  2012  Years   30.0\n",
      "23  Mean Age of First Time- Mothers  State  2013  Years   30.3\n",
      "24  Mean Age of First Time- Mothers  State  2014  Years   30.5\n",
      "25  Mean Age of First Time- Mothers  State  2015  Years   30.6\n",
      "26  Mean Age of First Time- Mothers  State  2016  Years   30.9\n",
      "27  Mean Age of First Time- Mothers  State  2017  Years   31.0\n",
      "28  Mean Age of First Time- Mothers  State  2018  Years   31.1>\n",
      "\n",
      " COUNT is :\n",
      " Statistic Label    29\n",
      "State              29\n",
      "Year               29\n",
      "UNIT               29\n",
      "VALUE              29\n",
      "dtype: int64\n",
      "\n",
      " CHECKING NULL values :\n",
      " Statistic Label    0\n",
      "State              0\n",
      "Year               0\n",
      "UNIT               0\n",
      "VALUE              0\n",
      "dtype: int64\n"
     ]
    }
   ],
   "source": [
    "print(\"CHECKING the shape: \",df_aofm.shape)#Checking shape\n",
    "print(\"\\n CHECKING NULL values :\\n\",df_aofm.dtypes)#checking data types\n",
    "print(\"\\n Check info:\\n\",df_aofm.info)# checking info\n",
    "print(\"\\n COUNT is :\\n\",df_aofm.count() )#count rows\n",
    "print(\"\\n CHECKING NULL values :\\n\",df_aofm.isnull().sum())#checking null values"
   ]
  },
  {
   "cell_type": "code",
   "execution_count": 69,
   "id": "0d4f1abf",
   "metadata": {},
   "outputs": [
    {
     "data": {
      "text/plain": [
       "Index(['Statistic Label', 'State', 'Year', 'UNIT', 'VALUE'], dtype='object')"
      ]
     },
     "execution_count": 69,
     "metadata": {},
     "output_type": "execute_result"
    }
   ],
   "source": [
    "df_aofm.columns# get column names"
   ]
  },
  {
   "cell_type": "code",
   "execution_count": 70,
   "id": "0ab243a8",
   "metadata": {},
   "outputs": [],
   "source": [
    "cols_to_drop = ['State','UNIT']# dropping columns that I won't use.\n",
    "df_aofm.drop(columns=cols_to_drop, inplace=True)"
   ]
  },
  {
   "cell_type": "code",
   "execution_count": 71,
   "id": "9250d571",
   "metadata": {},
   "outputs": [],
   "source": [
    "df_aofm.rename(columns = {'Year':'year','VALUE':'average_age'},inplace = True) #Changing column names"
   ]
  },
  {
   "cell_type": "code",
   "execution_count": 72,
   "id": "c81c46c3",
   "metadata": {},
   "outputs": [],
   "source": [
    "#df_aofm['Statistic Label'] = df_aofm['Statistic Label'].astype(\"category\")\n",
    "#df_aofm['Statistic Label'] = df_aofm['Statistic Label'].cat.codes"
   ]
  },
  {
   "cell_type": "code",
   "execution_count": 73,
   "id": "00439b72",
   "metadata": {},
   "outputs": [
    {
     "data": {
      "text/html": [
       "<div>\n",
       "<style scoped>\n",
       "    .dataframe tbody tr th:only-of-type {\n",
       "        vertical-align: middle;\n",
       "    }\n",
       "\n",
       "    .dataframe tbody tr th {\n",
       "        vertical-align: top;\n",
       "    }\n",
       "\n",
       "    .dataframe thead th {\n",
       "        text-align: right;\n",
       "    }\n",
       "</style>\n",
       "<table border=\"1\" class=\"dataframe\">\n",
       "  <thead>\n",
       "    <tr style=\"text-align: right;\">\n",
       "      <th></th>\n",
       "      <th>Statistic Label</th>\n",
       "      <th>year</th>\n",
       "      <th>average_age</th>\n",
       "    </tr>\n",
       "  </thead>\n",
       "  <tbody>\n",
       "    <tr>\n",
       "      <th>0</th>\n",
       "      <td>Mean Age of First Time- Mothers</td>\n",
       "      <td>1990</td>\n",
       "      <td>26.3</td>\n",
       "    </tr>\n",
       "    <tr>\n",
       "      <th>1</th>\n",
       "      <td>Mean Age of First Time- Mothers</td>\n",
       "      <td>1991</td>\n",
       "      <td>26.3</td>\n",
       "    </tr>\n",
       "    <tr>\n",
       "      <th>2</th>\n",
       "      <td>Mean Age of First Time- Mothers</td>\n",
       "      <td>1992</td>\n",
       "      <td>26.4</td>\n",
       "    </tr>\n",
       "    <tr>\n",
       "      <th>3</th>\n",
       "      <td>Mean Age of First Time- Mothers</td>\n",
       "      <td>1993</td>\n",
       "      <td>26.6</td>\n",
       "    </tr>\n",
       "    <tr>\n",
       "      <th>4</th>\n",
       "      <td>Mean Age of First Time- Mothers</td>\n",
       "      <td>1994</td>\n",
       "      <td>26.8</td>\n",
       "    </tr>\n",
       "    <tr>\n",
       "      <th>5</th>\n",
       "      <td>Mean Age of First Time- Mothers</td>\n",
       "      <td>1995</td>\n",
       "      <td>27.0</td>\n",
       "    </tr>\n",
       "    <tr>\n",
       "      <th>6</th>\n",
       "      <td>Mean Age of First Time- Mothers</td>\n",
       "      <td>1996</td>\n",
       "      <td>27.0</td>\n",
       "    </tr>\n",
       "    <tr>\n",
       "      <th>7</th>\n",
       "      <td>Mean Age of First Time- Mothers</td>\n",
       "      <td>1997</td>\n",
       "      <td>27.1</td>\n",
       "    </tr>\n",
       "    <tr>\n",
       "      <th>8</th>\n",
       "      <td>Mean Age of First Time- Mothers</td>\n",
       "      <td>1998</td>\n",
       "      <td>27.1</td>\n",
       "    </tr>\n",
       "    <tr>\n",
       "      <th>9</th>\n",
       "      <td>Mean Age of First Time- Mothers</td>\n",
       "      <td>1999</td>\n",
       "      <td>27.2</td>\n",
       "    </tr>\n",
       "  </tbody>\n",
       "</table>\n",
       "</div>"
      ],
      "text/plain": [
       "                   Statistic Label  year  average_age\n",
       "0  Mean Age of First Time- Mothers  1990         26.3\n",
       "1  Mean Age of First Time- Mothers  1991         26.3\n",
       "2  Mean Age of First Time- Mothers  1992         26.4\n",
       "3  Mean Age of First Time- Mothers  1993         26.6\n",
       "4  Mean Age of First Time- Mothers  1994         26.8\n",
       "5  Mean Age of First Time- Mothers  1995         27.0\n",
       "6  Mean Age of First Time- Mothers  1996         27.0\n",
       "7  Mean Age of First Time- Mothers  1997         27.1\n",
       "8  Mean Age of First Time- Mothers  1998         27.1\n",
       "9  Mean Age of First Time- Mothers  1999         27.2"
      ]
     },
     "execution_count": 73,
     "metadata": {},
     "output_type": "execute_result"
    }
   ],
   "source": [
    "df_aofm.head(10)# dataset before visualizing data\n"
   ]
  },
  {
   "cell_type": "markdown",
   "id": "e570eab3",
   "metadata": {},
   "source": [
    "# visualize data with plot"
   ]
  },
  {
   "cell_type": "code",
   "execution_count": 74,
   "id": "2f9352cf",
   "metadata": {
    "scrolled": false
   },
   "outputs": [
    {
     "data": {
      "text/plain": [
       "<seaborn.axisgrid.FacetGrid at 0x14d2a9d90>"
      ]
     },
     "execution_count": 74,
     "metadata": {},
     "output_type": "execute_result"
    },
    {
     "data": {
      "image/png": "[encoded data removed]",
      "text/plain": [
       "<Figure size 751.625x500 with 1 Axes>"
      ]
     },
     "metadata": {},
     "output_type": "display_data"
    }
   ],
   "source": [
    "sns.set_style('whitegrid') \n",
    "sns.lmplot(x ='year', y ='average_age', data = df_aofm,hue ='Statistic Label') #,hue ='Broad Nationality Group'"
   ]
  },
  {
   "cell_type": "markdown",
   "id": "ce49dc21",
   "metadata": {},
   "source": [
    "## Visualize data using heatmap"
   ]
  },
  {
   "cell_type": "code",
   "execution_count": 75,
   "id": "d0640cd3",
   "metadata": {},
   "outputs": [
    {
     "data": {
      "text/plain": [
       "<Axes: >"
      ]
     },
     "execution_count": 75,
     "metadata": {},
     "output_type": "execute_result"
    },
    {
     "data": {
      "image/png": "[encoded data removed]",
      "text/plain": [
       "<Figure size 640x480 with 2 Axes>"
      ]
     },
     "metadata": {},
     "output_type": "display_data"
    }
   ],
   "source": [
    "cols = [\"year\",'average_age']\n",
    "coef_heat = np.corrcoef(df_aofm[cols].values.T)\n",
    "sns.heatmap(coef_heat,cmap=\"coolwarm\",yticklabels=cols,xticklabels=cols,annot=True,cbar=True)"
   ]
  },
  {
   "cell_type": "markdown",
   "id": "1ffafb4a",
   "metadata": {},
   "source": [
    "## Splitting the dataset into the Training set and Test set"
   ]
  },
  {
   "cell_type": "code",
   "execution_count": 90,
   "id": "5ffe1045",
   "metadata": {},
   "outputs": [
    {
     "data": {
      "text/plain": [
       "((29, 1), (29, 1), (17, 1), (12, 1), (17, 1), (12, 1))"
      ]
     },
     "execution_count": 90,
     "metadata": {},
     "output_type": "execute_result"
    }
   ],
   "source": [
    "# import train_test_split from the library sklearn\n",
    "from sklearn.model_selection import train_test_split\n",
    "\n",
    "# Declare a variable named as 'X' and 'y'\n",
    "X = df_aofm.iloc[:, 1].values # independent variable\n",
    "y = df_aofm['average_age'].values # Target variable\n",
    "\n",
    "X = X.reshape(-1,1) # declare an 2D array\n",
    "y = y.reshape(-1, 1) # declare an 2D array\n",
    "\n",
    "# Split the data into 70% and 30% by using a parameter test_size = 30\n",
    "X_train, X_test, y_train, y_test = train_test_split(X, y, test_size = 0.4, random_state = 40)\n",
    "\n",
    "# Display the size of the rows and columns\n",
    "X.shape, y.shape, X_train.shape, X_test.shape, y_train.shape, y_test.shape"
   ]
  },
  {
   "cell_type": "markdown",
   "id": "de2f873f",
   "metadata": {},
   "source": [
    "## using linear regression model"
   ]
  },
  {
   "cell_type": "code",
   "execution_count": 91,
   "id": "62df5bdd",
   "metadata": {},
   "outputs": [],
   "source": [
    "# Initialise an object slr by calling a method named as 'LinearRegression()'\n",
    "from sklearn.linear_model import LinearRegression\n",
    "lr = LinearRegression()#new linear regression class\n",
    "\n",
    "# Train the model\n",
    "lr.fit(X_train, y_train)\n",
    "\n",
    "# Predict the results for the training and testing\n",
    "y_pred_train = lr.predict(X_train)\n",
    "y_pred_test = lr.predict(X_test)"
   ]
  },
  {
   "cell_type": "markdown",
   "id": "009ba488",
   "metadata": {},
   "source": [
    "## checking accuracy"
   ]
  },
  {
   "cell_type": "code",
   "execution_count": 92,
   "id": "5957ffec",
   "metadata": {},
   "outputs": [
    {
     "data": {
      "text/plain": [
       "0.980392433780072"
      ]
     },
     "execution_count": 92,
     "metadata": {},
     "output_type": "execute_result"
    }
   ],
   "source": [
    "from sklearn.metrics import r2_score\n",
    "\n",
    "r2_score(y_train,y_pred_train)# checking accuracy in training data"
   ]
  },
  {
   "cell_type": "code",
   "execution_count": 93,
   "id": "71521ce7",
   "metadata": {},
   "outputs": [
    {
     "data": {
      "text/plain": [
       "0.9846081538162629"
      ]
     },
     "execution_count": 93,
     "metadata": {},
     "output_type": "execute_result"
    }
   ],
   "source": [
    "r2_score(y_test,y_pred_test)# checking accuracy in test data"
   ]
  },
  {
   "cell_type": "code",
   "execution_count": null,
   "id": "07dc18b9",
   "metadata": {},
   "outputs": [],
   "source": [
    "fig, ax = plt.subplots()\n",
    "\n",
    "fruits = number_of_graduates[\"Year\"]\n",
    "counts = number_of_graduates[\"value\"]\n",
    "\n",
    "ax.bar(fruits, counts)\n",
    "\n",
    "ax.set_ylabel('number of students')\n",
    "ax.set_title('graduates per year')\n",
    "ax.legend(title='students graduated')\n",
    "\n",
    "plt.show()"
   ]
  },
  {
   "cell_type": "code",
   "execution_count": 2,
   "id": "bbccff25",
   "metadata": {},
   "outputs": [],
   "source": [
    "import pandas as pd\n",
    "test = pd.read_csv(\"FEO01.20231030T191045.csv\")"
   ]
  },
  {
   "cell_type": "code",
   "execution_count": 8,
   "id": "20840033",
   "metadata": {},
   "outputs": [
    {
     "data": {
      "text/html": [
       "<div>\n",
       "<style scoped>\n",
       "    .dataframe tbody tr th:only-of-type {\n",
       "        vertical-align: middle;\n",
       "    }\n",
       "\n",
       "    .dataframe tbody tr th {\n",
       "        vertical-align: top;\n",
       "    }\n",
       "\n",
       "    .dataframe thead th {\n",
       "        text-align: right;\n",
       "    }\n",
       "</style>\n",
       "<table border=\"1\" class=\"dataframe\">\n",
       "  <thead>\n",
       "    <tr style=\"text-align: right;\">\n",
       "      <th></th>\n",
       "      <th>Statistic Label</th>\n",
       "      <th>Age Group</th>\n",
       "      <th>Sex</th>\n",
       "      <th>Field of Study</th>\n",
       "      <th>NFQ Level</th>\n",
       "      <th>Year</th>\n",
       "      <th>UNIT</th>\n",
       "      <th>VALUE</th>\n",
       "    </tr>\n",
       "  </thead>\n",
       "  <tbody>\n",
       "    <tr>\n",
       "      <th>0</th>\n",
       "      <td>Number of Graduates</td>\n",
       "      <td>15 - 25 years</td>\n",
       "      <td>Male</td>\n",
       "      <td>Business, Administration and Law</td>\n",
       "      <td>NFQ Level 6</td>\n",
       "      <td>2010</td>\n",
       "      <td>Persons</td>\n",
       "      <td>70</td>\n",
       "    </tr>\n",
       "    <tr>\n",
       "      <th>1</th>\n",
       "      <td>Number of Graduates</td>\n",
       "      <td>15 - 25 years</td>\n",
       "      <td>Male</td>\n",
       "      <td>Business, Administration and Law</td>\n",
       "      <td>NFQ Level 6</td>\n",
       "      <td>2011</td>\n",
       "      <td>Persons</td>\n",
       "      <td>120</td>\n",
       "    </tr>\n",
       "    <tr>\n",
       "      <th>2</th>\n",
       "      <td>Number of Graduates</td>\n",
       "      <td>15 - 25 years</td>\n",
       "      <td>Male</td>\n",
       "      <td>Business, Administration and Law</td>\n",
       "      <td>NFQ Level 6</td>\n",
       "      <td>2012</td>\n",
       "      <td>Persons</td>\n",
       "      <td>125</td>\n",
       "    </tr>\n",
       "    <tr>\n",
       "      <th>3</th>\n",
       "      <td>Number of Graduates</td>\n",
       "      <td>15 - 25 years</td>\n",
       "      <td>Male</td>\n",
       "      <td>Business, Administration and Law</td>\n",
       "      <td>NFQ Level 6</td>\n",
       "      <td>2013</td>\n",
       "      <td>Persons</td>\n",
       "      <td>125</td>\n",
       "    </tr>\n",
       "    <tr>\n",
       "      <th>4</th>\n",
       "      <td>Number of Graduates</td>\n",
       "      <td>15 - 25 years</td>\n",
       "      <td>Male</td>\n",
       "      <td>Business, Administration and Law</td>\n",
       "      <td>NFQ Level 6</td>\n",
       "      <td>2014</td>\n",
       "      <td>Persons</td>\n",
       "      <td>105</td>\n",
       "    </tr>\n",
       "    <tr>\n",
       "      <th>5</th>\n",
       "      <td>Number of Graduates</td>\n",
       "      <td>15 - 25 years</td>\n",
       "      <td>Male</td>\n",
       "      <td>Business, Administration and Law</td>\n",
       "      <td>NFQ Level 6</td>\n",
       "      <td>2015</td>\n",
       "      <td>Persons</td>\n",
       "      <td>80</td>\n",
       "    </tr>\n",
       "    <tr>\n",
       "      <th>6</th>\n",
       "      <td>Number of Graduates</td>\n",
       "      <td>15 - 25 years</td>\n",
       "      <td>Male</td>\n",
       "      <td>Business, Administration and Law</td>\n",
       "      <td>NFQ Level 6</td>\n",
       "      <td>2016</td>\n",
       "      <td>Persons</td>\n",
       "      <td>80</td>\n",
       "    </tr>\n",
       "  </tbody>\n",
       "</table>\n",
       "</div>"
      ],
      "text/plain": [
       "       Statistic Label      Age Group   Sex                    Field of Study  \\\n",
       "0  Number of Graduates  15 - 25 years  Male  Business, Administration and Law   \n",
       "1  Number of Graduates  15 - 25 years  Male  Business, Administration and Law   \n",
       "2  Number of Graduates  15 - 25 years  Male  Business, Administration and Law   \n",
       "3  Number of Graduates  15 - 25 years  Male  Business, Administration and Law   \n",
       "4  Number of Graduates  15 - 25 years  Male  Business, Administration and Law   \n",
       "5  Number of Graduates  15 - 25 years  Male  Business, Administration and Law   \n",
       "6  Number of Graduates  15 - 25 years  Male  Business, Administration and Law   \n",
       "\n",
       "     NFQ Level  Year     UNIT  VALUE  \n",
       "0  NFQ Level 6  2010  Persons     70  \n",
       "1  NFQ Level 6  2011  Persons    120  \n",
       "2  NFQ Level 6  2012  Persons    125  \n",
       "3  NFQ Level 6  2013  Persons    125  \n",
       "4  NFQ Level 6  2014  Persons    105  \n",
       "5  NFQ Level 6  2015  Persons     80  \n",
       "6  NFQ Level 6  2016  Persons     80  "
      ]
     },
     "execution_count": 8,
     "metadata": {},
     "output_type": "execute_result"
    }
   ],
   "source": [
    "test"
   ]
  },
  {
   "cell_type": "code",
   "execution_count": 6,
   "id": "b9e75105",
   "metadata": {},
   "outputs": [
    {
     "name": "stderr",
     "output_type": "stream",
     "text": [
      "No artists with labels found to put in legend.  Note that artists whose label start with an underscore are ignored when legend() is called with no argument.\n"
     ]
    },
    {
     "data": {
      "image/png": "[encoded data removed]",
      "text/plain": [
       "<Figure size 640x480 with 1 Axes>"
      ]
     },
     "metadata": {},
     "output_type": "display_data"
    }
   ],
   "source": [
    "import matplotlib.pyplot as plt\n",
    "fig, ax = plt.subplots()\n",
    "\n",
    "fruits = test[\"Year\"]\n",
    "counts = test[\"VALUE\"]\n",
    "\n",
    "ax.bar(fruits, counts)\n",
    "\n",
    "ax.set_ylabel('number of students')\n",
    "ax.set_title('graduates per year')\n",
    "ax.legend(title='students graduated')\n",
    "\n",
    "plt.show()"
   ]
  },
  {
   "cell_type": "code",
   "execution_count": 10,
   "id": "8d8153c0",
   "metadata": {},
   "outputs": [
    {
     "data": {
      "text/plain": [
       "<seaborn.axisgrid.FacetGrid at 0x13bb04850>"
      ]
     },
     "execution_count": 10,
     "metadata": {},
     "output_type": "execute_result"
    },
    {
     "data": {
      "image/png": "[encoded data removed]",
      "text/plain": [
       "<Figure size 627.875x500 with 1 Axes>"
      ]
     },
     "metadata": {},
     "output_type": "display_data"
    }
   ],
   "source": [
    "import seaborn as sns\n",
    "sns.set_style('whitegrid') \n",
    "sns.lmplot(x ='Year', y ='VALUE', data = test,hue=\"NFQ Level\") #,hue ='Broad Nationality Group'"
   ]
  },
  {
   "cell_type": "code",
   "execution_count": null,
   "id": "5a061713",
   "metadata": {},
   "outputs": [],
   "source": []
  }
 ],
 "metadata": {
  "kernelspec": {
   "display_name": "Python 3 (ipykernel)",
   "language": "python",
   "name": "python3"
  },
  "language_info": {
   "codemirror_mode": {
    "name": "ipython",
    "version": 3
   },
   "file_extension": ".py",
   "mimetype": "text/x-python",
   "name": "python",
   "nbconvert_exporter": "python",
   "pygments_lexer": "ipython3",
   "version": "3.11.5"
  }
 },
 "nbformat": 4,
 "nbformat_minor": 5
}
