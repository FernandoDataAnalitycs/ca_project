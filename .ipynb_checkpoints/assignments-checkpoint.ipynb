{
 "cells": [
  {
   "cell_type": "code",
   "execution_count": 1,
   "id": "05ee561b",
   "metadata": {},
   "outputs": [],
   "source": [
    "import pandas as pd \n",
    "import numpy as np \n",
    "import seaborn as sns \n",
    "from scipy import stats \n",
    "import matplotlib.pyplot as plt\n",
    "from empiricaldist import Pmf , Cdf\n",
    "from matplotlib.ticker import PercentFormatter\n",
    "\n",
    "import warnings\n",
    "warnings.filterwarnings(\"ignore\")"
   ]
  },
  {
   "cell_type": "code",
   "execution_count": 2,
   "id": "65170d7e",
   "metadata": {},
   "outputs": [],
   "source": [
    "fn_employment = pd.read_csv(\"fna02_employment_activity.csv\")# fn = foreign nationals\n",
    "fn_in_employment = pd.read_csv(\"fna08_foreign_nationals_in_employment.csv\")"
   ]
  },
  {
   "cell_type": "markdown",
   "id": "84865ada",
   "metadata": {},
   "source": [
    "## EDA"
   ]
  },
  {
   "cell_type": "code",
   "execution_count": 24,
   "id": "122c0fc3",
   "metadata": {},
   "outputs": [
    {
     "name": "stdout",
     "output_type": "stream",
     "text": [
      "Statistic Label                object\n",
      "Broad Nationality Group        object\n",
      "Sex                            object\n",
      "Industry Sector NACE Rev 2     object\n",
      "Year                            int64\n",
      "UNIT                           object\n",
      "VALUE                         float64\n",
      "dtype: object\n",
      "\n",
      " Count is :\n",
      " Statistic Label               6762\n",
      "Broad Nationality Group       6762\n",
      "Sex                           6762\n",
      "Industry Sector NACE Rev 2    6762\n",
      "Year                          6762\n",
      "UNIT                          6762\n",
      "VALUE                         6401\n",
      "dtype: int64\n"
     ]
    }
   ],
   "source": [
    "print(fn_in_employment.dtypes)\n",
    "print(f\"\\n COUNT is :\\n\",fn_in_employment.count() )"
   ]
  },
  {
   "cell_type": "code",
   "execution_count": 8,
   "id": "9b0b0ec7",
   "metadata": {},
   "outputs": [
    {
     "data": {
      "text/plain": [
       "Statistic Label             object\n",
       "Broad Nationality Group     object\n",
       "Year of Entry               object\n",
       "Year                         int64\n",
       "UNIT                        object\n",
       "VALUE                      float64\n",
       "dtype: object"
      ]
     },
     "execution_count": 8,
     "metadata": {},
     "output_type": "execute_result"
    }
   ],
   "source": [
    "fn_employment.dtypes"
   ]
  },
  {
   "cell_type": "code",
   "execution_count": 3,
   "id": "aa827792",
   "metadata": {},
   "outputs": [
    {
     "data": {
      "text/html": [
       "<div>\n",
       "<style scoped>\n",
       "    .dataframe tbody tr th:only-of-type {\n",
       "        vertical-align: middle;\n",
       "    }\n",
       "\n",
       "    .dataframe tbody tr th {\n",
       "        vertical-align: top;\n",
       "    }\n",
       "\n",
       "    .dataframe thead th {\n",
       "        text-align: right;\n",
       "    }\n",
       "</style>\n",
       "<table border=\"1\" class=\"dataframe\">\n",
       "  <thead>\n",
       "    <tr style=\"text-align: right;\">\n",
       "      <th></th>\n",
       "      <th>Statistic Label</th>\n",
       "      <th>Broad Nationality Group</th>\n",
       "      <th>Year of Entry</th>\n",
       "      <th>Year</th>\n",
       "      <th>UNIT</th>\n",
       "      <th>VALUE</th>\n",
       "    </tr>\n",
       "  </thead>\n",
       "  <tbody>\n",
       "    <tr>\n",
       "      <th>0</th>\n",
       "      <td>Employment Activity of Foreign Nationals</td>\n",
       "      <td>All nationalities</td>\n",
       "      <td>All PPSN allocations to foreign nationals aged...</td>\n",
       "      <td>2002</td>\n",
       "      <td>Number</td>\n",
       "      <td>76919.0</td>\n",
       "    </tr>\n",
       "    <tr>\n",
       "      <th>1</th>\n",
       "      <td>Employment Activity of Foreign Nationals</td>\n",
       "      <td>All nationalities</td>\n",
       "      <td>All PPSN allocations to foreign nationals aged...</td>\n",
       "      <td>2003</td>\n",
       "      <td>Number</td>\n",
       "      <td>70138.0</td>\n",
       "    </tr>\n",
       "    <tr>\n",
       "      <th>2</th>\n",
       "      <td>Employment Activity of Foreign Nationals</td>\n",
       "      <td>All nationalities</td>\n",
       "      <td>All PPSN allocations to foreign nationals aged...</td>\n",
       "      <td>2004</td>\n",
       "      <td>Number</td>\n",
       "      <td>114750.0</td>\n",
       "    </tr>\n",
       "    <tr>\n",
       "      <th>3</th>\n",
       "      <td>Employment Activity of Foreign Nationals</td>\n",
       "      <td>All nationalities</td>\n",
       "      <td>All PPSN allocations to foreign nationals aged...</td>\n",
       "      <td>2005</td>\n",
       "      <td>Number</td>\n",
       "      <td>168197.0</td>\n",
       "    </tr>\n",
       "    <tr>\n",
       "      <th>4</th>\n",
       "      <td>Employment Activity of Foreign Nationals</td>\n",
       "      <td>All nationalities</td>\n",
       "      <td>All PPSN allocations to foreign nationals aged...</td>\n",
       "      <td>2006</td>\n",
       "      <td>Number</td>\n",
       "      <td>200450.0</td>\n",
       "    </tr>\n",
       "  </tbody>\n",
       "</table>\n",
       "</div>"
      ],
      "text/plain": [
       "                            Statistic Label Broad Nationality Group  \\\n",
       "0  Employment Activity of Foreign Nationals       All nationalities   \n",
       "1  Employment Activity of Foreign Nationals       All nationalities   \n",
       "2  Employment Activity of Foreign Nationals       All nationalities   \n",
       "3  Employment Activity of Foreign Nationals       All nationalities   \n",
       "4  Employment Activity of Foreign Nationals       All nationalities   \n",
       "\n",
       "                                       Year of Entry  Year    UNIT     VALUE  \n",
       "0  All PPSN allocations to foreign nationals aged...  2002  Number   76919.0  \n",
       "1  All PPSN allocations to foreign nationals aged...  2003  Number   70138.0  \n",
       "2  All PPSN allocations to foreign nationals aged...  2004  Number  114750.0  \n",
       "3  All PPSN allocations to foreign nationals aged...  2005  Number  168197.0  \n",
       "4  All PPSN allocations to foreign nationals aged...  2006  Number  200450.0  "
      ]
     },
     "execution_count": 3,
     "metadata": {},
     "output_type": "execute_result"
    }
   ],
   "source": [
    "fn_employment.head()\n"
   ]
  },
  {
   "cell_type": "code",
   "execution_count": 4,
   "id": "19e81cbe",
   "metadata": {},
   "outputs": [
    {
     "data": {
      "text/html": [
       "<div>\n",
       "<style scoped>\n",
       "    .dataframe tbody tr th:only-of-type {\n",
       "        vertical-align: middle;\n",
       "    }\n",
       "\n",
       "    .dataframe tbody tr th {\n",
       "        vertical-align: top;\n",
       "    }\n",
       "\n",
       "    .dataframe thead th {\n",
       "        text-align: right;\n",
       "    }\n",
       "</style>\n",
       "<table border=\"1\" class=\"dataframe\">\n",
       "  <thead>\n",
       "    <tr style=\"text-align: right;\">\n",
       "      <th></th>\n",
       "      <th>Statistic Label</th>\n",
       "      <th>Broad Nationality Group</th>\n",
       "      <th>Sex</th>\n",
       "      <th>Industry Sector NACE Rev 2</th>\n",
       "      <th>Year</th>\n",
       "      <th>UNIT</th>\n",
       "      <th>VALUE</th>\n",
       "    </tr>\n",
       "  </thead>\n",
       "  <tbody>\n",
       "    <tr>\n",
       "      <th>0</th>\n",
       "      <td>Foreign Nationals in Employment</td>\n",
       "      <td>All nationalities</td>\n",
       "      <td>Both sexes</td>\n",
       "      <td>Agriculture, forestry and fishing (A)</td>\n",
       "      <td>2005</td>\n",
       "      <td>Number</td>\n",
       "      <td>5116.0</td>\n",
       "    </tr>\n",
       "    <tr>\n",
       "      <th>1</th>\n",
       "      <td>Foreign Nationals in Employment</td>\n",
       "      <td>All nationalities</td>\n",
       "      <td>Both sexes</td>\n",
       "      <td>Agriculture, forestry and fishing (A)</td>\n",
       "      <td>2006</td>\n",
       "      <td>Number</td>\n",
       "      <td>6032.0</td>\n",
       "    </tr>\n",
       "    <tr>\n",
       "      <th>2</th>\n",
       "      <td>Foreign Nationals in Employment</td>\n",
       "      <td>All nationalities</td>\n",
       "      <td>Both sexes</td>\n",
       "      <td>Agriculture, forestry and fishing (A)</td>\n",
       "      <td>2007</td>\n",
       "      <td>Number</td>\n",
       "      <td>6705.0</td>\n",
       "    </tr>\n",
       "    <tr>\n",
       "      <th>3</th>\n",
       "      <td>Foreign Nationals in Employment</td>\n",
       "      <td>All nationalities</td>\n",
       "      <td>Both sexes</td>\n",
       "      <td>Agriculture, forestry and fishing (A)</td>\n",
       "      <td>2008</td>\n",
       "      <td>Number</td>\n",
       "      <td>6863.0</td>\n",
       "    </tr>\n",
       "    <tr>\n",
       "      <th>4</th>\n",
       "      <td>Foreign Nationals in Employment</td>\n",
       "      <td>All nationalities</td>\n",
       "      <td>Both sexes</td>\n",
       "      <td>Agriculture, forestry and fishing (A)</td>\n",
       "      <td>2009</td>\n",
       "      <td>Number</td>\n",
       "      <td>6154.0</td>\n",
       "    </tr>\n",
       "  </tbody>\n",
       "</table>\n",
       "</div>"
      ],
      "text/plain": [
       "                   Statistic Label Broad Nationality Group         Sex  \\\n",
       "0  Foreign Nationals in Employment       All nationalities  Both sexes   \n",
       "1  Foreign Nationals in Employment       All nationalities  Both sexes   \n",
       "2  Foreign Nationals in Employment       All nationalities  Both sexes   \n",
       "3  Foreign Nationals in Employment       All nationalities  Both sexes   \n",
       "4  Foreign Nationals in Employment       All nationalities  Both sexes   \n",
       "\n",
       "              Industry Sector NACE Rev 2  Year    UNIT   VALUE  \n",
       "0  Agriculture, forestry and fishing (A)  2005  Number  5116.0  \n",
       "1  Agriculture, forestry and fishing (A)  2006  Number  6032.0  \n",
       "2  Agriculture, forestry and fishing (A)  2007  Number  6705.0  \n",
       "3  Agriculture, forestry and fishing (A)  2008  Number  6863.0  \n",
       "4  Agriculture, forestry and fishing (A)  2009  Number  6154.0  "
      ]
     },
     "execution_count": 4,
     "metadata": {},
     "output_type": "execute_result"
    }
   ],
   "source": [
    "fn_in_employment.head()"
   ]
  },
  {
   "cell_type": "code",
   "execution_count": 5,
   "id": "5dda62fe",
   "metadata": {},
   "outputs": [
    {
     "data": {
      "text/html": [
       "<div>\n",
       "<style scoped>\n",
       "    .dataframe tbody tr th:only-of-type {\n",
       "        vertical-align: middle;\n",
       "    }\n",
       "\n",
       "    .dataframe tbody tr th {\n",
       "        vertical-align: top;\n",
       "    }\n",
       "\n",
       "    .dataframe thead th {\n",
       "        text-align: right;\n",
       "    }\n",
       "</style>\n",
       "<table border=\"1\" class=\"dataframe\">\n",
       "  <thead>\n",
       "    <tr style=\"text-align: right;\">\n",
       "      <th></th>\n",
       "      <th>Year</th>\n",
       "      <th>VALUE</th>\n",
       "    </tr>\n",
       "  </thead>\n",
       "  <tbody>\n",
       "    <tr>\n",
       "      <th>count</th>\n",
       "      <td>2499.00000</td>\n",
       "      <td>1370.000000</td>\n",
       "    </tr>\n",
       "    <tr>\n",
       "      <th>mean</th>\n",
       "      <td>2010.00000</td>\n",
       "      <td>10411.219708</td>\n",
       "    </tr>\n",
       "    <tr>\n",
       "      <th>std</th>\n",
       "      <td>4.89996</td>\n",
       "      <td>19218.666055</td>\n",
       "    </tr>\n",
       "    <tr>\n",
       "      <th>min</th>\n",
       "      <td>2002.00000</td>\n",
       "      <td>1.000000</td>\n",
       "    </tr>\n",
       "    <tr>\n",
       "      <th>25%</th>\n",
       "      <td>2006.00000</td>\n",
       "      <td>608.500000</td>\n",
       "    </tr>\n",
       "    <tr>\n",
       "      <th>50%</th>\n",
       "      <td>2010.00000</td>\n",
       "      <td>3551.000000</td>\n",
       "    </tr>\n",
       "    <tr>\n",
       "      <th>75%</th>\n",
       "      <td>2014.00000</td>\n",
       "      <td>10706.500000</td>\n",
       "    </tr>\n",
       "    <tr>\n",
       "      <th>max</th>\n",
       "      <td>2018.00000</td>\n",
       "      <td>200450.000000</td>\n",
       "    </tr>\n",
       "  </tbody>\n",
       "</table>\n",
       "</div>"
      ],
      "text/plain": [
       "             Year          VALUE\n",
       "count  2499.00000    1370.000000\n",
       "mean   2010.00000   10411.219708\n",
       "std       4.89996   19218.666055\n",
       "min    2002.00000       1.000000\n",
       "25%    2006.00000     608.500000\n",
       "50%    2010.00000    3551.000000\n",
       "75%    2014.00000   10706.500000\n",
       "max    2018.00000  200450.000000"
      ]
     },
     "execution_count": 5,
     "metadata": {},
     "output_type": "execute_result"
    }
   ],
   "source": [
    "fn_employment.describe()"
   ]
  },
  {
   "cell_type": "code",
   "execution_count": null,
   "id": "e84fb000",
   "metadata": {},
   "outputs": [],
   "source": []
  }
 ],
 "metadata": {
  "kernelspec": {
   "display_name": "Python 3 (ipykernel)",
   "language": "python",
   "name": "python3"
  },
  "language_info": {
   "codemirror_mode": {
    "name": "ipython",
    "version": 3
   },
   "file_extension": ".py",
   "mimetype": "text/x-python",
   "name": "python",
   "nbconvert_exporter": "python",
   "pygments_lexer": "ipython3",
   "version": "3.11.5"
  }
 },
 "nbformat": 4,
 "nbformat_minor": 5
}
